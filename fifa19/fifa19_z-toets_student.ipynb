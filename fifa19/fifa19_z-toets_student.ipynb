{
 "cells": [
  {
   "cell_type": "markdown",
   "metadata": {},
   "source": [
    "# Z-toets FIFA 19"
   ]
  },
  {
   "cell_type": "markdown",
   "metadata": {},
   "source": [
    "<b>*Een voetbalcommentator beweert dat de potentie van de huidige generatie Engelse spelers sterk verschilt van spelers uit de rest van de wereld.*</b>\n",
    "\n",
    "Onderzoek met de dataset of de commentator gelijk heeft. Neem een steekproef van 100 Engelse spelers en beschouw de hele dataset als populatie. Kies als betrouwbaarheid 95%."
   ]
  },
  {
   "cell_type": "code",
   "execution_count": 1,
   "metadata": {
    "pycharm": {
     "is_executing": false
    },
    "tags": [
     "student"
    ]
   },
   "outputs": [],
   "source": [
    "# imports\n",
    "import numpy as np\n",
    "import pandas as pd\n",
    "import matplotlib.pyplot as plt\n",
    "import scipy.stats as stats\n",
    "import scipy as sp"
   ]
  },
  {
   "cell_type": "markdown",
   "metadata": {
    "tags": [
     "student"
    ]
   },
   "source": [
    " Onze gekozen CSV-file dataset inladen: <br>\n",
    "- fifa19.csv\n",
    "\n",
    "De dataset bevat: <br>\n",
    "1. Alle spelers uit FIFA 19.\n",
    "2. Speelpositie en fysieke eigenschappen.\n",
    "3. Persoonlijke spelersinformatie (bijv. nationaliteit, club, leeftijd, salaris etc.)."
   ]
  },
  {
   "cell_type": "markdown",
   "metadata": {},
   "source": [
    "#### 1. Stel hypothesen op\n",
    "\n",
    "H0: Er is geen verschil ($\\mu_{potentieEng} = \\mu_{populatie}$)\n",
    "\n",
    "H1: Er is een verschil ($\\mu_{potentieEng} \\ne \\mu_{populatie}$)\n",
    "\n",
    "Er is sprake van een _tweezijdige_ toets."
   ]
  },
  {
   "cell_type": "code",
   "execution_count": 2,
   "metadata": {
    "tags": [
     "student"
    ]
   },
   "outputs": [],
   "source": [
    "fifa_source = pd.read_csv('source/fifa19.csv', index_col=0)"
   ]
  },
  {
   "cell_type": "markdown",
   "metadata": {},
   "source": [
    "#### 2. Bereken de steekproefstatistieken"
   ]
  },
  {
   "cell_type": "markdown",
   "metadata": {
    "tags": [
     "student"
    ]
   },
   "source": [
    "Alleen de <b>engelse</b> spelers uit de dataset filteren:"
   ]
  },
  {
   "cell_type": "code",
   "execution_count": 3,
   "metadata": {
    "tags": [
     "student"
    ]
   },
   "outputs": [
    {
     "data": {
      "text/html": [
       "<div>\n",
       "<style scoped>\n",
       "    .dataframe tbody tr th:only-of-type {\n",
       "        vertical-align: middle;\n",
       "    }\n",
       "\n",
       "    .dataframe tbody tr th {\n",
       "        vertical-align: top;\n",
       "    }\n",
       "\n",
       "    .dataframe thead th {\n",
       "        text-align: right;\n",
       "    }\n",
       "</style>\n",
       "<table border=\"1\" class=\"dataframe\">\n",
       "  <thead>\n",
       "    <tr style=\"text-align: right;\">\n",
       "      <th></th>\n",
       "      <th>ID</th>\n",
       "      <th>Name</th>\n",
       "      <th>Age</th>\n",
       "      <th>Photo</th>\n",
       "      <th>Nationality</th>\n",
       "      <th>Flag</th>\n",
       "      <th>Overall</th>\n",
       "      <th>Potential</th>\n",
       "      <th>Club</th>\n",
       "      <th>Club Logo</th>\n",
       "      <th>...</th>\n",
       "      <th>Composure</th>\n",
       "      <th>Marking</th>\n",
       "      <th>StandingTackle</th>\n",
       "      <th>SlidingTackle</th>\n",
       "      <th>GKDiving</th>\n",
       "      <th>GKHandling</th>\n",
       "      <th>GKKicking</th>\n",
       "      <th>GKPositioning</th>\n",
       "      <th>GKReflexes</th>\n",
       "      <th>Release Clause</th>\n",
       "    </tr>\n",
       "  </thead>\n",
       "  <tbody>\n",
       "    <tr>\n",
       "      <td>16</td>\n",
       "      <td>202126</td>\n",
       "      <td>H. Kane</td>\n",
       "      <td>24</td>\n",
       "      <td>https://cdn.sofifa.org/players/4/19/202126.png</td>\n",
       "      <td>England</td>\n",
       "      <td>https://cdn.sofifa.org/flags/14.png</td>\n",
       "      <td>89</td>\n",
       "      <td>91</td>\n",
       "      <td>Tottenham Hotspur</td>\n",
       "      <td>https://cdn.sofifa.org/teams/2/light/18.png</td>\n",
       "      <td>...</td>\n",
       "      <td>89.0</td>\n",
       "      <td>56.0</td>\n",
       "      <td>36.0</td>\n",
       "      <td>38.0</td>\n",
       "      <td>8.0</td>\n",
       "      <td>10.0</td>\n",
       "      <td>11.0</td>\n",
       "      <td>14.0</td>\n",
       "      <td>11.0</td>\n",
       "      <td>€160.7M</td>\n",
       "    </tr>\n",
       "    <tr>\n",
       "      <td>60</td>\n",
       "      <td>202652</td>\n",
       "      <td>R. Sterling</td>\n",
       "      <td>23</td>\n",
       "      <td>https://cdn.sofifa.org/players/4/19/202652.png</td>\n",
       "      <td>England</td>\n",
       "      <td>https://cdn.sofifa.org/flags/14.png</td>\n",
       "      <td>86</td>\n",
       "      <td>89</td>\n",
       "      <td>Manchester City</td>\n",
       "      <td>https://cdn.sofifa.org/teams/2/light/10.png</td>\n",
       "      <td>...</td>\n",
       "      <td>77.0</td>\n",
       "      <td>47.0</td>\n",
       "      <td>58.0</td>\n",
       "      <td>54.0</td>\n",
       "      <td>15.0</td>\n",
       "      <td>12.0</td>\n",
       "      <td>12.0</td>\n",
       "      <td>15.0</td>\n",
       "      <td>9.0</td>\n",
       "      <td>€108.8M</td>\n",
       "    </tr>\n",
       "    <tr>\n",
       "      <td>117</td>\n",
       "      <td>211117</td>\n",
       "      <td>D. Alli</td>\n",
       "      <td>22</td>\n",
       "      <td>https://cdn.sofifa.org/players/4/19/211117.png</td>\n",
       "      <td>England</td>\n",
       "      <td>https://cdn.sofifa.org/flags/14.png</td>\n",
       "      <td>84</td>\n",
       "      <td>90</td>\n",
       "      <td>Tottenham Hotspur</td>\n",
       "      <td>https://cdn.sofifa.org/teams/2/light/18.png</td>\n",
       "      <td>...</td>\n",
       "      <td>86.0</td>\n",
       "      <td>70.0</td>\n",
       "      <td>70.0</td>\n",
       "      <td>63.0</td>\n",
       "      <td>7.0</td>\n",
       "      <td>6.0</td>\n",
       "      <td>9.0</td>\n",
       "      <td>11.0</td>\n",
       "      <td>8.0</td>\n",
       "      <td>€87.1M</td>\n",
       "    </tr>\n",
       "    <tr>\n",
       "      <td>135</td>\n",
       "      <td>188377</td>\n",
       "      <td>K. Walker</td>\n",
       "      <td>28</td>\n",
       "      <td>https://cdn.sofifa.org/players/4/19/188377.png</td>\n",
       "      <td>England</td>\n",
       "      <td>https://cdn.sofifa.org/flags/14.png</td>\n",
       "      <td>84</td>\n",
       "      <td>84</td>\n",
       "      <td>Manchester City</td>\n",
       "      <td>https://cdn.sofifa.org/teams/2/light/10.png</td>\n",
       "      <td>...</td>\n",
       "      <td>75.0</td>\n",
       "      <td>78.0</td>\n",
       "      <td>84.0</td>\n",
       "      <td>83.0</td>\n",
       "      <td>12.0</td>\n",
       "      <td>6.0</td>\n",
       "      <td>16.0</td>\n",
       "      <td>15.0</td>\n",
       "      <td>8.0</td>\n",
       "      <td>€45.3M</td>\n",
       "    </tr>\n",
       "    <tr>\n",
       "      <td>180</td>\n",
       "      <td>204935</td>\n",
       "      <td>J. Pickford</td>\n",
       "      <td>24</td>\n",
       "      <td>https://cdn.sofifa.org/players/4/19/204935.png</td>\n",
       "      <td>England</td>\n",
       "      <td>https://cdn.sofifa.org/flags/14.png</td>\n",
       "      <td>83</td>\n",
       "      <td>88</td>\n",
       "      <td>Everton</td>\n",
       "      <td>https://cdn.sofifa.org/teams/2/light/7.png</td>\n",
       "      <td>...</td>\n",
       "      <td>69.0</td>\n",
       "      <td>16.0</td>\n",
       "      <td>20.0</td>\n",
       "      <td>12.0</td>\n",
       "      <td>83.0</td>\n",
       "      <td>78.0</td>\n",
       "      <td>88.0</td>\n",
       "      <td>81.0</td>\n",
       "      <td>86.0</td>\n",
       "      <td>€49.4M</td>\n",
       "    </tr>\n",
       "    <tr>\n",
       "      <td>182</td>\n",
       "      <td>203574</td>\n",
       "      <td>J. Stones</td>\n",
       "      <td>24</td>\n",
       "      <td>https://cdn.sofifa.org/players/4/19/203574.png</td>\n",
       "      <td>England</td>\n",
       "      <td>https://cdn.sofifa.org/flags/14.png</td>\n",
       "      <td>83</td>\n",
       "      <td>87</td>\n",
       "      <td>Manchester City</td>\n",
       "      <td>https://cdn.sofifa.org/teams/2/light/10.png</td>\n",
       "      <td>...</td>\n",
       "      <td>80.0</td>\n",
       "      <td>85.0</td>\n",
       "      <td>85.0</td>\n",
       "      <td>82.0</td>\n",
       "      <td>7.0</td>\n",
       "      <td>15.0</td>\n",
       "      <td>11.0</td>\n",
       "      <td>10.0</td>\n",
       "      <td>8.0</td>\n",
       "      <td>€54.9M</td>\n",
       "    </tr>\n",
       "    <tr>\n",
       "      <td>251</td>\n",
       "      <td>208830</td>\n",
       "      <td>J. Vardy</td>\n",
       "      <td>31</td>\n",
       "      <td>https://cdn.sofifa.org/players/4/19/208830.png</td>\n",
       "      <td>England</td>\n",
       "      <td>https://cdn.sofifa.org/flags/14.png</td>\n",
       "      <td>82</td>\n",
       "      <td>82</td>\n",
       "      <td>Leicester City</td>\n",
       "      <td>https://cdn.sofifa.org/teams/2/light/95.png</td>\n",
       "      <td>...</td>\n",
       "      <td>82.0</td>\n",
       "      <td>56.0</td>\n",
       "      <td>52.0</td>\n",
       "      <td>51.0</td>\n",
       "      <td>15.0</td>\n",
       "      <td>14.0</td>\n",
       "      <td>7.0</td>\n",
       "      <td>15.0</td>\n",
       "      <td>11.0</td>\n",
       "      <td>€38M</td>\n",
       "    </tr>\n",
       "    <tr>\n",
       "      <td>254</td>\n",
       "      <td>207494</td>\n",
       "      <td>J. Lingard</td>\n",
       "      <td>25</td>\n",
       "      <td>https://cdn.sofifa.org/players/4/19/207494.png</td>\n",
       "      <td>England</td>\n",
       "      <td>https://cdn.sofifa.org/flags/14.png</td>\n",
       "      <td>82</td>\n",
       "      <td>83</td>\n",
       "      <td>Manchester United</td>\n",
       "      <td>https://cdn.sofifa.org/teams/2/light/11.png</td>\n",
       "      <td>...</td>\n",
       "      <td>84.0</td>\n",
       "      <td>65.0</td>\n",
       "      <td>50.0</td>\n",
       "      <td>44.0</td>\n",
       "      <td>14.0</td>\n",
       "      <td>10.0</td>\n",
       "      <td>8.0</td>\n",
       "      <td>13.0</td>\n",
       "      <td>9.0</td>\n",
       "      <td>€51M</td>\n",
       "    </tr>\n",
       "    <tr>\n",
       "      <td>259</td>\n",
       "      <td>203263</td>\n",
       "      <td>H. Maguire</td>\n",
       "      <td>25</td>\n",
       "      <td>https://cdn.sofifa.org/players/4/19/203263.png</td>\n",
       "      <td>England</td>\n",
       "      <td>https://cdn.sofifa.org/flags/14.png</td>\n",
       "      <td>82</td>\n",
       "      <td>85</td>\n",
       "      <td>Leicester City</td>\n",
       "      <td>https://cdn.sofifa.org/teams/2/light/95.png</td>\n",
       "      <td>...</td>\n",
       "      <td>79.0</td>\n",
       "      <td>81.0</td>\n",
       "      <td>84.0</td>\n",
       "      <td>81.0</td>\n",
       "      <td>14.0</td>\n",
       "      <td>16.0</td>\n",
       "      <td>9.0</td>\n",
       "      <td>14.0</td>\n",
       "      <td>9.0</td>\n",
       "      <td>€46.4M</td>\n",
       "    </tr>\n",
       "    <tr>\n",
       "      <td>290</td>\n",
       "      <td>186345</td>\n",
       "      <td>K. Trippier</td>\n",
       "      <td>27</td>\n",
       "      <td>https://cdn.sofifa.org/players/4/19/186345.png</td>\n",
       "      <td>England</td>\n",
       "      <td>https://cdn.sofifa.org/flags/14.png</td>\n",
       "      <td>82</td>\n",
       "      <td>82</td>\n",
       "      <td>Tottenham Hotspur</td>\n",
       "      <td>https://cdn.sofifa.org/teams/2/light/18.png</td>\n",
       "      <td>...</td>\n",
       "      <td>73.0</td>\n",
       "      <td>77.0</td>\n",
       "      <td>82.0</td>\n",
       "      <td>79.0</td>\n",
       "      <td>11.0</td>\n",
       "      <td>14.0</td>\n",
       "      <td>8.0</td>\n",
       "      <td>11.0</td>\n",
       "      <td>10.0</td>\n",
       "      <td>€34.2M</td>\n",
       "    </tr>\n",
       "  </tbody>\n",
       "</table>\n",
       "<p>10 rows × 88 columns</p>\n",
       "</div>"
      ],
      "text/plain": [
       "         ID         Name  Age                                           Photo  \\\n",
       "16   202126      H. Kane   24  https://cdn.sofifa.org/players/4/19/202126.png   \n",
       "60   202652  R. Sterling   23  https://cdn.sofifa.org/players/4/19/202652.png   \n",
       "117  211117      D. Alli   22  https://cdn.sofifa.org/players/4/19/211117.png   \n",
       "135  188377    K. Walker   28  https://cdn.sofifa.org/players/4/19/188377.png   \n",
       "180  204935  J. Pickford   24  https://cdn.sofifa.org/players/4/19/204935.png   \n",
       "182  203574    J. Stones   24  https://cdn.sofifa.org/players/4/19/203574.png   \n",
       "251  208830     J. Vardy   31  https://cdn.sofifa.org/players/4/19/208830.png   \n",
       "254  207494   J. Lingard   25  https://cdn.sofifa.org/players/4/19/207494.png   \n",
       "259  203263   H. Maguire   25  https://cdn.sofifa.org/players/4/19/203263.png   \n",
       "290  186345  K. Trippier   27  https://cdn.sofifa.org/players/4/19/186345.png   \n",
       "\n",
       "    Nationality                                 Flag  Overall  Potential  \\\n",
       "16      England  https://cdn.sofifa.org/flags/14.png       89         91   \n",
       "60      England  https://cdn.sofifa.org/flags/14.png       86         89   \n",
       "117     England  https://cdn.sofifa.org/flags/14.png       84         90   \n",
       "135     England  https://cdn.sofifa.org/flags/14.png       84         84   \n",
       "180     England  https://cdn.sofifa.org/flags/14.png       83         88   \n",
       "182     England  https://cdn.sofifa.org/flags/14.png       83         87   \n",
       "251     England  https://cdn.sofifa.org/flags/14.png       82         82   \n",
       "254     England  https://cdn.sofifa.org/flags/14.png       82         83   \n",
       "259     England  https://cdn.sofifa.org/flags/14.png       82         85   \n",
       "290     England  https://cdn.sofifa.org/flags/14.png       82         82   \n",
       "\n",
       "                  Club                                    Club Logo  ...  \\\n",
       "16   Tottenham Hotspur  https://cdn.sofifa.org/teams/2/light/18.png  ...   \n",
       "60     Manchester City  https://cdn.sofifa.org/teams/2/light/10.png  ...   \n",
       "117  Tottenham Hotspur  https://cdn.sofifa.org/teams/2/light/18.png  ...   \n",
       "135    Manchester City  https://cdn.sofifa.org/teams/2/light/10.png  ...   \n",
       "180            Everton   https://cdn.sofifa.org/teams/2/light/7.png  ...   \n",
       "182    Manchester City  https://cdn.sofifa.org/teams/2/light/10.png  ...   \n",
       "251     Leicester City  https://cdn.sofifa.org/teams/2/light/95.png  ...   \n",
       "254  Manchester United  https://cdn.sofifa.org/teams/2/light/11.png  ...   \n",
       "259     Leicester City  https://cdn.sofifa.org/teams/2/light/95.png  ...   \n",
       "290  Tottenham Hotspur  https://cdn.sofifa.org/teams/2/light/18.png  ...   \n",
       "\n",
       "    Composure Marking  StandingTackle SlidingTackle  GKDiving  GKHandling  \\\n",
       "16       89.0    56.0            36.0          38.0       8.0        10.0   \n",
       "60       77.0    47.0            58.0          54.0      15.0        12.0   \n",
       "117      86.0    70.0            70.0          63.0       7.0         6.0   \n",
       "135      75.0    78.0            84.0          83.0      12.0         6.0   \n",
       "180      69.0    16.0            20.0          12.0      83.0        78.0   \n",
       "182      80.0    85.0            85.0          82.0       7.0        15.0   \n",
       "251      82.0    56.0            52.0          51.0      15.0        14.0   \n",
       "254      84.0    65.0            50.0          44.0      14.0        10.0   \n",
       "259      79.0    81.0            84.0          81.0      14.0        16.0   \n",
       "290      73.0    77.0            82.0          79.0      11.0        14.0   \n",
       "\n",
       "     GKKicking GKPositioning GKReflexes Release Clause  \n",
       "16        11.0          14.0       11.0        €160.7M  \n",
       "60        12.0          15.0        9.0        €108.8M  \n",
       "117        9.0          11.0        8.0         €87.1M  \n",
       "135       16.0          15.0        8.0         €45.3M  \n",
       "180       88.0          81.0       86.0         €49.4M  \n",
       "182       11.0          10.0        8.0         €54.9M  \n",
       "251        7.0          15.0       11.0           €38M  \n",
       "254        8.0          13.0        9.0           €51M  \n",
       "259        9.0          14.0        9.0         €46.4M  \n",
       "290        8.0          11.0       10.0         €34.2M  \n",
       "\n",
       "[10 rows x 88 columns]"
      ]
     },
     "execution_count": 3,
     "metadata": {},
     "output_type": "execute_result"
    }
   ],
   "source": [
    "all_english_players = fifa_source.loc[fifa_source['Nationality'] == 'England']\n",
    "all_english_players.head(10)"
   ]
  },
  {
   "cell_type": "markdown",
   "metadata": {
    "tags": [
     "student"
    ]
   },
   "source": [
    "Onze gefilterde dataset:\n",
    "- Bevat 1662 rijen (dus <b>1662 engelse spelers</b>)"
   ]
  },
  {
   "cell_type": "code",
   "execution_count": 4,
   "metadata": {
    "tags": [
     "student"
    ]
   },
   "outputs": [
    {
     "data": {
      "text/plain": [
       "1662"
      ]
     },
     "execution_count": 4,
     "metadata": {},
     "output_type": "execute_result"
    }
   ],
   "source": [
    "all_english_players.shape[0]"
   ]
  },
  {
   "cell_type": "markdown",
   "metadata": {
    "tags": [
     "student"
    ]
   },
   "source": [
    "Voor onze steekproef zijn <b>100 Engelse spelers</b> nodig:\n",
    "- wordt gebruik gemaakt van .sample(), zodat er altijd random 100 spelers worden gekozen."
   ]
  },
  {
   "cell_type": "code",
   "execution_count": 5,
   "metadata": {
    "tags": [
     "student"
    ]
   },
   "outputs": [],
   "source": [
    "hundred_random_players = all_english_players.sample(100)"
   ]
  },
  {
   "cell_type": "markdown",
   "metadata": {
    "tags": [
     "student"
    ]
   },
   "source": [
    "Berekenen van column <b>Potential</b>:\n",
    "- steekproefgemiddelde <b>(x_)</b>\n",
    "- steekproefstandaardafwijking <b>(s)</b>\n",
    "- populatiegemiddelde <b>(s)</b>\n",
    "- standaardfout <b>(se)</b>"
   ]
  },
  {
   "cell_type": "code",
   "execution_count": 6,
   "metadata": {},
   "outputs": [
    {
     "name": "stdout",
     "output_type": "stream",
     "text": [
      "Steekproefgrootte n = 100\n",
      "Steekproefgemiddelde x_ = 70.22\n",
      "Steekproefstandaardafwijking s = 6.49\n",
      "\n",
      "Populatiegemiddelde = 71.31\n"
     ]
    }
   ],
   "source": [
    "n = hundred_random_players.shape[0]\n",
    "print(\"Steekproefgrootte n = {}\".format(n))\n",
    "x_ = np.mean(hundred_random_players['Potential'])\n",
    "print(\"Steekproefgemiddelde x_ = {:.2f}\".format(x_))\n",
    "s = hundred_random_players['Potential'].std()\n",
    "print(\"Steekproefstandaardafwijking s = {:.2f}\\n\".format(s))\n",
    "\n",
    "mu = np.mean(fifa_source['Potential'])\n",
    "print(\"Populatiegemiddelde = {:.2f}\".format(mu))\n",
    "\n",
    "# n = fifa_source['ID'].size\n",
    "# print(\"Populatiegrootte n = {}\".format(n))\n",
    "# sigma = np.std(fifa_source['Potential'])\n",
    "# print(\"Standaardafwijking populatie = {:.2f}\".format(sigma))\n",
    "# mu = np.mean(fifa_source['Potential'])\n",
    "# print(\"Gemiddelde populatie = {:.2f}\".format(mu))\n",
    "\n"
   ]
  },
  {
   "cell_type": "code",
   "execution_count": 7,
   "metadata": {},
   "outputs": [
    {
     "name": "stdout",
     "output_type": "stream",
     "text": [
      "Standaardfout se = 0.65\n"
     ]
    }
   ],
   "source": [
    "se = s/np.sqrt(n)\n",
    "print(\"Standaardfout se = {:.2f}\".format(se))"
   ]
  },
  {
   "cell_type": "markdown",
   "metadata": {},
   "source": [
    "#### 3. Bepaal de foutmarge\n",
    "\n",
    "Betrouwbaarheid moet 95% zijn"
   ]
  },
  {
   "cell_type": "code",
   "execution_count": 8,
   "metadata": {},
   "outputs": [
    {
     "name": "stdout",
     "output_type": "stream",
     "text": [
      "De grens z_waarde is 1.96\n",
      "Het betrouwbaarheidsinterval is 70.04 < IQ < 72.58 \n"
     ]
    }
   ],
   "source": [
    "alpha = 0.05\n",
    "\n",
    "z_grens = stats.norm.ppf(1-(alpha/2))\n",
    "print(\"De grens z_waarde is {:.2f}\".format(z_grens))\n",
    "\n",
    "\n",
    "l_grens = mu - z_grens * se\n",
    "r_grens = mu + z_grens * se\n",
    "print(\"Het betrouwbaarheidsinterval is {:.2f} < IQ < {:.2f} \".format(l_grens, r_grens))\n"
   ]
  },
  {
   "cell_type": "markdown",
   "metadata": {},
   "source": [
    "#### 4. Bereken z-waarde en p-waarde (maak een schets)"
   ]
  },
  {
   "cell_type": "code",
   "execution_count": 9,
   "metadata": {},
   "outputs": [
    {
     "data": {
      "text/plain": [
       "[<matplotlib.lines.Line2D at 0x1d3709f42c8>]"
      ]
     },
     "execution_count": 9,
     "metadata": {},
     "output_type": "execute_result"
    },
    {
     "data": {
      "image/png": "[encoded data removed]",
      "text/plain": [
       "<Figure size 960x480 with 1 Axes>"
      ]
     },
     "metadata": {
      "needs_background": "light"
     },
     "output_type": "display_data"
    }
   ],
   "source": [
    "# Schets de verdeling \n",
    "x = np.linspace(60,80,500)\n",
    "nv = stats.norm(loc=mu, scale=se)   \n",
    "y = nv.pdf(x)\n",
    "\n",
    "plt.figure(figsize=(12,6), dpi=80)\n",
    "plt.plot(x,y)\n",
    "# plt.fill_between(x, y, facecolor='blue', where=(x>r_grens))\n",
    "# plt.fill_between(x, y, facecolor='green', where=(x<l_grens))\n",
    "plt.fill_between(x, y, where=sp.logical_or(x<l_grens, x>r_grens))\n",
    "\n",
    "# plaats van het steekproefgemiddelde\n",
    "plt.plot([x_,x_],[0,0.5])"
   ]
  },
  {
   "cell_type": "code",
   "execution_count": 10,
   "metadata": {},
   "outputs": [
    {
     "name": "stdout",
     "output_type": "stream",
     "text": [
      "De z-waarde (rechts) z = -1.68\n",
      "De p-waarde p = 1.91, (werkelijk 1.9060835549142663)\n"
     ]
    }
   ],
   "source": [
    "# Bereken z-waarde\n",
    "z = (x_ - mu)/se\n",
    "print(\"De z-waarde (rechts) z = {:.2f}\".format(z))\n",
    "\n",
    "# Bereken p-waarde\n",
    "p = stats.norm.cdf(-z)*2\n",
    "print(\"De p-waarde p = {:.2f}, (werkelijk {})\".format(p,p))"
   ]
  },
  {
   "cell_type": "markdown",
   "metadata": {},
   "source": [
    "<b>5. Conclusie</b>"
   ]
  },
  {
   "cell_type": "code",
   "execution_count": 13,
   "metadata": {},
   "outputs": [
    {
     "name": "stdout",
     "output_type": "stream",
     "text": [
      "Er geldt dat p = 1.91 < 0.05\n"
     ]
    }
   ],
   "source": [
    "print(\"Er geldt dat p = {:.2f} < {}\".format(p,alpha))"
   ]
  },
  {
   "cell_type": "markdown",
   "metadata": {},
   "source": [
    "Er geldt dat $p = 1.70 > \\alpha = 0.05$.\n",
    "Dat p = 1.70 betekent dat deze uitkomst door toeval plaats heeft kunnen vinden, \n",
    "dus we verwerpen $H_1$ en aanvaarden $H_0$: er is dus een geen significant verschil tussen de potentie van de Engelse speler t.o.v. de rest van de wereld."
   ]
  },
  {
   "cell_type": "code",
   "execution_count": null,
   "metadata": {},
   "outputs": [],
   "source": []
  }
 ],
 "metadata": {
  "celltoolbar": "Tags",
  "kernelspec": {
   "display_name": "Python 3",
   "language": "python",
   "name": "python3"
  },
  "language_info": {
   "codemirror_mode": {
    "name": "ipython",
    "version": 3
   },
   "file_extension": ".py",
   "mimetype": "text/x-python",
   "name": "python",
   "nbconvert_exporter": "python",
   "pygments_lexer": "ipython3",
   "version": "3.7.4"
  },
  "pycharm": {
   "stem_cell": {
    "cell_type": "raw",
    "metadata": {
     "collapsed": false
    },
    "source": []
   }
  }
 },
 "nbformat": 4,
 "nbformat_minor": 2
}
