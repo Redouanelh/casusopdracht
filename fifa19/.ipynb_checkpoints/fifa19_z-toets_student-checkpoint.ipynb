{
 "cells": [
  {
   "cell_type": "markdown",
   "metadata": {},
   "source": [
    "# Z-toets FIFA 19"
   ]
  },
  {
   "cell_type": "markdown",
   "metadata": {},
   "source": [
    "<b>*Een voetbalcommentator beweert dat de potentie van de huidige generatie Engelse spelers sterk verschilt van spelers uit de rest van de wereld.*</b>\n",
    "\n",
    "Onderzoek met de dataset of de commentator gelijk heeft. Neem een steekproef van 100 Engelse spelers en beschouw de hele dataset als populatie. Kies als betrouwbaarheid 95%."
   ]
  },
  {
   "cell_type": "code",
   "execution_count": null,
   "metadata": {
    "pycharm": {
     "is_executing": false
    },
    "tags": [
     "student"
    ]
   },
   "outputs": [],
   "source": [
    "# imports\n",
    "import numpy as np\n",
    "import pandas as pd\n",
    "import matplotlib.pyplot as plt\n",
    "import scipy.stats as stats\n",
    "import scipy as sp"
   ]
  },
  {
   "cell_type": "markdown",
   "metadata": {
    "tags": [
     "student"
    ]
   },
   "source": [
    " Onze gekozen CSV-file dataset inladen: <br>\n",
    "- fifa19.csv\n",
    "\n",
    "De dataset bevat: <br>\n",
    "1. Alle spelers uit FIFA 19.\n",
    "2. Speelpositie en fysieke eigenschappen.\n",
    "3. Persoonlijke spelersinformatie (bijv. nationaliteit, club, leeftijd, salaris etc.)."
   ]
  },
  {
   "cell_type": "markdown",
   "metadata": {},
   "source": [
    "#### 1. Stel hypothesen op\n",
    "\n",
    "H0: Er is geen verschil ($\\mu_{potentieEng} = \\mu_{populatie}$)\n",
    "\n",
    "H1: Er is een verschil ($\\mu_{potentieEng} \\ne \\mu_{populatie}$)\n",
    "\n",
    "Er is sprake van een _tweezijdige_ toets."
   ]
  },
  {
   "cell_type": "code",
   "execution_count": null,
   "metadata": {
    "tags": [
     "student"
    ]
   },
   "outputs": [],
   "source": [
    "fifa_source = pd.read_csv('source/fifa19.csv', index_col=0)"
   ]
  },
  {
   "cell_type": "markdown",
   "metadata": {},
   "source": [
    "#### 2. Bereken de steekproefstatistieken"
   ]
  },
  {
   "cell_type": "markdown",
   "metadata": {
    "tags": [
     "student"
    ]
   },
   "source": [
    "Alleen de <b>engelse</b> spelers uit de dataset filteren:"
   ]
  },
  {
   "cell_type": "code",
   "execution_count": null,
   "metadata": {
    "tags": [
     "student"
    ]
   },
   "outputs": [],
   "source": [
    "all_english_players = fifa_source.loc[fifa_source['Nationality'] == 'England']\n",
    "all_english_players.head(10)"
   ]
  },
  {
   "cell_type": "markdown",
   "metadata": {
    "tags": [
     "student"
    ]
   },
   "source": [
    "Onze gefilterde dataset:\n",
    "- Bevat 1662 rijen (dus <b>1662 engelse spelers</b>)"
   ]
  },
  {
   "cell_type": "code",
   "execution_count": null,
   "metadata": {
    "tags": [
     "student"
    ]
   },
   "outputs": [],
   "source": [
    "all_english_players.shape[0]"
   ]
  },
  {
   "cell_type": "markdown",
   "metadata": {
    "tags": [
     "student"
    ]
   },
   "source": [
    "Voor onze steekproef zijn <b>100 Engelse spelers</b> nodig:\n",
    "- wordt gebruik gemaakt van .sample(), zodat er altijd random 100 spelers worden gekozen."
   ]
  },
  {
   "cell_type": "code",
   "execution_count": null,
   "metadata": {
    "tags": [
     "student"
    ]
   },
   "outputs": [],
   "source": [
    "hundred_random_players = all_english_players.sample(100)"
   ]
  },
  {
   "cell_type": "markdown",
   "metadata": {
    "tags": [
     "student"
    ]
   },
   "source": [
    "Berekenen van column <b>Potential</b>:\n",
    "- steekproefgemiddelde <b>(x_)</b>\n",
    "- steekproefstandaardafwijking <b>(s)</b>\n",
    "- populatiegemiddelde <b>(s)</b>\n",
    "- standaardfout <b>(se)</b>"
   ]
  },
  {
   "cell_type": "code",
   "execution_count": null,
   "metadata": {},
   "outputs": [],
   "source": [
    "n = hundred_random_players.shape[0]\n",
    "print(\"Steekproefgrootte n = {}\".format(n))\n",
    "x_ = np.mean(hundred_random_players['Potential'])\n",
    "print(\"Steekproefgemiddelde x_ = {:.2f}\".format(x_))\n",
    "s = hundred_random_players['Potential'].std()\n",
    "print(\"Steekproefstandaardafwijking s = {:.2f}\\n\".format(s))\n",
    "\n",
    "mu = np.mean(fifa_source['Potential'])\n",
    "print(\"Populatiegemiddelde = {:.2f}\".format(mu))\n",
    "\n",
    "# n = fifa_source['ID'].size\n",
    "# print(\"Populatiegrootte n = {}\".format(n))\n",
    "# sigma = np.std(fifa_source['Potential'])\n",
    "# print(\"Standaardafwijking populatie = {:.2f}\".format(sigma))\n",
    "# mu = np.mean(fifa_source['Potential'])\n",
    "# print(\"Gemiddelde populatie = {:.2f}\".format(mu))\n",
    "\n"
   ]
  },
  {
   "cell_type": "code",
   "execution_count": null,
   "metadata": {},
   "outputs": [],
   "source": [
    "se = s/np.sqrt(n)\n",
    "print(\"Standaardfout se = {:.2f}\".format(se))"
   ]
  },
  {
   "cell_type": "markdown",
   "metadata": {},
   "source": [
    "#### 3. Bepaal de foutmarge\n",
    "\n",
    "Betrouwbaarheid moet 95% zijn"
   ]
  },
  {
   "cell_type": "code",
   "execution_count": null,
   "metadata": {},
   "outputs": [],
   "source": [
    "alpha = 0.05\n",
    "\n",
    "z_grens = stats.norm.ppf(1-(alpha/2))\n",
    "print(\"De grens z_waarde is {:.2f}\".format(z_grens))\n",
    "\n",
    "\n",
    "l_grens = mu - z_grens * se\n",
    "r_grens = mu + z_grens * se\n",
    "print(\"Het betrouwbaarheidsinterval is {:.2f} < IQ < {:.2f} \".format(l_grens, r_grens))\n"
   ]
  },
  {
   "cell_type": "markdown",
   "metadata": {},
   "source": [
    "#### 4. Bereken z-waarde en p-waarde (maak een schets)"
   ]
  },
  {
   "cell_type": "code",
   "execution_count": null,
   "metadata": {},
   "outputs": [],
   "source": [
    "# Schets de verdeling \n",
    "x = np.linspace(60,80,500)\n",
    "nv = stats.norm(loc=mu, scale=se)   \n",
    "y = nv.pdf(x)\n",
    "\n",
    "plt.figure(figsize=(12,6), dpi=80)\n",
    "plt.plot(x,y)\n",
    "# plt.fill_between(x, y, facecolor='blue', where=(x>r_grens))\n",
    "# plt.fill_between(x, y, facecolor='green', where=(x<l_grens))\n",
    "plt.fill_between(x, y, where=sp.logical_or(x<l_grens, x>r_grens))\n",
    "\n",
    "# plaats van het steekproefgemiddelde\n",
    "plt.plot([x_,x_],[0,0.5])"
   ]
  },
  {
   "cell_type": "code",
   "execution_count": null,
   "metadata": {},
   "outputs": [],
   "source": [
    "# Bereken z-waarde\n",
    "z = (x_ - mu)/se\n",
    "print(\"De z-waarde (rechts) z = {:.2f}\".format(z))\n",
    "\n",
    "# Bereken p-waarde\n",
    "p = stats.norm.cdf(-z)*2\n",
    "print(\"De p-waarde p = {:.2f}, (werkelijk {})\".format(p,p))"
   ]
  },
  {
   "cell_type": "markdown",
   "metadata": {},
   "source": [
    "<b>5. Conclusie</b>"
   ]
  },
  {
   "cell_type": "code",
   "execution_count": null,
   "metadata": {},
   "outputs": [],
   "source": [
    "print(\"Er geldt dat p = {:.2f} < {}. Dat betekend dat er geen significant verschil in potentie zit tussen de Engelse spelers en\\nde rest van de wereld.\".format(p,alpha))"
   ]
  },
  {
   "cell_type": "code",
   "execution_count": null,
   "metadata": {},
   "outputs": [],
   "source": []
  }
 ],
 "metadata": {
  "celltoolbar": "Tags",
  "kernelspec": {
   "display_name": "Python 3",
   "language": "python",
   "name": "python3"
  },
  "language_info": {
   "codemirror_mode": {
    "name": "ipython",
    "version": 3
   },
   "file_extension": ".py",
   "mimetype": "text/x-python",
   "name": "python",
   "nbconvert_exporter": "python",
   "pygments_lexer": "ipython3",
   "version": "3.7.4"
  },
  "pycharm": {
   "stem_cell": {
    "cell_type": "raw",
    "metadata": {
     "collapsed": false
    },
    "source": []
   }
  }
 },
 "nbformat": 4,
 "nbformat_minor": 2
}
