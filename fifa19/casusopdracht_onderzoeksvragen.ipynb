{
 "cells": [
  {
   "cell_type": "markdown",
   "metadata": {
    "collapsed": true,
    "pycharm": {
     "name": "#%% md\n"
    }
   },
   "source": [
    "# Onderzoeksvragen en eerste verkenning: FIFA 19\n",
    "\n",
    "<b> Redouan el Hidraoui <br>\n",
    "Maurits Arissen <br>\n",
    "Eric Houdijk <br>\n",
    "V2A </b>\n",
    "\n",
    "Lever één Jupyter Notebook in met de volgende onderdelen:\n",
    "* een eerste verkenning en analyse van je dataset (stappen 1 tot en met 4 uit het data science proces);\n",
    "* drie concept-onderzoeksvragen;\n",
    "* een externe dataset (als bijlage in csv-formaat)."
   ]
  },
  {
   "cell_type": "markdown",
   "metadata": {
    "pycharm": {
     "name": "#%% md\n"
    }
   },
   "source": [
    "## Data collection\n",
    "\n",
    "*Data collection is al voor je gedaan, aangezien je een dataset krijgt toegewezen, \n",
    "waarbij de ruwe data al eerder is verzameld door derden.\n",
    "Je moet nog wel op zoek naar een externe dataset om je data mee uit te breiden. \n",
    "Deze data is echter ook al eerder voor je verzameld: je hoeft zelf geen dataverzameling te doen door bijvoorbeeld interviews te houden of sensoren uit te lezen.*\n",
    "Na deze stap is er sprake van <b>ruwe data</b>."
   ]
  },
  {
   "cell_type": "code",
   "execution_count": 1,
   "metadata": {
    "pycharm": {
     "name": "#%%\n",
     "is_executing": false
    }
   },
   "outputs": [],
   "source": [
    "# imports\n",
    "import numpy as np\n",
    "import pandas as pd\n",
    "import matplotlib.pyplot as plt\n"
   ]
  },
  {
   "cell_type": "markdown",
   "source": [
    "Onze gekozen CSV-file dataset inladen: <br>\n",
    "- fifa19.csv\n",
    "\n",
    "De dataset bevat: <br>\n",
    "1. Alle spelers uit FIFA 19.\n",
    "2. Speelpositie en fysieke eigenschappen.\n",
    "3. Persoonlijke spelersinformatie (bijv. nationaliteit, club, leeftijd, salaris etc.)."
   ],
   "metadata": {
    "collapsed": false,
    "pycharm": {
     "name": "#%% md\n"
    }
   }
  },
  {
   "cell_type": "code",
   "execution_count": 2,
   "metadata": {
    "pycharm": {
     "is_executing": false,
     "name": "#%%\n"
    }
   },
   "outputs": [],
   "source": [
    "fifa_source = pd.read_csv('source/fifa19.csv', index_col=0)"
   ]
  },
  {
   "cell_type": "markdown",
   "source": [
    "De grootte van onze dataset:\n",
    "- 8.71 MB\n",
    "- Bevat 18207 rijen (dus 18206 spelers, want de eerste rij bevat alle kolommen)"
   ],
   "metadata": {
    "collapsed": false,
    "pycharm": {
     "name": "#%% md\n"
    }
   }
  },
  {
   "cell_type": "code",
   "execution_count": 3,
   "metadata": {
    "pycharm": {
     "is_executing": false,
     "name": "#%%\n"
    }
   },
   "outputs": [
    {
     "data": {
      "text/plain": "18206"
     },
     "metadata": {},
     "output_type": "execute_result",
     "execution_count": 3
    }
   ],
   "source": [
    "rows_dataset = fifa_source.shape[0] - 1\n",
    "rows_dataset"
   ]
  },
  {
   "cell_type": "markdown",
   "source": [
    "Een aantal rijen als voorbeeld voor hoe de dataset eruit ziet:"
   ],
   "metadata": {
    "collapsed": false,
    "pycharm": {
     "name": "#%% md\n"
    }
   }
  },
  {
   "cell_type": "code",
   "execution_count": 4,
   "metadata": {
    "pycharm": {
     "is_executing": false,
     "name": "#%%\n"
    }
   },
   "outputs": [
    {
     "data": {
      "text/plain": "       ID               Name  Age  \\\n0  158023           L. Messi   31   \n1   20801  Cristiano Ronaldo   33   \n2  190871          Neymar Jr   26   \n3  193080             De Gea   27   \n4  192985       K. De Bruyne   27   \n5  183277          E. Hazard   27   \n6  177003          L. Modrić   32   \n7  176580          L. Suárez   31   \n8  155862       Sergio Ramos   32   \n9  200389           J. Oblak   25   \n\n                                            Photo Nationality  \\\n0  https://cdn.sofifa.org/players/4/19/158023.png   Argentina   \n1   https://cdn.sofifa.org/players/4/19/20801.png    Portugal   \n2  https://cdn.sofifa.org/players/4/19/190871.png      Brazil   \n3  https://cdn.sofifa.org/players/4/19/193080.png       Spain   \n4  https://cdn.sofifa.org/players/4/19/192985.png     Belgium   \n5  https://cdn.sofifa.org/players/4/19/183277.png     Belgium   \n6  https://cdn.sofifa.org/players/4/19/177003.png     Croatia   \n7  https://cdn.sofifa.org/players/4/19/176580.png     Uruguay   \n8  https://cdn.sofifa.org/players/4/19/155862.png       Spain   \n9  https://cdn.sofifa.org/players/4/19/200389.png    Slovenia   \n\n                                  Flag  Overall  Potential  \\\n0  https://cdn.sofifa.org/flags/52.png       94         94   \n1  https://cdn.sofifa.org/flags/38.png       94         94   \n2  https://cdn.sofifa.org/flags/54.png       92         93   \n3  https://cdn.sofifa.org/flags/45.png       91         93   \n4   https://cdn.sofifa.org/flags/7.png       91         92   \n5   https://cdn.sofifa.org/flags/7.png       91         91   \n6  https://cdn.sofifa.org/flags/10.png       91         91   \n7  https://cdn.sofifa.org/flags/60.png       91         91   \n8  https://cdn.sofifa.org/flags/45.png       91         91   \n9  https://cdn.sofifa.org/flags/44.png       90         93   \n\n                  Club                                     Club Logo  ...  \\\n0         FC Barcelona  https://cdn.sofifa.org/teams/2/light/241.png  ...   \n1             Juventus   https://cdn.sofifa.org/teams/2/light/45.png  ...   \n2  Paris Saint-Germain   https://cdn.sofifa.org/teams/2/light/73.png  ...   \n3    Manchester United   https://cdn.sofifa.org/teams/2/light/11.png  ...   \n4      Manchester City   https://cdn.sofifa.org/teams/2/light/10.png  ...   \n5              Chelsea    https://cdn.sofifa.org/teams/2/light/5.png  ...   \n6          Real Madrid  https://cdn.sofifa.org/teams/2/light/243.png  ...   \n7         FC Barcelona  https://cdn.sofifa.org/teams/2/light/241.png  ...   \n8          Real Madrid  https://cdn.sofifa.org/teams/2/light/243.png  ...   \n9      Atlético Madrid  https://cdn.sofifa.org/teams/2/light/240.png  ...   \n\n  Composure Marking  StandingTackle SlidingTackle  GKDiving  GKHandling  \\\n0      96.0    33.0            28.0          26.0       6.0        11.0   \n1      95.0    28.0            31.0          23.0       7.0        11.0   \n2      94.0    27.0            24.0          33.0       9.0         9.0   \n3      68.0    15.0            21.0          13.0      90.0        85.0   \n4      88.0    68.0            58.0          51.0      15.0        13.0   \n5      91.0    34.0            27.0          22.0      11.0        12.0   \n6      84.0    60.0            76.0          73.0      13.0         9.0   \n7      85.0    62.0            45.0          38.0      27.0        25.0   \n8      82.0    87.0            92.0          91.0      11.0         8.0   \n9      70.0    27.0            12.0          18.0      86.0        92.0   \n\n   GKKicking GKPositioning GKReflexes Release Clause  \n0       15.0          14.0        8.0        €226.5M  \n1       15.0          14.0       11.0        €127.1M  \n2       15.0          15.0       11.0        €228.1M  \n3       87.0          88.0       94.0        €138.6M  \n4        5.0          10.0       13.0        €196.4M  \n5        6.0           8.0        8.0        €172.1M  \n6        7.0          14.0        9.0        €137.4M  \n7       31.0          33.0       37.0          €164M  \n8        9.0           7.0       11.0        €104.6M  \n9       78.0          88.0       89.0        €144.5M  \n\n[10 rows x 88 columns]",
      "text/html": "<div>\n<style scoped>\n    .dataframe tbody tr th:only-of-type {\n        vertical-align: middle;\n    }\n\n    .dataframe tbody tr th {\n        vertical-align: top;\n    }\n\n    .dataframe thead th {\n        text-align: right;\n    }\n</style>\n<table border=\"1\" class=\"dataframe\">\n  <thead>\n    <tr style=\"text-align: right;\">\n      <th></th>\n      <th>ID</th>\n      <th>Name</th>\n      <th>Age</th>\n      <th>Photo</th>\n      <th>Nationality</th>\n      <th>Flag</th>\n      <th>Overall</th>\n      <th>Potential</th>\n      <th>Club</th>\n      <th>Club Logo</th>\n      <th>...</th>\n      <th>Composure</th>\n      <th>Marking</th>\n      <th>StandingTackle</th>\n      <th>SlidingTackle</th>\n      <th>GKDiving</th>\n      <th>GKHandling</th>\n      <th>GKKicking</th>\n      <th>GKPositioning</th>\n      <th>GKReflexes</th>\n      <th>Release Clause</th>\n    </tr>\n  </thead>\n  <tbody>\n    <tr>\n      <th>0</th>\n      <td>158023</td>\n      <td>L. Messi</td>\n      <td>31</td>\n      <td>https://cdn.sofifa.org/players/4/19/158023.png</td>\n      <td>Argentina</td>\n      <td>https://cdn.sofifa.org/flags/52.png</td>\n      <td>94</td>\n      <td>94</td>\n      <td>FC Barcelona</td>\n      <td>https://cdn.sofifa.org/teams/2/light/241.png</td>\n      <td>...</td>\n      <td>96.0</td>\n      <td>33.0</td>\n      <td>28.0</td>\n      <td>26.0</td>\n      <td>6.0</td>\n      <td>11.0</td>\n      <td>15.0</td>\n      <td>14.0</td>\n      <td>8.0</td>\n      <td>€226.5M</td>\n    </tr>\n    <tr>\n      <th>1</th>\n      <td>20801</td>\n      <td>Cristiano Ronaldo</td>\n      <td>33</td>\n      <td>https://cdn.sofifa.org/players/4/19/20801.png</td>\n      <td>Portugal</td>\n      <td>https://cdn.sofifa.org/flags/38.png</td>\n      <td>94</td>\n      <td>94</td>\n      <td>Juventus</td>\n      <td>https://cdn.sofifa.org/teams/2/light/45.png</td>\n      <td>...</td>\n      <td>95.0</td>\n      <td>28.0</td>\n      <td>31.0</td>\n      <td>23.0</td>\n      <td>7.0</td>\n      <td>11.0</td>\n      <td>15.0</td>\n      <td>14.0</td>\n      <td>11.0</td>\n      <td>€127.1M</td>\n    </tr>\n    <tr>\n      <th>2</th>\n      <td>190871</td>\n      <td>Neymar Jr</td>\n      <td>26</td>\n      <td>https://cdn.sofifa.org/players/4/19/190871.png</td>\n      <td>Brazil</td>\n      <td>https://cdn.sofifa.org/flags/54.png</td>\n      <td>92</td>\n      <td>93</td>\n      <td>Paris Saint-Germain</td>\n      <td>https://cdn.sofifa.org/teams/2/light/73.png</td>\n      <td>...</td>\n      <td>94.0</td>\n      <td>27.0</td>\n      <td>24.0</td>\n      <td>33.0</td>\n      <td>9.0</td>\n      <td>9.0</td>\n      <td>15.0</td>\n      <td>15.0</td>\n      <td>11.0</td>\n      <td>€228.1M</td>\n    </tr>\n    <tr>\n      <th>3</th>\n      <td>193080</td>\n      <td>De Gea</td>\n      <td>27</td>\n      <td>https://cdn.sofifa.org/players/4/19/193080.png</td>\n      <td>Spain</td>\n      <td>https://cdn.sofifa.org/flags/45.png</td>\n      <td>91</td>\n      <td>93</td>\n      <td>Manchester United</td>\n      <td>https://cdn.sofifa.org/teams/2/light/11.png</td>\n      <td>...</td>\n      <td>68.0</td>\n      <td>15.0</td>\n      <td>21.0</td>\n      <td>13.0</td>\n      <td>90.0</td>\n      <td>85.0</td>\n      <td>87.0</td>\n      <td>88.0</td>\n      <td>94.0</td>\n      <td>€138.6M</td>\n    </tr>\n    <tr>\n      <th>4</th>\n      <td>192985</td>\n      <td>K. De Bruyne</td>\n      <td>27</td>\n      <td>https://cdn.sofifa.org/players/4/19/192985.png</td>\n      <td>Belgium</td>\n      <td>https://cdn.sofifa.org/flags/7.png</td>\n      <td>91</td>\n      <td>92</td>\n      <td>Manchester City</td>\n      <td>https://cdn.sofifa.org/teams/2/light/10.png</td>\n      <td>...</td>\n      <td>88.0</td>\n      <td>68.0</td>\n      <td>58.0</td>\n      <td>51.0</td>\n      <td>15.0</td>\n      <td>13.0</td>\n      <td>5.0</td>\n      <td>10.0</td>\n      <td>13.0</td>\n      <td>€196.4M</td>\n    </tr>\n    <tr>\n      <th>5</th>\n      <td>183277</td>\n      <td>E. Hazard</td>\n      <td>27</td>\n      <td>https://cdn.sofifa.org/players/4/19/183277.png</td>\n      <td>Belgium</td>\n      <td>https://cdn.sofifa.org/flags/7.png</td>\n      <td>91</td>\n      <td>91</td>\n      <td>Chelsea</td>\n      <td>https://cdn.sofifa.org/teams/2/light/5.png</td>\n      <td>...</td>\n      <td>91.0</td>\n      <td>34.0</td>\n      <td>27.0</td>\n      <td>22.0</td>\n      <td>11.0</td>\n      <td>12.0</td>\n      <td>6.0</td>\n      <td>8.0</td>\n      <td>8.0</td>\n      <td>€172.1M</td>\n    </tr>\n    <tr>\n      <th>6</th>\n      <td>177003</td>\n      <td>L. Modrić</td>\n      <td>32</td>\n      <td>https://cdn.sofifa.org/players/4/19/177003.png</td>\n      <td>Croatia</td>\n      <td>https://cdn.sofifa.org/flags/10.png</td>\n      <td>91</td>\n      <td>91</td>\n      <td>Real Madrid</td>\n      <td>https://cdn.sofifa.org/teams/2/light/243.png</td>\n      <td>...</td>\n      <td>84.0</td>\n      <td>60.0</td>\n      <td>76.0</td>\n      <td>73.0</td>\n      <td>13.0</td>\n      <td>9.0</td>\n      <td>7.0</td>\n      <td>14.0</td>\n      <td>9.0</td>\n      <td>€137.4M</td>\n    </tr>\n    <tr>\n      <th>7</th>\n      <td>176580</td>\n      <td>L. Suárez</td>\n      <td>31</td>\n      <td>https://cdn.sofifa.org/players/4/19/176580.png</td>\n      <td>Uruguay</td>\n      <td>https://cdn.sofifa.org/flags/60.png</td>\n      <td>91</td>\n      <td>91</td>\n      <td>FC Barcelona</td>\n      <td>https://cdn.sofifa.org/teams/2/light/241.png</td>\n      <td>...</td>\n      <td>85.0</td>\n      <td>62.0</td>\n      <td>45.0</td>\n      <td>38.0</td>\n      <td>27.0</td>\n      <td>25.0</td>\n      <td>31.0</td>\n      <td>33.0</td>\n      <td>37.0</td>\n      <td>€164M</td>\n    </tr>\n    <tr>\n      <th>8</th>\n      <td>155862</td>\n      <td>Sergio Ramos</td>\n      <td>32</td>\n      <td>https://cdn.sofifa.org/players/4/19/155862.png</td>\n      <td>Spain</td>\n      <td>https://cdn.sofifa.org/flags/45.png</td>\n      <td>91</td>\n      <td>91</td>\n      <td>Real Madrid</td>\n      <td>https://cdn.sofifa.org/teams/2/light/243.png</td>\n      <td>...</td>\n      <td>82.0</td>\n      <td>87.0</td>\n      <td>92.0</td>\n      <td>91.0</td>\n      <td>11.0</td>\n      <td>8.0</td>\n      <td>9.0</td>\n      <td>7.0</td>\n      <td>11.0</td>\n      <td>€104.6M</td>\n    </tr>\n    <tr>\n      <th>9</th>\n      <td>200389</td>\n      <td>J. Oblak</td>\n      <td>25</td>\n      <td>https://cdn.sofifa.org/players/4/19/200389.png</td>\n      <td>Slovenia</td>\n      <td>https://cdn.sofifa.org/flags/44.png</td>\n      <td>90</td>\n      <td>93</td>\n      <td>Atlético Madrid</td>\n      <td>https://cdn.sofifa.org/teams/2/light/240.png</td>\n      <td>...</td>\n      <td>70.0</td>\n      <td>27.0</td>\n      <td>12.0</td>\n      <td>18.0</td>\n      <td>86.0</td>\n      <td>92.0</td>\n      <td>78.0</td>\n      <td>88.0</td>\n      <td>89.0</td>\n      <td>€144.5M</td>\n    </tr>\n  </tbody>\n</table>\n<p>10 rows × 88 columns</p>\n</div>"
     },
     "metadata": {},
     "output_type": "execute_result",
     "execution_count": 4
    }
   ],
   "source": [
    "fifa_source.head(10)"
   ]
  },
  {
   "cell_type": "markdown",
   "metadata": {
    "pycharm": {
     "name": "#%% md\n"
    }
   },
   "source": [
    "## Data processing\n",
    "\n",
    "*Na het verzamelen van de data, moet je dit waarschijnlijk eerst bewerken, \n",
    "want het komt niet altijd in het formaat binnen dat je voor ogen had. \n",
    "Deze stap data processing is ook al grotendeels voor je gedaan: je krijgt de data immers in nette tabelvorm aangeleverd (bijvoorbeeld in CSV-files). \n",
    "Het is wel goed mogelijk dat je de data moet omvormen om meerdere datasets te kunnen combineren. \n",
    "Na deze stap heb je <b>geordende data</b>.*"
   ]
  },
  {
   "cell_type": "code",
   "execution_count": 5,
   "metadata": {
    "pycharm": {
     "is_executing": false,
     "name": "#%% \n"
    }
   },
   "outputs": [],
   "source": [
    "## ff kijken wat we hier gaan doen"
   ]
  },
  {
   "cell_type": "markdown",
   "metadata": {
    "pycharm": {
     "name": "#%% md\n"
    }
   },
   "source": [
    "## Data cleaning\n",
    "\n",
    "*Je hebt nu een geordende dataset, maar deze is niet noodzakelijk al helemaal schoon. \n",
    "In de stap data cleaning ga je op zoek naar dubbele en missende waarden, outliers en andere onvolkomenheden en los je deze op. \n",
    "Na deze stap heb je <b>schone data</b>.*"
   ]
  },
  {
   "cell_type": "markdown",
   "source": [
    "(hier iets zeggen over of er nan waardes zijn)"
   ],
   "metadata": {
    "collapsed": false,
    "pycharm": {
     "name": "#%% md\n"
    }
   }
  },
  {
   "cell_type": "code",
   "execution_count": 6,
   "metadata": {
    "pycharm": {
     "is_executing": false,
     "name": "#%%\n"
    }
   },
   "outputs": [],
   "source": [
    "## check of er nan waardes zijn?\n",
    "\n",
    "## als er nan waardes zijn, hieronder een cel toevoegen en daarin de nanwaardes weghalen"
   ]
  },
  {
   "cell_type": "markdown",
   "metadata": {
    "pycharm": {
     "is_executing": false,
     "name": "#%% md\n"
    }
   },
   "source": [
    "(iets zeggen over de kolommen die er nu zijn)"
   ]
  },
  {
   "cell_type": "code",
   "execution_count": 7,
   "metadata": {
    "pycharm": {
     "is_executing": false,
     "name": "#%%\n"
    }
   },
   "outputs": [],
   "source": [
    "## alle kolommen laten zien die er zijn\n"
   ]
  },
  {
   "cell_type": "markdown",
   "source": [
    "(hier zeggen welke kolommen er niet belangrijk zijn volgens ons, en dus weg kunnen)"
   ],
   "metadata": {
    "collapsed": false,
    "pycharm": {
     "name": "#%% md\n"
    }
   }
  },
  {
   "cell_type": "code",
   "execution_count": 8,
   "outputs": [],
   "source": [
    "## de kolommen weghalen die niet belangrijk zijn\n"
   ],
   "metadata": {
    "collapsed": false,
    "pycharm": {
     "name": "#%% \n",
     "is_executing": false
    }
   }
  },
  {
   "cell_type": "markdown",
   "source": [
    "(hier iets zeggen over of er dubbele waardes zijn of niet)"
   ],
   "metadata": {
    "collapsed": false,
    "pycharm": {
     "name": "#%% md\n"
    }
   }
  },
  {
   "cell_type": "code",
   "execution_count": 9,
   "outputs": [],
   "source": [
    "## Hier aantal dubbele waardes laten zien. \n",
    "\n",
    "## als er dubbele waardes zijn; cel hieronder toevoegen en daarin de dubbele waardes weghalen."
   ],
   "metadata": {
    "collapsed": false,
    "pycharm": {
     "name": "#%% \n",
     "is_executing": false
    }
   }
  },
  {
   "cell_type": "markdown",
   "metadata": {
    "pycharm": {
     "name": "#%% md\n"
    }
   },
   "source": [
    "## Data exploration & analysis\n",
    "\n",
    "*Voordat je kan beginnen met het beantwoorden van de onderzoeksvragen, \n",
    "moet je de dataset eerst doorgronden en analyseren. \n",
    "Je moet begrijpen waar je data uit bestaat en hoe je met je data de onderzoeksvragen oplost. \n",
    "Gebruik <b>statistische analyses en visualisaties</b> om inzicht te krijgen in de dataset.* "
   ]
  },
  {
   "cell_type": "code",
   "execution_count": 10,
   "metadata": {
    "pycharm": {
     "is_executing": false,
     "name": "#%%\n"
    }
   },
   "outputs": [],
   "source": [
    "## statische analyses (ik denk .describe() enzo, dus mediaan modus etc...)?"
   ]
  },
  {
   "cell_type": "code",
   "execution_count": 11,
   "metadata": {
    "pycharm": {
     "is_executing": false,
     "name": "#%%\n"
    }
   },
   "outputs": [],
   "source": [
    "## statische analyses (ik denk .describe() enzo, dus mediaan modus etc...)?"
   ]
  },
  {
   "cell_type": "code",
   "execution_count": 12,
   "metadata": {
    "pycharm": {
     "is_executing": false,
     "name": "#%%\n"
    }
   },
   "outputs": [],
   "source": [
    "## visualisatie (grafiekjes, boxplot etc...)?"
   ]
  },
  {
   "cell_type": "code",
   "execution_count": 13,
   "metadata": {
    "pycharm": {
     "is_executing": false,
     "name": "#%%\n"
    }
   },
   "outputs": [],
   "source": [
    "## visualisatie (grafiekjes, boxplot etc...)?\n"
   ]
  },
  {
   "cell_type": "markdown",
   "metadata": {
    "pycharm": {
     "name": "#%% md\n"
    }
   },
   "source": [
    "<b>Verplichte onderzoeksvragen: </b>\n",
    "   * *In hoeverre is de waarde van een speler te voorspellen aan de hand \n",
    "       van zijn belangrijkste kenmerken?*\n",
    "   "
   ]
  },
  {
   "cell_type": "markdown",
   "metadata": {
    "pycharm": {
     "name": "#%% md\n"
    }
   },
   "source": [
    "<b>Concept-onderzoeksvragen: </b>\n",
    "   1. *In hoeverre is de positie van een spelers te voorspellen aan de hand van zijn kenmerken?*\n",
    "   2. *In hoeverre is het salaris van een speler te voorspellen aan de hand van zijn kenmerken? (Voorspelling: betere speler is hoger salaris, leeftijd speelt een rol, positie speelt een rol, nationaliteit speelt een rol)*"
   ]
  },
  {
   "cell_type": "markdown",
   "metadata": {
    "pycharm": {
     "name": "#%% md\n"
    }
   },
   "source": [
    "## Externe dataset\n",
    "\n",
    "(beetje tekst hier zetten)\n",
    "\n",
    "* <b> Naam externe dataset... </b>"
   ]
  },
  {
   "cell_type": "code",
   "execution_count": 14,
   "metadata": {
    "pycharm": {
     "is_executing": false,
     "name": "#%%\n"
    }
   },
   "outputs": [],
   "source": [
    "## dataset inladen"
   ]
  },
  {
   "cell_type": "code",
   "execution_count": 15,
   "metadata": {
    "pycharm": {
     "is_executing": false,
     "name": "#%% \n"
    }
   },
   "outputs": [],
   "source": [
    "## dataset grootte laten zien"
   ]
  },
  {
   "cell_type": "code",
   "execution_count": 16,
   "metadata": {
    "pycharm": {
     "is_executing": false,
     "name": "#%%\n"
    }
   },
   "outputs": [],
   "source": [
    "## eerste 10 rijen van dataset laten zien met .head() ofzo"
   ]
  }
 ],
 "metadata": {
  "kernelspec": {
   "display_name": "Python 3",
   "language": "python",
   "name": "python3"
  },
  "language_info": {
   "codemirror_mode": {
    "name": "ipython",
    "version": 3
   },
   "file_extension": ".py",
   "mimetype": "text/x-python",
   "name": "python",
   "nbconvert_exporter": "python",
   "pygments_lexer": "ipython3",
   "version": "3.7.4"
  },
  "pycharm": {
   "stem_cell": {
    "cell_type": "raw",
    "source": [],
    "metadata": {
     "collapsed": false
    }
   }
  }
 },
 "nbformat": 4,
 "nbformat_minor": 1
}