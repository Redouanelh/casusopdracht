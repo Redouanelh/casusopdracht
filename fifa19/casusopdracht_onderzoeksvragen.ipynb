{
 "cells": [
  {
   "cell_type": "markdown",
   "metadata": {
    "collapsed": true,
    "pycharm": {
     "name": "#%% md\n"
    }
   },
   "source": [
    "# Onderzoeksvragen en eerste verkenning: FIFA 19\n",
    "\n",
    "<b> Redouan el Hidraoui <br>\n",
    "Maurits Arissen <br>\n",
    "Eric Houdijk <br>\n",
    "V2A </b>\n",
    "\n",
    "Lever één Jupyter Notebook in met de volgende onderdelen:\n",
    "* een eerste verkenning en analyse van je dataset (stappen 1 tot en met 4 uit het data science proces);\n",
    "* drie concept-onderzoeksvragen;\n",
    "* een externe dataset (als bijlage in csv-formaat)."
   ]
  },
  {
   "cell_type": "markdown",
   "metadata": {
    "pycharm": {
     "name": "#%% md\n"
    }
   },
   "source": [
    "## Data collection\n",
    "\n",
    "*Data collection is al voor je gedaan, aangezien je een dataset krijgt toegewezen, \n",
    "waarbij de ruwe data al eerder is verzameld door derden.\n",
    "Je moet nog wel op zoek naar een externe dataset om je data mee uit te breiden. \n",
    "Deze data is echter ook al eerder voor je verzameld: je hoeft zelf geen dataverzameling te doen door bijvoorbeeld interviews te houden of sensoren uit te lezen.*\n",
    "Na deze stap is er sprake van <b>ruwe data</b>."
   ]
  },
  {
   "cell_type": "code",
   "execution_count": null,
   "metadata": {
    "pycharm": {
     "is_executing": false,
     "name": "#%%\n"
    }
   },
   "outputs": [],
   "source": [
    "# imports\n",
    "import numpy as np\n",
    "import pandas as pd\n",
    "import matplotlib.pyplot as plt\n"
   ]
  },
  {
   "cell_type": "markdown",
   "metadata": {
    "pycharm": {
     "name": "#%% md\n"
    }
   },
   "source": [
    "Onze gekozen CSV-file dataset inladen: <br>\n",
    "- fifa19.csv\n",
    "\n",
    "De dataset bevat: <br>\n",
    "1. Alle spelers uit FIFA 19.\n",
    "2. Speelpositie en fysieke eigenschappen.\n",
    "3. Persoonlijke spelersinformatie (bijv. nationaliteit, club, leeftijd, salaris etc.)."
   ]
  },
  {
   "cell_type": "code",
   "execution_count": null,
   "metadata": {
    "pycharm": {
     "is_executing": false,
     "name": "#%%\n"
    }
   },
   "outputs": [],
   "source": [
    "fifa_source = pd.read_csv('source/fifa19.csv', index_col=0)"
   ]
  },
  {
   "cell_type": "markdown",
   "metadata": {
    "pycharm": {
     "name": "#%% md\n"
    }
   },
   "source": [
    "De grootte van onze dataset:\n",
    "- 8.71 MB\n",
    "- Bevat 18207 rijen (dus 18206 spelers, want de eerste rij bevat alle kolommen)"
   ]
  },
  {
   "cell_type": "code",
   "execution_count": null,
   "metadata": {
    "pycharm": {
     "is_executing": false,
     "name": "#%%\n"
    }
   },
   "outputs": [],
   "source": [
    "rows_dataset = fifa_source.shape[0] - 1\n",
    "rows_dataset"
   ]
  },
  {
   "cell_type": "markdown",
   "metadata": {
    "pycharm": {
     "name": "#%% md\n"
    }
   },
   "source": [
    "Een aantal rijen als voorbeeld voor hoe de dataset eruit ziet:"
   ]
  },
  {
   "cell_type": "code",
   "execution_count": null,
   "metadata": {
    "pycharm": {
     "is_executing": false,
     "name": "#%%\n"
    }
   },
   "outputs": [],
   "source": [
    "fifa_source.head(10)"
   ]
  },
  {
   "cell_type": "markdown",
   "metadata": {
    "pycharm": {
     "name": "#%% md\n"
    }
   },
   "source": [
    "## Data processing\n",
    "\n",
    "*Na het verzamelen van de data, moet je dit waarschijnlijk eerst bewerken, \n",
    "want het komt niet altijd in het formaat binnen dat je voor ogen had. \n",
    "Deze stap data processing is ook al grotendeels voor je gedaan: je krijgt de data immers in nette tabelvorm aangeleverd (bijvoorbeeld in CSV-files). \n",
    "Het is wel goed mogelijk dat je de data moet omvormen om meerdere datasets te kunnen combineren. \n",
    "Na deze stap heb je <b>geordende data</b>.*"
   ]
  },
  {
   "cell_type": "markdown",
   "metadata": {
    "pycharm": {
     "name": "#%% md\n"
    }
   },
   "source": [
    "De column <b>'Wage'</b> en column <b>'Release Clause'</b> bevat characters zoals €, M en K. Om later gebruik te maken van deze data,\n",
    "willen wij graag van deze characters af."
   ]
  },
  {
   "cell_type": "code",
   "execution_count": null,
   "metadata": {
    "pycharm": {
     "is_executing": false,
     "name": "#%% \n"
    }
   },
   "outputs": [],
   "source": [
    "fifa_source['Wage']"
   ]
  },
  {
   "cell_type": "code",
   "execution_count": null,
   "metadata": {
    "pycharm": {
     "is_executing": false,
     "name": "#%%\n"
    }
   },
   "outputs": [],
   "source": [
    "fifa_source['Release Clause']"
   ]
  },
  {
   "cell_type": "markdown",
   "metadata": {},
   "source": [
    "Nu het verwijderen van de ongewenste characters <b>(Release Clause)</b>:"
   ]
  },
  {
   "cell_type": "code",
   "execution_count": null,
   "metadata": {
    "pycharm": {
     "is_executing": false,
     "name": "#%% \n"
    }
   },
   "outputs": [],
   "source": [
    "fifa_source['Clean Release Clause'] = fifa_source['Release Clause']\n",
    "fifa_source['Clean Release Clause'].replace(regex=True,inplace=True,to_replace=r'€',value=r'')\n",
    "\n",
    "fifa_source['Clean Release Clause'] = fifa_source['Clean Release Clause'].replace(r'[KM]+$', '', regex=True).astype(float) * \\\n",
    "             fifa_source['Clean Release Clause'].str.extract(r'[\\d\\.]+([KM]+)', expand=False).fillna(1).replace(['K','M'], [10**3, 10**6]).astype(int)"
   ]
  },
  {
   "cell_type": "markdown",
   "metadata": {
    "pycharm": {
     "name": "#%% md\n"
    }
   },
   "source": [
    "De <b>Release Clause</b> van de spelers na het opschonen:"
   ]
  },
  {
   "cell_type": "code",
   "execution_count": null,
   "metadata": {
    "pycharm": {
     "is_executing": false,
     "name": "#%%\n"
    }
   },
   "outputs": [],
   "source": [
    "fifa_source['Clean Release Clause']"
   ]
  },
  {
   "cell_type": "markdown",
   "metadata": {
    "pycharm": {
     "name": "#%% md\n"
    }
   },
   "source": [
    "Nu het verwijderen van de ongewenste charachters <b>(Wage)</b>:"
   ]
  },
  {
   "cell_type": "code",
   "execution_count": null,
   "metadata": {
    "pycharm": {
     "is_executing": false,
     "name": "#%%\n"
    }
   },
   "outputs": [],
   "source": [
    "fifa_source['Clean Wage'] = fifa_source['Wage']\n",
    "fifa_source['Clean Wage'].replace(regex=True,inplace=True,to_replace=r'€',value=r'')\n",
    "\n",
    "fifa_source['Clean Wage'] = fifa_source['Clean Wage'].replace(r'[KM]+$', '', regex=True).astype(float) * \\\n",
    "             fifa_source['Clean Wage'].str.extract(r'[\\d\\.]+([KM]+)', expand=False).fillna(1).replace(['K','M'], [10**3, 10**6]).astype(int)"
   ]
  },
  {
   "cell_type": "markdown",
   "metadata": {},
   "source": [
    "De <b>Wage</b> van de spelers na het opschonen:"
   ]
  },
  {
   "cell_type": "code",
   "execution_count": null,
   "metadata": {
    "pycharm": {
     "is_executing": false,
     "name": "#%%\n"
    }
   },
   "outputs": [],
   "source": [
    "fifa_source['Clean Wage']"
   ]
  },
  {
   "cell_type": "markdown",
   "metadata": {
    "pycharm": {
     "name": "#%% md\n"
    }
   },
   "source": [
    "## Data cleaning\n",
    "\n",
    "*Je hebt nu een geordende dataset, maar deze is niet noodzakelijk al helemaal schoon. \n",
    "In de stap data cleaning ga je op zoek naar dubbele en missende waarden, outliers en andere onvolkomenheden en los je deze op. \n",
    "Na deze stap heb je <b>schone data</b>.*"
   ]
  },
  {
   "cell_type": "markdown",
   "metadata": {},
   "source": [
    "Op dit moment bevat onze gekozen dataset <b>88 kolommen</b>:"
   ]
  },
  {
   "cell_type": "code",
   "execution_count": null,
   "metadata": {
    "pycharm": {
     "is_executing": false,
     "name": "#%%\n"
    }
   },
   "outputs": [],
   "source": [
    "print('Aantal kolommen in fifa19.csv: {}'.format(len(fifa_source.columns)))\n",
    "fifa_source.columns"
   ]
  },
  {
   "cell_type": "markdown",
   "metadata": {},
   "source": [
    "Wij als team zijn tot de conclusie gekomen dat de volgende kolommen overbodig, en dus niet nodig zijn:\n",
    "1. <b>Photo</b>, omdat: deze kolom een referentie bevat naar een afbeelding van de desbetreffende speler. Dit is nog relevant voor ons onderzoek nog hebben wij de beschikking tot deze foto's.\n",
    "2. <b>Flag</b>, omdat: deze kolom een referentie bevat naar een afbeelding van de vlag die bij de nationaliteit hoort van de desbetreffende speler. Dit is nog relevant voor ons onderzoek, de 'Nationality' kolom is bruikbaarder, nog hebben wij beschikking tot deze afbeeldingen.\n",
    "3. <b>Club logo</b>, omdat: bevat url's naar afbeeldingen\n",
    "4. <b>Special</b>, omdat: nummers zonder duidelijke betekenis\n",
    "5. <b>Body Type</b>, omdat: niet al te nuttig, erg generiek, bijna alle spelers delen dezelfde 3 bodytypes\n",
    "6. <b>International Reputation</b>, omdat: weinig zeggend nummer\n",
    "7. <b>Skill Moves</b>, omdat: weinig zeggend nummer\n",
    "8. <b>Real Face</b>, omdat: Yes / No kolom, geen nuttige data\n",
    "9. <b>Jersey Number</b>, omdat: weinig zeggend nummer, heeft geen specifiek betekenis"
   ]
  },
  {
   "cell_type": "code",
   "execution_count": null,
   "metadata": {
    "pycharm": {
     "is_executing": false,
     "name": "#%% \n"
    }
   },
   "outputs": [],
   "source": [
    "fifa_source.drop(['Photo', 'Flag', 'Club Logo', 'Special', 'Body Type', 'International Reputation', 'Skill Moves', 'Real Face', 'Jersey Number'], axis=1, inplace=True)"
   ]
  },
  {
   "cell_type": "markdown",
   "metadata": {
    "pycharm": {
     "name": "#%% md\n"
    }
   },
   "source": [
    "De resterende kolommen na het verwijderen van de overbodige kolommen:"
   ]
  },
  {
   "cell_type": "code",
   "execution_count": null,
   "metadata": {
    "pycharm": {
     "is_executing": false,
     "name": "#%%\n"
    }
   },
   "outputs": [],
   "source": [
    "print('Aantal kolommen in fifa19.csv na het verwijderen van overbodige kolommen: {}'.format(len(fifa_source.columns)))\n",
    "fifa_source.columns"
   ]
  },
  {
   "cell_type": "markdown",
   "metadata": {
    "pycharm": {
     "name": "#%% md\n"
    }
   },
   "source": [
    "De column <b>'Overall'</b> bevat een getal (rating) van een speler. dit geeft weer hoe goed een speler\n",
    "is t.o.v. de andere spelers binnen de dataset. Wij vinden dan ook dat deze column <b>niet</b> NaN mag zijn,\n",
    "het heeft een belangrijke betekenis.\n",
    "* Alle spelers die hier <b>NaN</b> hebben staan, worden uit onze dataset gehaald."
   ]
  },
  {
   "cell_type": "code",
   "execution_count": null,
   "metadata": {
    "pycharm": {
     "is_executing": false,
     "name": "#%%\n"
    }
   },
   "outputs": [],
   "source": [
    "aantal_nan_overall = pd.isnull(fifa_source['Overall']).sum().sum()\n",
    "print('Aantal NaN-waardes column \\'Overall\\': {}'.format(aantal_nan_overall))"
   ]
  },
  {
   "cell_type": "markdown",
   "metadata": {},
   "source": [
    "Onze dataset bevat geen spelers met NaN waardes in  column <b>'Overall'</b>."
   ]
  },
  {
   "cell_type": "markdown",
   "metadata": {
    "pycharm": {
     "name": "#%% md\n"
    }
   },
   "source": [
    "De resterende columns met NaN worden door ons gevult met het getal 0. \n",
    "Dit doen wij om later (mochten die ontstaan door dit) foutmeldingen te voorkomen."
   ]
  },
  {
   "cell_type": "code",
   "execution_count": null,
   "metadata": {
    "pycharm": {
     "is_executing": false,
     "name": "#%%\n"
    }
   },
   "outputs": [],
   "source": [
    "aantal_nan = pd.isnull(fifa_source).sum().sum()\n",
    "print('Huidige aantal NaN-waardes: {}'.format(aantal_nan))"
   ]
  },
  {
   "cell_type": "code",
   "execution_count": null,
   "metadata": {
    "pycharm": {
     "is_executing": false,
     "name": "#%%\n"
    }
   },
   "outputs": [],
   "source": [
    "fifa_source.fillna(0, inplace=True)"
   ]
  },
  {
   "cell_type": "code",
   "execution_count": null,
   "metadata": {
    "pycharm": {
     "is_executing": false,
     "name": "#%%\n"
    }
   },
   "outputs": [],
   "source": [
    "aantal_nan = pd.isnull(fifa_source).sum().sum()\n",
    "print('Aantal NaN-waardes na het replacen met getal 0: {}'.format(aantal_nan))"
   ]
  },
  {
   "cell_type": "markdown",
   "metadata": {
    "pycharm": {
     "name": "#%% md\n"
    }
   },
   "source": [
    "Aantal duplicate spelers binnen onze fifa19.csv dataset:\n",
    "* <b>0 spelers</b>\n",
    "\n",
    "Dit checken wij aan de hand van het unieke ID die iedere speler toegewezen heeft gekregen."
   ]
  },
  {
   "cell_type": "code",
   "execution_count": null,
   "metadata": {
    "pycharm": {
     "is_executing": false,
     "name": "#%% \n"
    }
   },
   "outputs": [],
   "source": [
    "duplicatePlayers = fifa_source[fifa_source.duplicated(['ID'])]\n",
    "print(\"Duplicate players gebaseerd op het unieke ID:\", duplicatePlayers.count().sum())"
   ]
  },
  {
   "cell_type": "markdown",
   "metadata": {
    "pycharm": {
     "name": "#%% md\n"
    }
   },
   "source": [
    "## Data exploration & analysis\n",
    "\n",
    "*Voordat je kan beginnen met het beantwoorden van de onderzoeksvragen, \n",
    "moet je de dataset eerst doorgronden en analyseren. \n",
    "Je moet begrijpen waar je data uit bestaat en hoe je met je data de onderzoeksvragen oplost. \n",
    "Gebruik <b>statistische analyses en visualisaties</b> om inzicht te krijgen in de dataset.* "
   ]
  },
  {
   "cell_type": "markdown",
   "metadata": {
    "pycharm": {
     "name": "#%% md\n"
    }
   },
   "source": [
    "<b>Statische analyse column 'Overall'</b>:"
   ]
  },
  {
   "cell_type": "code",
   "execution_count": null,
   "metadata": {
    "pycharm": {
     "is_executing": false,
     "name": "#%%\n"
    }
   },
   "outputs": [],
   "source": [
    "np.round(fifa_source['Overall'].describe(), decimals=2)"
   ]
  },
  {
   "cell_type": "markdown",
   "metadata": {},
   "source": [
    "<b>Statische analyse column 'Age'</b>:"
   ]
  },
  {
   "cell_type": "code",
   "execution_count": null,
   "metadata": {
    "pycharm": {
     "is_executing": false,
     "name": "#%%\n"
    }
   },
   "outputs": [],
   "source": [
    "np.round(fifa_source['Age'].describe(), decimals=0)"
   ]
  },
  {
   "cell_type": "markdown",
   "metadata": {},
   "source": [
    "<b>Statische analyse column 'Release Clause'</b>:"
   ]
  },
  {
   "cell_type": "code",
   "execution_count": null,
   "metadata": {
    "pycharm": {
     "is_executing": false,
     "name": "#%%\n"
    }
   },
   "outputs": [],
   "source": [
    "fifa_source['Release Clause'].describe()"
   ]
  },
  {
   "cell_type": "markdown",
   "metadata": {
    "pycharm": {
     "name": "#%% md\n"
    }
   },
   "source": [
    "<b>Histogram met Aantal spelers per 'Overall' waarde</b>:"
   ]
  },
  {
   "cell_type": "code",
   "execution_count": null,
   "metadata": {
    "pycharm": {
     "is_executing": false,
     "name": "#%%\n"
    }
   },
   "outputs": [],
   "source": [
    "histogram = plt.hist(fifa_source['Overall'], edgecolor='black', linewidth=1.2)\n",
    "plt.xlabel('Overall')\n",
    "plt.ylabel('Amount')\n",
    "histogram"
   ]
  },
  {
   "cell_type": "markdown",
   "metadata": {
    "pycharm": {
     "name": "#%% md\n"
    }
   },
   "source": [
    "<b>Histogram met Aantal spelers per 'Age' waarde</b>:"
   ]
  },
  {
   "cell_type": "code",
   "execution_count": null,
   "metadata": {
    "pycharm": {
     "is_executing": false,
     "name": "#%%\n"
    }
   },
   "outputs": [],
   "source": [
    "histogram = plt.hist(fifa_source['Age'], edgecolor='black', linewidth=1.2)\n",
    "plt.xlabel('Age')\n",
    "plt.ylabel('Amount')\n",
    "histogram"
   ]
  },
  {
   "cell_type": "markdown",
   "metadata": {
    "pycharm": {
     "name": "#%% md\n"
    }
   },
   "source": [
    "<b>Boxplot met column 'Overall'</b>:"
   ]
  },
  {
   "cell_type": "code",
   "execution_count": null,
   "metadata": {
    "pycharm": {
     "is_executing": false,
     "name": "#%%\n"
    }
   },
   "outputs": [],
   "source": [
    "boxplot = plt.boxplot(fifa_source['Overall'], vert=False)\n",
    "boxplot"
   ]
  },
  {
   "cell_type": "markdown",
   "metadata": {},
   "source": [
    "<b>Scatter plot met column 'Overall' t.o.v. column 'Age'</b>:"
   ]
  },
  {
   "cell_type": "code",
   "execution_count": null,
   "metadata": {
    "pycharm": {
     "is_executing": false,
     "name": "#%%\n"
    }
   },
   "outputs": [],
   "source": [
    "scatter = plt.scatter(fifa_source['Overall'], fifa_source['Age'])\n",
    "plt.xlabel('Overall')\n",
    "plt.ylabel('Age')\n",
    "scatter"
   ]
  },
  {
   "cell_type": "markdown",
   "metadata": {},
   "source": [
    "<b>Scatter plot met column 'Clean Wage' t.o.v. column 'Age'</b>:"
   ]
  },
  {
   "cell_type": "code",
   "execution_count": null,
   "metadata": {
    "pycharm": {
     "is_executing": false,
     "name": "#%%\n"
    }
   },
   "outputs": [],
   "source": [
    "scatter = plt.scatter(fifa_source['Age'], fifa_source['Clean Wage'])\n",
    "plt.xlabel('Age')\n",
    "plt.ylabel('Wage')\n",
    "scatter"
   ]
  },
  {
   "cell_type": "markdown",
   "metadata": {
    "pycharm": {
     "name": "#%% md\n"
    }
   },
   "source": [
    "<b>Verplichte onderzoeksvragen: </b>\n",
    "   * *In hoeverre is de waarde van een speler te voorspellen aan de hand \n",
    "       van zijn belangrijkste kenmerken?*\n",
    "   "
   ]
  },
  {
   "cell_type": "markdown",
   "metadata": {
    "pycharm": {
     "name": "#%% md\n"
    }
   },
   "source": [
    "<b>Concept-onderzoeksvragen: </b>\n",
    "   1. *In hoeverre is de positie van een spelers te voorspellen aan de hand van zijn kenmerken?*\n",
    "   2. *In hoeverre is de 'potential' van de destijds jonge talenten in fifa 16 (max 21 jaar oud met een goed potentie) uitgekomen in fifa 19?*"
   ]
  },
  {
   "cell_type": "markdown",
   "metadata": {},
   "source": [
    "<b>Bonus (mocht er tijd over zijn)</b>: In hoeverre is het salaris van een speler te voorspellen aan de hand van zijn kenmerken? (Voorspelling: betere speler is hoger salaris, leeftijd speelt een rol, positie speelt een rol, nationaliteit speelt een rol)"
   ]
  },
  {
   "cell_type": "markdown",
   "metadata": {
    "pycharm": {
     "name": "#%% md\n"
    }
   },
   "source": [
    "## Externe dataset\n",
    "\n",
    "Onze gekozen externe CSV-file dataset inladen: <br>\n",
    "- fifa16.csv\n",
    "\n",
    "De dataset bevat: <br>\n",
    "1. Alle spelers uit FIFA 16.\n",
    "2. Speelpositie en fysieke eigenschappen.\n",
    "3. Persoonlijke spelersinformatie (bijv. nationaliteit, club, leeftijd, salaris etc.)."
   ]
  },
  {
   "cell_type": "code",
   "execution_count": null,
   "metadata": {
    "pycharm": {
     "is_executing": false,
     "name": "#%%\n"
    }
   },
   "outputs": [],
   "source": [
    "extern_source = pd.read_csv('source/fifa16.csv', index_col=0)"
   ]
  },
  {
   "cell_type": "markdown",
   "metadata": {
    "pycharm": {
     "is_executing": false,
     "name": "#%% md\n"
    }
   },
   "source": [
    "De grootte van onze externe dataset:\n",
    "- 7.18 MB\n",
    "- Bevat 18207 rijen (dus 15464 spelers, want de eerste rij bevat alle kolommen)"
   ]
  },
  {
   "cell_type": "code",
   "execution_count": null,
   "metadata": {
    "pycharm": {
     "is_executing": false,
     "name": "#%%\n"
    }
   },
   "outputs": [],
   "source": [
    "rows_extern_dataset = extern_source.shape[0] - 1\n",
    "rows_extern_dataset"
   ]
  },
  {
   "cell_type": "markdown",
   "metadata": {},
   "source": [
    "Een aantal rijen als voorbeeld voor hoe de externe dataset eruit ziet:"
   ]
  },
  {
   "cell_type": "code",
   "execution_count": null,
   "metadata": {
    "pycharm": {
     "is_executing": false,
     "name": "#%%\n"
    }
   },
   "outputs": [],
   "source": [
    "extern_source.head(10)"
   ]
  }
 ],
 "metadata": {
  "kernelspec": {
   "display_name": "Python 3",
   "language": "python",
   "name": "python3"
  },
  "language_info": {
   "codemirror_mode": {
    "name": "ipython",
    "version": 3
   },
   "file_extension": ".py",
   "mimetype": "text/x-python",
   "name": "python",
   "nbconvert_exporter": "python",
   "pygments_lexer": "ipython3",
   "version": "3.7.4"
  },
  "pycharm": {
   "stem_cell": {
    "cell_type": "raw",
    "metadata": {
     "collapsed": false
    },
    "source": []
   }
  }
 },
 "nbformat": 4,
 "nbformat_minor": 1
}
