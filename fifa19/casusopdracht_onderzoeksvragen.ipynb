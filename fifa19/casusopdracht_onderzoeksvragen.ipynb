{
 "cells": [
  {
   "cell_type": "markdown",
   "metadata": {
    "collapsed": true,
    "pycharm": {
     "name": "#%% md\n"
    }
   },
   "source": [
    "# Onderzoeksvragen en eerste verkenning: FIFA 19\n",
    "\n",
    "<b> Redouan el Hidraoui <br>\n",
    "Maurits Arissen <br>\n",
    "Eric Houdijk <br>\n",
    "V2A </b>\n",
    "\n",
    "Lever één Jupyter Notebook in met de volgende onderdelen:\n",
    "* een eerste verkenning en analyse van je dataset (stappen 1 tot en met 4 uit het data science proces);\n",
    "* drie concept-onderzoeksvragen;\n",
    "* een externe dataset (als bijlage in csv-formaat)."
   ]
  },
  {
   "cell_type": "markdown",
   "metadata": {
    "pycharm": {
     "name": "#%% md\n"
    }
   },
   "source": [
    "## Data collection\n",
    "\n",
    "*Data collection is al voor je gedaan, aangezien je een dataset krijgt toegewezen, \n",
    "waarbij de ruwe data al eerder is verzameld door derden.\n",
    "Je moet nog wel op zoek naar een externe dataset om je data mee uit te breiden. \n",
    "Deze data is echter ook al eerder voor je verzameld: je hoeft zelf geen dataverzameling te doen door bijvoorbeeld interviews te houden of sensoren uit te lezen.*\n",
    "Na deze stap is er sprake van <b>ruwe data</b>."
   ]
  },
  {
   "cell_type": "code",
   "execution_count": 360,
   "metadata": {
    "pycharm": {
     "name": "#%%\n",
     "is_executing": false
    }
   },
   "outputs": [],
   "source": [
    "# imports\n",
    "import numpy as np\n",
    "import pandas as pd\n",
    "import matplotlib.pyplot as plt\n"
   ]
  },
  {
   "cell_type": "markdown",
   "source": [
    "Onze gekozen CSV-file dataset inladen: <br>\n",
    "- fifa19.csv\n",
    "\n",
    "De dataset bevat: <br>\n",
    "1. Alle spelers uit FIFA 19.\n",
    "2. Speelpositie en fysieke eigenschappen.\n",
    "3. Persoonlijke spelersinformatie (bijv. nationaliteit, club, leeftijd, salaris etc.)."
   ],
   "metadata": {
    "collapsed": false,
    "pycharm": {
     "name": "#%% md\n"
    }
   }
  },
  {
   "cell_type": "code",
   "execution_count": 361,
   "metadata": {
    "pycharm": {
     "is_executing": false,
     "name": "#%%\n"
    }
   },
   "outputs": [],
   "source": [
    "fifa_source = pd.read_csv('source/fifa19.csv', index_col=0)"
   ]
  },
  {
   "cell_type": "markdown",
   "source": [
    "De grootte van onze dataset:\n",
    "- 8.71 MB\n",
    "- Bevat 18207 rijen (dus 18206 spelers, want de eerste rij bevat alle kolommen)"
   ],
   "metadata": {
    "collapsed": false,
    "pycharm": {
     "name": "#%% md\n"
    }
   }
  },
  {
   "cell_type": "code",
   "execution_count": 362,
   "metadata": {
    "pycharm": {
     "is_executing": false,
     "name": "#%%\n"
    }
   },
   "outputs": [
    {
     "data": {
      "text/plain": "18206"
     },
     "metadata": {},
     "output_type": "execute_result",
     "execution_count": 362
    }
   ],
   "source": [
    "rows_dataset = fifa_source.shape[0] - 1\n",
    "rows_dataset"
   ]
  },
  {
   "cell_type": "markdown",
   "source": [
    "Een aantal rijen als voorbeeld voor hoe de dataset eruit ziet:"
   ],
   "metadata": {
    "collapsed": false,
    "pycharm": {
     "name": "#%% md\n"
    }
   }
  },
  {
   "cell_type": "code",
   "execution_count": 363,
   "metadata": {
    "pycharm": {
     "is_executing": false,
     "name": "#%%\n"
    }
   },
   "outputs": [
    {
     "data": {
      "text/plain": "       ID               Name  Age  \\\n0  158023           L. Messi   31   \n1   20801  Cristiano Ronaldo   33   \n2  190871          Neymar Jr   26   \n3  193080             De Gea   27   \n4  192985       K. De Bruyne   27   \n5  183277          E. Hazard   27   \n6  177003          L. Modrić   32   \n7  176580          L. Suárez   31   \n8  155862       Sergio Ramos   32   \n9  200389           J. Oblak   25   \n\n                                            Photo Nationality  \\\n0  https://cdn.sofifa.org/players/4/19/158023.png   Argentina   \n1   https://cdn.sofifa.org/players/4/19/20801.png    Portugal   \n2  https://cdn.sofifa.org/players/4/19/190871.png      Brazil   \n3  https://cdn.sofifa.org/players/4/19/193080.png       Spain   \n4  https://cdn.sofifa.org/players/4/19/192985.png     Belgium   \n5  https://cdn.sofifa.org/players/4/19/183277.png     Belgium   \n6  https://cdn.sofifa.org/players/4/19/177003.png     Croatia   \n7  https://cdn.sofifa.org/players/4/19/176580.png     Uruguay   \n8  https://cdn.sofifa.org/players/4/19/155862.png       Spain   \n9  https://cdn.sofifa.org/players/4/19/200389.png    Slovenia   \n\n                                  Flag  Overall  Potential  \\\n0  https://cdn.sofifa.org/flags/52.png       94         94   \n1  https://cdn.sofifa.org/flags/38.png       94         94   \n2  https://cdn.sofifa.org/flags/54.png       92         93   \n3  https://cdn.sofifa.org/flags/45.png       91         93   \n4   https://cdn.sofifa.org/flags/7.png       91         92   \n5   https://cdn.sofifa.org/flags/7.png       91         91   \n6  https://cdn.sofifa.org/flags/10.png       91         91   \n7  https://cdn.sofifa.org/flags/60.png       91         91   \n8  https://cdn.sofifa.org/flags/45.png       91         91   \n9  https://cdn.sofifa.org/flags/44.png       90         93   \n\n                  Club                                     Club Logo  ...  \\\n0         FC Barcelona  https://cdn.sofifa.org/teams/2/light/241.png  ...   \n1             Juventus   https://cdn.sofifa.org/teams/2/light/45.png  ...   \n2  Paris Saint-Germain   https://cdn.sofifa.org/teams/2/light/73.png  ...   \n3    Manchester United   https://cdn.sofifa.org/teams/2/light/11.png  ...   \n4      Manchester City   https://cdn.sofifa.org/teams/2/light/10.png  ...   \n5              Chelsea    https://cdn.sofifa.org/teams/2/light/5.png  ...   \n6          Real Madrid  https://cdn.sofifa.org/teams/2/light/243.png  ...   \n7         FC Barcelona  https://cdn.sofifa.org/teams/2/light/241.png  ...   \n8          Real Madrid  https://cdn.sofifa.org/teams/2/light/243.png  ...   \n9      Atlético Madrid  https://cdn.sofifa.org/teams/2/light/240.png  ...   \n\n  Composure Marking  StandingTackle SlidingTackle  GKDiving  GKHandling  \\\n0      96.0    33.0            28.0          26.0       6.0        11.0   \n1      95.0    28.0            31.0          23.0       7.0        11.0   \n2      94.0    27.0            24.0          33.0       9.0         9.0   \n3      68.0    15.0            21.0          13.0      90.0        85.0   \n4      88.0    68.0            58.0          51.0      15.0        13.0   \n5      91.0    34.0            27.0          22.0      11.0        12.0   \n6      84.0    60.0            76.0          73.0      13.0         9.0   \n7      85.0    62.0            45.0          38.0      27.0        25.0   \n8      82.0    87.0            92.0          91.0      11.0         8.0   \n9      70.0    27.0            12.0          18.0      86.0        92.0   \n\n   GKKicking GKPositioning GKReflexes Release Clause  \n0       15.0          14.0        8.0        €226.5M  \n1       15.0          14.0       11.0        €127.1M  \n2       15.0          15.0       11.0        €228.1M  \n3       87.0          88.0       94.0        €138.6M  \n4        5.0          10.0       13.0        €196.4M  \n5        6.0           8.0        8.0        €172.1M  \n6        7.0          14.0        9.0        €137.4M  \n7       31.0          33.0       37.0          €164M  \n8        9.0           7.0       11.0        €104.6M  \n9       78.0          88.0       89.0        €144.5M  \n\n[10 rows x 88 columns]",
      "text/html": "<div>\n<style scoped>\n    .dataframe tbody tr th:only-of-type {\n        vertical-align: middle;\n    }\n\n    .dataframe tbody tr th {\n        vertical-align: top;\n    }\n\n    .dataframe thead th {\n        text-align: right;\n    }\n</style>\n<table border=\"1\" class=\"dataframe\">\n  <thead>\n    <tr style=\"text-align: right;\">\n      <th></th>\n      <th>ID</th>\n      <th>Name</th>\n      <th>Age</th>\n      <th>Photo</th>\n      <th>Nationality</th>\n      <th>Flag</th>\n      <th>Overall</th>\n      <th>Potential</th>\n      <th>Club</th>\n      <th>Club Logo</th>\n      <th>...</th>\n      <th>Composure</th>\n      <th>Marking</th>\n      <th>StandingTackle</th>\n      <th>SlidingTackle</th>\n      <th>GKDiving</th>\n      <th>GKHandling</th>\n      <th>GKKicking</th>\n      <th>GKPositioning</th>\n      <th>GKReflexes</th>\n      <th>Release Clause</th>\n    </tr>\n  </thead>\n  <tbody>\n    <tr>\n      <th>0</th>\n      <td>158023</td>\n      <td>L. Messi</td>\n      <td>31</td>\n      <td>https://cdn.sofifa.org/players/4/19/158023.png</td>\n      <td>Argentina</td>\n      <td>https://cdn.sofifa.org/flags/52.png</td>\n      <td>94</td>\n      <td>94</td>\n      <td>FC Barcelona</td>\n      <td>https://cdn.sofifa.org/teams/2/light/241.png</td>\n      <td>...</td>\n      <td>96.0</td>\n      <td>33.0</td>\n      <td>28.0</td>\n      <td>26.0</td>\n      <td>6.0</td>\n      <td>11.0</td>\n      <td>15.0</td>\n      <td>14.0</td>\n      <td>8.0</td>\n      <td>€226.5M</td>\n    </tr>\n    <tr>\n      <th>1</th>\n      <td>20801</td>\n      <td>Cristiano Ronaldo</td>\n      <td>33</td>\n      <td>https://cdn.sofifa.org/players/4/19/20801.png</td>\n      <td>Portugal</td>\n      <td>https://cdn.sofifa.org/flags/38.png</td>\n      <td>94</td>\n      <td>94</td>\n      <td>Juventus</td>\n      <td>https://cdn.sofifa.org/teams/2/light/45.png</td>\n      <td>...</td>\n      <td>95.0</td>\n      <td>28.0</td>\n      <td>31.0</td>\n      <td>23.0</td>\n      <td>7.0</td>\n      <td>11.0</td>\n      <td>15.0</td>\n      <td>14.0</td>\n      <td>11.0</td>\n      <td>€127.1M</td>\n    </tr>\n    <tr>\n      <th>2</th>\n      <td>190871</td>\n      <td>Neymar Jr</td>\n      <td>26</td>\n      <td>https://cdn.sofifa.org/players/4/19/190871.png</td>\n      <td>Brazil</td>\n      <td>https://cdn.sofifa.org/flags/54.png</td>\n      <td>92</td>\n      <td>93</td>\n      <td>Paris Saint-Germain</td>\n      <td>https://cdn.sofifa.org/teams/2/light/73.png</td>\n      <td>...</td>\n      <td>94.0</td>\n      <td>27.0</td>\n      <td>24.0</td>\n      <td>33.0</td>\n      <td>9.0</td>\n      <td>9.0</td>\n      <td>15.0</td>\n      <td>15.0</td>\n      <td>11.0</td>\n      <td>€228.1M</td>\n    </tr>\n    <tr>\n      <th>3</th>\n      <td>193080</td>\n      <td>De Gea</td>\n      <td>27</td>\n      <td>https://cdn.sofifa.org/players/4/19/193080.png</td>\n      <td>Spain</td>\n      <td>https://cdn.sofifa.org/flags/45.png</td>\n      <td>91</td>\n      <td>93</td>\n      <td>Manchester United</td>\n      <td>https://cdn.sofifa.org/teams/2/light/11.png</td>\n      <td>...</td>\n      <td>68.0</td>\n      <td>15.0</td>\n      <td>21.0</td>\n      <td>13.0</td>\n      <td>90.0</td>\n      <td>85.0</td>\n      <td>87.0</td>\n      <td>88.0</td>\n      <td>94.0</td>\n      <td>€138.6M</td>\n    </tr>\n    <tr>\n      <th>4</th>\n      <td>192985</td>\n      <td>K. De Bruyne</td>\n      <td>27</td>\n      <td>https://cdn.sofifa.org/players/4/19/192985.png</td>\n      <td>Belgium</td>\n      <td>https://cdn.sofifa.org/flags/7.png</td>\n      <td>91</td>\n      <td>92</td>\n      <td>Manchester City</td>\n      <td>https://cdn.sofifa.org/teams/2/light/10.png</td>\n      <td>...</td>\n      <td>88.0</td>\n      <td>68.0</td>\n      <td>58.0</td>\n      <td>51.0</td>\n      <td>15.0</td>\n      <td>13.0</td>\n      <td>5.0</td>\n      <td>10.0</td>\n      <td>13.0</td>\n      <td>€196.4M</td>\n    </tr>\n    <tr>\n      <th>5</th>\n      <td>183277</td>\n      <td>E. Hazard</td>\n      <td>27</td>\n      <td>https://cdn.sofifa.org/players/4/19/183277.png</td>\n      <td>Belgium</td>\n      <td>https://cdn.sofifa.org/flags/7.png</td>\n      <td>91</td>\n      <td>91</td>\n      <td>Chelsea</td>\n      <td>https://cdn.sofifa.org/teams/2/light/5.png</td>\n      <td>...</td>\n      <td>91.0</td>\n      <td>34.0</td>\n      <td>27.0</td>\n      <td>22.0</td>\n      <td>11.0</td>\n      <td>12.0</td>\n      <td>6.0</td>\n      <td>8.0</td>\n      <td>8.0</td>\n      <td>€172.1M</td>\n    </tr>\n    <tr>\n      <th>6</th>\n      <td>177003</td>\n      <td>L. Modrić</td>\n      <td>32</td>\n      <td>https://cdn.sofifa.org/players/4/19/177003.png</td>\n      <td>Croatia</td>\n      <td>https://cdn.sofifa.org/flags/10.png</td>\n      <td>91</td>\n      <td>91</td>\n      <td>Real Madrid</td>\n      <td>https://cdn.sofifa.org/teams/2/light/243.png</td>\n      <td>...</td>\n      <td>84.0</td>\n      <td>60.0</td>\n      <td>76.0</td>\n      <td>73.0</td>\n      <td>13.0</td>\n      <td>9.0</td>\n      <td>7.0</td>\n      <td>14.0</td>\n      <td>9.0</td>\n      <td>€137.4M</td>\n    </tr>\n    <tr>\n      <th>7</th>\n      <td>176580</td>\n      <td>L. Suárez</td>\n      <td>31</td>\n      <td>https://cdn.sofifa.org/players/4/19/176580.png</td>\n      <td>Uruguay</td>\n      <td>https://cdn.sofifa.org/flags/60.png</td>\n      <td>91</td>\n      <td>91</td>\n      <td>FC Barcelona</td>\n      <td>https://cdn.sofifa.org/teams/2/light/241.png</td>\n      <td>...</td>\n      <td>85.0</td>\n      <td>62.0</td>\n      <td>45.0</td>\n      <td>38.0</td>\n      <td>27.0</td>\n      <td>25.0</td>\n      <td>31.0</td>\n      <td>33.0</td>\n      <td>37.0</td>\n      <td>€164M</td>\n    </tr>\n    <tr>\n      <th>8</th>\n      <td>155862</td>\n      <td>Sergio Ramos</td>\n      <td>32</td>\n      <td>https://cdn.sofifa.org/players/4/19/155862.png</td>\n      <td>Spain</td>\n      <td>https://cdn.sofifa.org/flags/45.png</td>\n      <td>91</td>\n      <td>91</td>\n      <td>Real Madrid</td>\n      <td>https://cdn.sofifa.org/teams/2/light/243.png</td>\n      <td>...</td>\n      <td>82.0</td>\n      <td>87.0</td>\n      <td>92.0</td>\n      <td>91.0</td>\n      <td>11.0</td>\n      <td>8.0</td>\n      <td>9.0</td>\n      <td>7.0</td>\n      <td>11.0</td>\n      <td>€104.6M</td>\n    </tr>\n    <tr>\n      <th>9</th>\n      <td>200389</td>\n      <td>J. Oblak</td>\n      <td>25</td>\n      <td>https://cdn.sofifa.org/players/4/19/200389.png</td>\n      <td>Slovenia</td>\n      <td>https://cdn.sofifa.org/flags/44.png</td>\n      <td>90</td>\n      <td>93</td>\n      <td>Atlético Madrid</td>\n      <td>https://cdn.sofifa.org/teams/2/light/240.png</td>\n      <td>...</td>\n      <td>70.0</td>\n      <td>27.0</td>\n      <td>12.0</td>\n      <td>18.0</td>\n      <td>86.0</td>\n      <td>92.0</td>\n      <td>78.0</td>\n      <td>88.0</td>\n      <td>89.0</td>\n      <td>€144.5M</td>\n    </tr>\n  </tbody>\n</table>\n<p>10 rows × 88 columns</p>\n</div>"
     },
     "metadata": {},
     "output_type": "execute_result",
     "execution_count": 363
    }
   ],
   "source": [
    "fifa_source.head(10)"
   ]
  },
  {
   "cell_type": "markdown",
   "metadata": {
    "pycharm": {
     "name": "#%% md\n"
    }
   },
   "source": [
    "## Data processing\n",
    "\n",
    "*Na het verzamelen van de data, moet je dit waarschijnlijk eerst bewerken, \n",
    "want het komt niet altijd in het formaat binnen dat je voor ogen had. \n",
    "Deze stap data processing is ook al grotendeels voor je gedaan: je krijgt de data immers in nette tabelvorm aangeleverd (bijvoorbeeld in CSV-files). \n",
    "Het is wel goed mogelijk dat je de data moet omvormen om meerdere datasets te kunnen combineren. \n",
    "Na deze stap heb je <b>geordende data</b>.*"
   ]
  },
  {
   "cell_type": "markdown",
   "source": [
    "De column <b>'Wage'</b> bevat characters zoals €, M en K. Om later gebruik te maken van deze data,\n",
    "willen wij graag van deze characters af."
   ],
   "metadata": {
    "collapsed": false,
    "pycharm": {
     "name": "#%% md\n"
    }
   }
  },
  {
   "cell_type": "code",
   "execution_count": 364,
   "outputs": [
    {
     "data": {
      "text/plain": "0        €226.5M\n1        €127.1M\n2        €228.1M\n3        €138.6M\n4        €196.4M\n          ...   \n18202      €143K\n18203      €113K\n18204      €165K\n18205      €143K\n18206      €165K\nName: Release Clause, Length: 18207, dtype: object"
     },
     "metadata": {},
     "output_type": "execute_result",
     "execution_count": 364
    }
   ],
   "source": [
    "fifa_source['Wage']"
   ],
   "metadata": {
    "collapsed": false,
    "pycharm": {
     "name": "#%% \n",
     "is_executing": false
    }
   }
  },
  {
   "cell_type": "markdown",
   "source": [
    "Na het verwijderen van de ongewenste characters:"
   ],
   "metadata": {
    "collapsed": false
   }
  },
  {
   "cell_type": "code",
   "execution_count": 365,
   "outputs": [],
   "source": [
    "# fifa_source['Wage'].replace(regex=True,inplace=True,to_replace=r'\\D',value=r'')\n",
    "\n",
    "# fifa_source['Wage'].replace(regex=True,inplace=True,to_replace=r'M',value=r'')\n",
    "# fifa_source['Wage'].replace(regex=True,inplace=True,to_replace=r'K',value=r'')\n",
    "# fifa_source['Wage'].replace(regex=True,inplace=True,to_replace=r'€',value=r'')\n",
    "# \n",
    "# fifa_source['Wage']"
   ],
   "metadata": {
    "collapsed": false,
    "pycharm": {
     "name": "#%% \n",
     "is_executing": false
    }
   }
  },
  {
   "cell_type": "markdown",
   "metadata": {
    "pycharm": {
     "name": "#%% md\n"
    }
   },
   "source": [
    "## Data cleaning\n",
    "\n",
    "*Je hebt nu een geordende dataset, maar deze is niet noodzakelijk al helemaal schoon. \n",
    "In de stap data cleaning ga je op zoek naar dubbele en missende waarden, outliers en andere onvolkomenheden en los je deze op. \n",
    "Na deze stap heb je <b>schone data</b>.*"
   ]
  },
  {
   "cell_type": "markdown",
   "source": [
    "Op dit moment bevat onze gekozen dataset <b>88 kolommen</b>:"
   ],
   "metadata": {
    "collapsed": false
   }
  },
  {
   "cell_type": "code",
   "execution_count": 366,
   "outputs": [
    {
     "name": "stdout",
     "text": [
      "Aantal kolommen in fifa19.csv: 88\n"
     ],
     "output_type": "stream"
    },
    {
     "data": {
      "text/plain": "Index(['ID', 'Name', 'Age', 'Photo', 'Nationality', 'Flag', 'Overall',\n       'Potential', 'Club', 'Club Logo', 'Value', 'Wage', 'Special',\n       'Preferred Foot', 'International Reputation', 'Weak Foot',\n       'Skill Moves', 'Work Rate', 'Body Type', 'Real Face', 'Position',\n       'Jersey Number', 'Joined', 'Loaned From', 'Contract Valid Until',\n       'Height', 'Weight', 'LS', 'ST', 'RS', 'LW', 'LF', 'CF', 'RF', 'RW',\n       'LAM', 'CAM', 'RAM', 'LM', 'LCM', 'CM', 'RCM', 'RM', 'LWB', 'LDM',\n       'CDM', 'RDM', 'RWB', 'LB', 'LCB', 'CB', 'RCB', 'RB', 'Crossing',\n       'Finishing', 'HeadingAccuracy', 'ShortPassing', 'Volleys', 'Dribbling',\n       'Curve', 'FKAccuracy', 'LongPassing', 'BallControl', 'Acceleration',\n       'SprintSpeed', 'Agility', 'Reactions', 'Balance', 'ShotPower',\n       'Jumping', 'Stamina', 'Strength', 'LongShots', 'Aggression',\n       'Interceptions', 'Positioning', 'Vision', 'Penalties', 'Composure',\n       'Marking', 'StandingTackle', 'SlidingTackle', 'GKDiving', 'GKHandling',\n       'GKKicking', 'GKPositioning', 'GKReflexes', 'Release Clause'],\n      dtype='object')"
     },
     "metadata": {},
     "output_type": "execute_result",
     "execution_count": 366
    }
   ],
   "source": [
    "print('Aantal kolommen in fifa19.csv: {}'.format(len(fifa_source.columns)))\n",
    "fifa_source.columns"
   ],
   "metadata": {
    "collapsed": false,
    "pycharm": {
     "name": "#%%\n",
     "is_executing": false
    }
   }
  },
  {
   "cell_type": "markdown",
   "source": [
    "Wij als team zijn tot de conclusie gekomen dat de volgende kolommen overbodig, en dus niet nodig zijn:\n",
    "1. <b>Photo</b>, omdat: deze kolom een referentie bevat naar een afbeelding van de desbetreffende speler. Dit is nog relevant voor ons onderzoek nog hebben wij de beschikking tot deze foto's.\n",
    "2. <b>Flag</b>, omdat: deze kolom een referentie bevat naar een afbeelding van de vlag die bij de nationaliteit hoort van de desbetreffende speler. Dit is nog relevant voor ons onderzoek, de 'Nationality' kolom is bruikbaarder, nog hebben wij beschikking tot deze afbeeldingen.\n",
    "3. <b>Club logo</b>, omdat: bevat url's naar afbeeldingen\n",
    "4. <b>Special</b>, omdat: nummers zonder duidelijke betekenis\n",
    "5. <b>Body Type</b>, omdat: niet al te nuttig, erg generiek, bijna alle spelers delen dezelfde 3 bodytypes\n",
    "6. <b>International Reputation</b>, omdat: weinig zeggend nummer\n",
    "7. <b>Skill Moves</b>, omdat: weinig zeggend nummer\n",
    "8. <b>Real Face</b>, omdat: Yes / No kolom, geen nuttige data\n",
    "9. <b>Jersey Number</b>, omdat: weinig zeggend nummer, heeft geen specifiek betekenis"
   ],
   "metadata": {
    "collapsed": false
   }
  },
  {
   "cell_type": "code",
   "execution_count": 367,
   "outputs": [],
   "source": [
    "fifa_source.drop(['Photo', 'Flag', 'Club Logo', 'Special', 'Body Type', 'International Reputation', 'Skill Moves', 'Real Face', 'Jersey Number'], axis=1, inplace=True)"
   ],
   "metadata": {
    "collapsed": false,
    "pycharm": {
     "name": "#%% \n",
     "is_executing": false
    }
   }
  },
  {
   "cell_type": "markdown",
   "source": [
    "De resterende kolommen na het verwijderen van de overbodige kolommen:"
   ],
   "metadata": {
    "collapsed": false,
    "pycharm": {
     "name": "#%% md\n"
    }
   }
  },
  {
   "cell_type": "code",
   "execution_count": 368,
   "outputs": [
    {
     "name": "stdout",
     "text": [
      "Aantal kolommen in fifa19.csv na het verwijderen van overbodige kolommen: 79\n"
     ],
     "output_type": "stream"
    },
    {
     "data": {
      "text/plain": "Index(['ID', 'Name', 'Age', 'Nationality', 'Overall', 'Potential', 'Club',\n       'Value', 'Wage', 'Preferred Foot', 'Weak Foot', 'Work Rate', 'Position',\n       'Joined', 'Loaned From', 'Contract Valid Until', 'Height', 'Weight',\n       'LS', 'ST', 'RS', 'LW', 'LF', 'CF', 'RF', 'RW', 'LAM', 'CAM', 'RAM',\n       'LM', 'LCM', 'CM', 'RCM', 'RM', 'LWB', 'LDM', 'CDM', 'RDM', 'RWB', 'LB',\n       'LCB', 'CB', 'RCB', 'RB', 'Crossing', 'Finishing', 'HeadingAccuracy',\n       'ShortPassing', 'Volleys', 'Dribbling', 'Curve', 'FKAccuracy',\n       'LongPassing', 'BallControl', 'Acceleration', 'SprintSpeed', 'Agility',\n       'Reactions', 'Balance', 'ShotPower', 'Jumping', 'Stamina', 'Strength',\n       'LongShots', 'Aggression', 'Interceptions', 'Positioning', 'Vision',\n       'Penalties', 'Composure', 'Marking', 'StandingTackle', 'SlidingTackle',\n       'GKDiving', 'GKHandling', 'GKKicking', 'GKPositioning', 'GKReflexes',\n       'Release Clause'],\n      dtype='object')"
     },
     "metadata": {},
     "output_type": "execute_result",
     "execution_count": 368
    }
   ],
   "source": [
    "print('Aantal kolommen in fifa19.csv na het verwijderen van overbodige kolommen: {}'.format(len(fifa_source.columns)))\n",
    "fifa_source.columns"
   ],
   "metadata": {
    "collapsed": false,
    "pycharm": {
     "name": "#%%\n",
     "is_executing": false
    }
   }
  },
  {
   "cell_type": "markdown",
   "source": [
    "De column <b>'Overall'</b> bevat een getal (rating) van een speler. dit geeft weer hoe goed een speler\n",
    "is t.o.v. de andere spelers binnen de dataset. Wij vinden dan ook dat deze column <b>niet</b> NaN mag zijn,\n",
    "het heeft een belangrijke betekenis.\n",
    "* Alle spelers die hier <b>NaN</b> hebben staan, worden uit onze dataset gehaald."
   ],
   "metadata": {
    "collapsed": false,
    "pycharm": {
     "name": "#%% md\n"
    }
   }
  },
  {
   "cell_type": "code",
   "execution_count": 369,
   "metadata": {
    "pycharm": {
     "is_executing": false,
     "name": "#%%\n"
    }
   },
   "outputs": [
    {
     "name": "stdout",
     "text": [
      "Aantal NaN-waardes column 'Overall': 0\n"
     ],
     "output_type": "stream"
    }
   ],
   "source": [
    "aantal_nan_overall = pd.isnull(fifa_source['Overall']).sum().sum()\n",
    "print('Aantal NaN-waardes column \\'Overall\\': {}'.format(aantal_nan_overall))"
   ]
  },
  {
   "cell_type": "markdown",
   "source": [
    "Onze dataset bevat geen spelers met NaN waardes in  column <b>'Overall'</b>."
   ],
   "metadata": {
    "collapsed": false
   }
  },
  {
   "cell_type": "markdown",
   "source": [
    "De resterende columns met NaN worden door ons gevult met het getal 0. \n",
    "Dit doen wij om later (mochten die ontstaan door dit) foutmeldingen te voorkomen."
   ],
   "metadata": {
    "collapsed": false,
    "pycharm": {
     "name": "#%% md\n"
    }
   }
  },
  {
   "cell_type": "code",
   "execution_count": 370,
   "outputs": [
    {
     "name": "stdout",
     "text": [
      "Huidige aantal NaN-waardes: 76732\n"
     ],
     "output_type": "stream"
    }
   ],
   "source": [
    "aantal_nan = pd.isnull(fifa_source).sum().sum()\n",
    "print('Huidige aantal NaN-waardes: {}'.format(aantal_nan))"
   ],
   "metadata": {
    "collapsed": false,
    "pycharm": {
     "name": "#%%\n",
     "is_executing": false
    }
   }
  },
  {
   "cell_type": "code",
   "execution_count": 371,
   "outputs": [],
   "source": [
    "fifa_source.fillna(0, inplace=True)"
   ],
   "metadata": {
    "collapsed": false,
    "pycharm": {
     "name": "#%%\n",
     "is_executing": false
    }
   }
  },
  {
   "cell_type": "code",
   "execution_count": 372,
   "outputs": [
    {
     "name": "stdout",
     "text": [
      "Aantal NaN-waardes na het replacen met getal 0: 0\n"
     ],
     "output_type": "stream"
    }
   ],
   "source": [
    "aantal_nan = pd.isnull(fifa_source).sum().sum()\n",
    "print('Aantal NaN-waardes na het replacen met getal 0: {}'.format(aantal_nan))"
   ],
   "metadata": {
    "collapsed": false,
    "pycharm": {
     "name": "#%%\n",
     "is_executing": false
    }
   }
  },
  {
   "cell_type": "markdown",
   "source": [
    "Aantal duplicate spelers binnen onze fifa19.csv dataset:\n",
    "* <b>0 spelers</b>\n",
    "\n",
    "Dit checken wij aan de hand van het unieke ID die iedere speler toegewezen heeft gekregen."
   ],
   "metadata": {
    "collapsed": false,
    "pycharm": {
     "name": "#%% md\n"
    }
   }
  },
  {
   "cell_type": "code",
   "execution_count": 373,
   "outputs": [
    {
     "name": "stdout",
     "text": [
      "Duplicate players gebaseerd op het unieke ID: 0\n"
     ],
     "output_type": "stream"
    }
   ],
   "source": [
    "duplicatePlayers = fifa_source[fifa_source.duplicated(['ID'])]\n",
    "print(\"Duplicate players gebaseerd op het unieke ID:\", duplicatePlayers.count().sum())"
   ],
   "metadata": {
    "collapsed": false,
    "pycharm": {
     "name": "#%% \n",
     "is_executing": false
    }
   }
  },
  {
   "cell_type": "markdown",
   "metadata": {
    "pycharm": {
     "name": "#%% md\n"
    }
   },
   "source": [
    "## Data exploration & analysis\n",
    "\n",
    "*Voordat je kan beginnen met het beantwoorden van de onderzoeksvragen, \n",
    "moet je de dataset eerst doorgronden en analyseren. \n",
    "Je moet begrijpen waar je data uit bestaat en hoe je met je data de onderzoeksvragen oplost. \n",
    "Gebruik <b>statistische analyses en visualisaties</b> om inzicht te krijgen in de dataset.* "
   ]
  },
  {
   "cell_type": "markdown",
   "source": [
    "<b>Statische analyse column 'Overall'</b>:"
   ],
   "metadata": {
    "collapsed": false,
    "pycharm": {
     "name": "#%% md\n"
    }
   }
  },
  {
   "cell_type": "code",
   "execution_count": 374,
   "metadata": {
    "pycharm": {
     "is_executing": false,
     "name": "#%%\n"
    }
   },
   "outputs": [
    {
     "data": {
      "text/plain": "count    18207.00\nmean        66.24\nstd          6.91\nmin         46.00\n25%         62.00\n50%         66.00\n75%         71.00\nmax         94.00\nName: Overall, dtype: float64"
     },
     "metadata": {},
     "output_type": "execute_result",
     "execution_count": 374
    }
   ],
   "source": [
    "np.round(fifa_source['Overall'].describe(), decimals=2)"
   ]
  },
  {
   "cell_type": "markdown",
   "source": [
    "<b>Statische analyse column 'Age'</b>:"
   ],
   "metadata": {
    "collapsed": false
   }
  },
  {
   "cell_type": "code",
   "execution_count": 375,
   "outputs": [
    {
     "data": {
      "text/plain": "count    18207.0\nmean        25.0\nstd          5.0\nmin         16.0\n25%         21.0\n50%         25.0\n75%         28.0\nmax         45.0\nName: Age, dtype: float64"
     },
     "metadata": {},
     "output_type": "execute_result",
     "execution_count": 375
    }
   ],
   "source": [
    "np.round(fifa_source['Age'].describe(), decimals=0)"
   ],
   "metadata": {
    "collapsed": false,
    "pycharm": {
     "name": "#%%\n",
     "is_executing": false
    }
   }
  },
  {
   "cell_type": "markdown",
   "source": [
    "<b>Statische analyse column 'Release Clause'</b>:"
   ],
   "metadata": {
    "collapsed": false
   }
  },
  {
   "cell_type": "code",
   "execution_count": 392,
   "outputs": [
    {
     "data": {
      "text/plain": "count     18207\nunique      144\ntop         €1K\nfreq       4900\nName: Wage, dtype: object"
     },
     "metadata": {},
     "output_type": "execute_result",
     "execution_count": 392
    }
   ],
   "source": [
    "fifa_source['Wage'].describe()"
   ],
   "metadata": {
    "collapsed": false,
    "pycharm": {
     "name": "#%%\n",
     "is_executing": false
    }
   }
  },
  {
   "cell_type": "markdown",
   "source": [
    "<b>Histogram met Aantal spelers per 'Overall' waarde</b>:"
   ],
   "metadata": {
    "collapsed": false,
    "pycharm": {
     "name": "#%% md\n"
    }
   }
  },
  {
   "cell_type": "code",
   "execution_count": 385,
   "metadata": {
    "pycharm": {
     "is_executing": false,
     "name": "#%%\n"
    }
   },
   "outputs": [
    {
     "data": {
      "text/plain": "(array([  16.,  102., 1007., 2973., 5645., 4908., 2185., 1097.,  245.,\n          29.]),\n array([48. , 52.7, 57.4, 62.1, 66.8, 71.5, 76.2, 80.9, 85.6, 90.3, 95. ]),\n <a list of 10 Patch objects>)"
     },
     "metadata": {},
     "output_type": "execute_result",
     "execution_count": 385
    },
    {
     "data": {
      "text/plain": "<Figure size 432x288 with 1 Axes>",
      "image/png": "[encoded data removed]"
     },
     "metadata": {
      "needs_background": "light"
     },
     "output_type": "display_data"
    }
   ],
   "source": [
    "histogram = plt.hist(fifa_source['Overall'], edgecolor='black', linewidth=1.2)\n",
    "plt.xlabel('Overall')\n",
    "plt.ylabel('Amount')\n",
    "histogram"
   ]
  },
  {
   "cell_type": "markdown",
   "source": [
    "<b>Histogram met Aantal spelers per 'Age' waarde</b>:"
   ],
   "metadata": {
    "collapsed": false,
    "pycharm": {
     "name": "#%% md\n"
    }
   }
  },
  {
   "cell_type": "code",
   "execution_count": 389,
   "outputs": [
    {
     "data": {
      "text/plain": "(array([1.063e+03, 3.687e+03, 4.030e+03, 3.868e+03, 2.977e+03, 1.689e+03,\n        7.270e+02, 1.440e+02, 1.900e+01, 3.000e+00]),\n array([16. , 18.9, 21.8, 24.7, 27.6, 30.5, 33.4, 36.3, 39.2, 42.1, 45. ]),\n <a list of 10 Patch objects>)"
     },
     "metadata": {},
     "output_type": "execute_result",
     "execution_count": 389
    },
    {
     "data": {
      "text/plain": "<Figure size 432x288 with 1 Axes>",
      "image/png": "[encoded data removed]"
     },
     "metadata": {
      "needs_background": "light"
     },
     "output_type": "display_data"
    }
   ],
   "source": [
    "histogram = plt.hist(fifa_source['Age'], edgecolor='black', linewidth=1.2)\n",
    "plt.xlabel('Age')\n",
    "plt.ylabel('Amount')\n",
    "histogram"
   ],
   "metadata": {
    "collapsed": false,
    "pycharm": {
     "name": "#%%\n",
     "is_executing": false
    }
   }
  },
  {
   "cell_type": "markdown",
   "source": [
    "<b>Boxplot met column 'Overall'</b>:"
   ],
   "metadata": {
    "collapsed": false,
    "pycharm": {
     "name": "#%% md\n"
    }
   }
  },
  {
   "cell_type": "code",
   "execution_count": 386,
   "outputs": [
    {
     "data": {
      "text/plain": "{'whiskers': [<matplotlib.lines.Line2D at 0x38c141c0>,\n  <matplotlib.lines.Line2D at 0x38c14928>],\n 'caps': [<matplotlib.lines.Line2D at 0x38c14ac0>,\n  <matplotlib.lines.Line2D at 0x38c14c70>],\n 'boxes': [<matplotlib.lines.Line2D at 0x38c14178>],\n 'medians': [<matplotlib.lines.Line2D at 0x38c14e08>],\n 'fliers': [<matplotlib.lines.Line2D at 0x38c14028>],\n 'means': []}"
     },
     "metadata": {},
     "output_type": "execute_result",
     "execution_count": 386
    },
    {
     "data": {
      "text/plain": "<Figure size 432x288 with 1 Axes>",
      "image/png": "[encoded data removed]"
     },
     "metadata": {
      "needs_background": "light"
     },
     "output_type": "display_data"
    }
   ],
   "source": [
    "boxplot = plt.boxplot(fifa_source['Overall'], vert=False)\n",
    "boxplot"
   ],
   "metadata": {
    "collapsed": false,
    "pycharm": {
     "name": "#%%\n",
     "is_executing": false
    }
   }
  },
  {
   "cell_type": "markdown",
   "source": [
    "<b>Scatter plot met column 'Overall' t.o.v. column 'Age'</b>:"
   ],
   "metadata": {
    "collapsed": false
   }
  },
  {
   "cell_type": "code",
   "execution_count": 379,
   "metadata": {
    "pycharm": {
     "is_executing": false,
     "name": "#%%\n"
    }
   },
   "outputs": [
    {
     "data": {
      "text/plain": "<matplotlib.collections.PathCollection at 0x376e9c40>"
     },
     "metadata": {},
     "output_type": "execute_result",
     "execution_count": 379
    },
    {
     "data": {
      "text/plain": "<Figure size 432x288 with 1 Axes>",
      "image/png": "[encoded data removed]"
     },
     "metadata": {
      "needs_background": "light"
     },
     "output_type": "display_data"
    }
   ],
   "source": [
    "scatter = plt.scatter(fifa_source['Overall'], fifa_source['Age'])\n",
    "plt.xlabel('Overall')\n",
    "plt.ylabel('Age')\n",
    "scatter"
   ]
  },
  {
   "cell_type": "markdown",
   "metadata": {
    "pycharm": {
     "name": "#%% md\n"
    }
   },
   "source": [
    "<b>Verplichte onderzoeksvragen: </b>\n",
    "   * *In hoeverre is de waarde van een speler te voorspellen aan de hand \n",
    "       van zijn belangrijkste kenmerken?*\n",
    "   "
   ]
  },
  {
   "cell_type": "markdown",
   "metadata": {
    "pycharm": {
     "name": "#%% md\n"
    }
   },
   "source": [
    "<b>Concept-onderzoeksvragen: </b>\n",
    "   1. *In hoeverre is de positie van een spelers te voorspellen aan de hand van zijn kenmerken?*\n",
    "   2. *In hoeverre is het salaris van een speler te voorspellen aan de hand van zijn kenmerken? (Voorspelling: betere speler is hoger salaris, leeftijd speelt een rol, positie speelt een rol, nationaliteit speelt een rol)*\n",
    "   3. *In hoeverre is de 'potential' van de destijds jonge talenten in fifa 16 (max 21 jaar oud met een goed potentie) uitgekomen in fifa 19?*"
   ]
  },
  {
   "cell_type": "markdown",
   "metadata": {
    "pycharm": {
     "name": "#%% md\n"
    }
   },
   "source": [
    "## Externe dataset\n",
    "\n",
    "Onze gekozen externe CSV-file dataset inladen: <br>\n",
    "- fifa16.csv\n",
    "\n",
    "De dataset bevat: <br>\n",
    "1. Alle spelers uit FIFA 16.\n",
    "2. Speelpositie en fysieke eigenschappen.\n",
    "3. Persoonlijke spelersinformatie (bijv. nationaliteit, club, leeftijd, salaris etc.)."
   ]
  },
  {
   "cell_type": "code",
   "execution_count": 380,
   "metadata": {
    "pycharm": {
     "is_executing": false,
     "name": "#%%\n"
    }
   },
   "outputs": [],
   "source": [
    "extern_source = pd.read_csv('source/fifa16.csv', index_col=0)"
   ]
  },
  {
   "cell_type": "markdown",
   "metadata": {
    "pycharm": {
     "is_executing": false,
     "name": "#%% md\n"
    }
   },
   "source": [
    "De grootte van onze externe dataset:\n",
    "- 7.18 MB\n",
    "- Bevat 18207 rijen (dus 15464 spelers, want de eerste rij bevat alle kolommen)"
   ]
  },
  {
   "cell_type": "code",
   "execution_count": 381,
   "metadata": {
    "pycharm": {
     "is_executing": false,
     "name": "#%%\n"
    }
   },
   "outputs": [
    {
     "data": {
      "text/plain": "14880"
     },
     "metadata": {},
     "output_type": "execute_result",
     "execution_count": 381
    }
   ],
   "source": [
    "rows_extern_dataset = extern_source.shape[0] - 1\n",
    "rows_extern_dataset"
   ]
  },
  {
   "cell_type": "markdown",
   "source": [
    "Een aantal rijen als voorbeeld voor hoe de externe dataset eruit ziet:"
   ],
   "metadata": {
    "collapsed": false
   }
  },
  {
   "cell_type": "code",
   "execution_count": 382,
   "outputs": [
    {
     "data": {
      "text/plain": "                                                  player_url  \\\nsofifa_id                                                      \n158023     https://sofifa.com/player/158023/lionel-messi/...   \n20801      https://sofifa.com/player/20801/c-ronaldo-dos-...   \n9014       https://sofifa.com/player/9014/arjen-robben/16...   \n167495     https://sofifa.com/player/167495/manuel-neuer/...   \n176580     https://sofifa.com/player/176580/luis-suarez/1...   \n183277     https://sofifa.com/player/183277/eden-hazard/1...   \n41236      https://sofifa.com/player/41236/zlatan-ibrahim...   \n190871     https://sofifa.com/player/190871/neymar-da-sil...   \n164240     https://sofifa.com/player/164240/thiago-emilia...   \n168542     https://sofifa.com/player/168542/david-josue-j...   \n\n                  short_name                            long_name  age  \\\nsofifa_id                                                                \n158023              L. Messi       Lionel Andrés Messi Cuccittini   28   \n20801      Cristiano Ronaldo  Cristiano Ronaldo dos Santos Aveiro   30   \n9014               A. Robben                         Arjen Robben   31   \n167495              M. Neuer                         Manuel Neuer   29   \n176580             L. Suárez             Luis Alberto Suárez Díaz   28   \n183277             E. Hazard                          Eden Hazard   24   \n41236         Z. Ibrahimović                   Zlatan Ibrahimović   33   \n190871                Neymar        Neymar da Silva Santos Junior   23   \n164240          Thiago Silva             Thiago Emiliano da Silva   30   \n168542           David Silva            David Josué Jiménez Silva   29   \n\n                  dob  height_cm  weight_kg  nationality                 club  \\\nsofifa_id                                                                       \n158023     1987-06-24        170         72    Argentina         FC Barcelona   \n20801      1985-02-05        185         80     Portugal          Real Madrid   \n9014       1984-01-23        180         80  Netherlands    FC Bayern München   \n167495     1986-03-27        193         92      Germany    FC Bayern München   \n176580     1987-01-24        182         85      Uruguay         FC Barcelona   \n183277     1991-01-07        173         74      Belgium              Chelsea   \n41236      1981-10-03        195         95       Sweden  Paris Saint-Germain   \n190871     1992-02-05        174         68       Brazil         FC Barcelona   \n164240     1984-09-22        183         79       Brazil  Paris Saint-Germain   \n168542     1986-01-08        170         67        Spain      Manchester City   \n\n           overall  ...   lwb   ldm   cdm   rdm   rwb    lb   lcb    cb   rcb  \\\nsofifa_id           ...                                                         \n158023          94  ...  62+3  57+3  57+3  57+3  62+3  57+3  44+3  44+3  44+3   \n20801           93  ...  64+3  60+3  60+3  60+3  64+3  60+3  52+3  52+3  52+3   \n9014            90  ...  65+3  60+3  60+3  60+3  65+3  59+3  47+3  47+3  47+3   \n167495          90  ...   NaN   NaN   NaN   NaN   NaN   NaN   NaN   NaN   NaN   \n176580          90  ...  67+3  65+3  65+3  65+3  67+3  64+3  58+3  58+3  58+3   \n183277          89  ...  64+2  61+2  61+2  61+2  64+2  58+2  47+2  47+2  47+2   \n41236           89  ...  60+3  60+3  60+3  60+3  60+3  56+3  53+3  53+3  53+3   \n190871          88  ...  62+3  56+3  56+3  56+3  62+3  58+3  45+3  45+3  45+3   \n164240          88  ...  80+2  84+2  84+2  84+2  80+2  82+2  86+2  86+2  86+2   \n168542          88  ...  63+2  62+2  62+2  62+2  63+2  58+2  47+2  47+2  47+2   \n\n             rb  \nsofifa_id        \n158023     57+3  \n20801      60+3  \n9014       59+3  \n167495      NaN  \n176580     64+3  \n183277     58+2  \n41236      56+3  \n190871     58+3  \n164240     82+2  \n168542     58+2  \n\n[10 rows x 103 columns]",
      "text/html": "<div>\n<style scoped>\n    .dataframe tbody tr th:only-of-type {\n        vertical-align: middle;\n    }\n\n    .dataframe tbody tr th {\n        vertical-align: top;\n    }\n\n    .dataframe thead th {\n        text-align: right;\n    }\n</style>\n<table border=\"1\" class=\"dataframe\">\n  <thead>\n    <tr style=\"text-align: right;\">\n      <th></th>\n      <th>player_url</th>\n      <th>short_name</th>\n      <th>long_name</th>\n      <th>age</th>\n      <th>dob</th>\n      <th>height_cm</th>\n      <th>weight_kg</th>\n      <th>nationality</th>\n      <th>club</th>\n      <th>overall</th>\n      <th>...</th>\n      <th>lwb</th>\n      <th>ldm</th>\n      <th>cdm</th>\n      <th>rdm</th>\n      <th>rwb</th>\n      <th>lb</th>\n      <th>lcb</th>\n      <th>cb</th>\n      <th>rcb</th>\n      <th>rb</th>\n    </tr>\n    <tr>\n      <th>sofifa_id</th>\n      <th></th>\n      <th></th>\n      <th></th>\n      <th></th>\n      <th></th>\n      <th></th>\n      <th></th>\n      <th></th>\n      <th></th>\n      <th></th>\n      <th></th>\n      <th></th>\n      <th></th>\n      <th></th>\n      <th></th>\n      <th></th>\n      <th></th>\n      <th></th>\n      <th></th>\n      <th></th>\n      <th></th>\n    </tr>\n  </thead>\n  <tbody>\n    <tr>\n      <th>158023</th>\n      <td>https://sofifa.com/player/158023/lionel-messi/...</td>\n      <td>L. Messi</td>\n      <td>Lionel Andrés Messi Cuccittini</td>\n      <td>28</td>\n      <td>1987-06-24</td>\n      <td>170</td>\n      <td>72</td>\n      <td>Argentina</td>\n      <td>FC Barcelona</td>\n      <td>94</td>\n      <td>...</td>\n      <td>62+3</td>\n      <td>57+3</td>\n      <td>57+3</td>\n      <td>57+3</td>\n      <td>62+3</td>\n      <td>57+3</td>\n      <td>44+3</td>\n      <td>44+3</td>\n      <td>44+3</td>\n      <td>57+3</td>\n    </tr>\n    <tr>\n      <th>20801</th>\n      <td>https://sofifa.com/player/20801/c-ronaldo-dos-...</td>\n      <td>Cristiano Ronaldo</td>\n      <td>Cristiano Ronaldo dos Santos Aveiro</td>\n      <td>30</td>\n      <td>1985-02-05</td>\n      <td>185</td>\n      <td>80</td>\n      <td>Portugal</td>\n      <td>Real Madrid</td>\n      <td>93</td>\n      <td>...</td>\n      <td>64+3</td>\n      <td>60+3</td>\n      <td>60+3</td>\n      <td>60+3</td>\n      <td>64+3</td>\n      <td>60+3</td>\n      <td>52+3</td>\n      <td>52+3</td>\n      <td>52+3</td>\n      <td>60+3</td>\n    </tr>\n    <tr>\n      <th>9014</th>\n      <td>https://sofifa.com/player/9014/arjen-robben/16...</td>\n      <td>A. Robben</td>\n      <td>Arjen Robben</td>\n      <td>31</td>\n      <td>1984-01-23</td>\n      <td>180</td>\n      <td>80</td>\n      <td>Netherlands</td>\n      <td>FC Bayern München</td>\n      <td>90</td>\n      <td>...</td>\n      <td>65+3</td>\n      <td>60+3</td>\n      <td>60+3</td>\n      <td>60+3</td>\n      <td>65+3</td>\n      <td>59+3</td>\n      <td>47+3</td>\n      <td>47+3</td>\n      <td>47+3</td>\n      <td>59+3</td>\n    </tr>\n    <tr>\n      <th>167495</th>\n      <td>https://sofifa.com/player/167495/manuel-neuer/...</td>\n      <td>M. Neuer</td>\n      <td>Manuel Neuer</td>\n      <td>29</td>\n      <td>1986-03-27</td>\n      <td>193</td>\n      <td>92</td>\n      <td>Germany</td>\n      <td>FC Bayern München</td>\n      <td>90</td>\n      <td>...</td>\n      <td>NaN</td>\n      <td>NaN</td>\n      <td>NaN</td>\n      <td>NaN</td>\n      <td>NaN</td>\n      <td>NaN</td>\n      <td>NaN</td>\n      <td>NaN</td>\n      <td>NaN</td>\n      <td>NaN</td>\n    </tr>\n    <tr>\n      <th>176580</th>\n      <td>https://sofifa.com/player/176580/luis-suarez/1...</td>\n      <td>L. Suárez</td>\n      <td>Luis Alberto Suárez Díaz</td>\n      <td>28</td>\n      <td>1987-01-24</td>\n      <td>182</td>\n      <td>85</td>\n      <td>Uruguay</td>\n      <td>FC Barcelona</td>\n      <td>90</td>\n      <td>...</td>\n      <td>67+3</td>\n      <td>65+3</td>\n      <td>65+3</td>\n      <td>65+3</td>\n      <td>67+3</td>\n      <td>64+3</td>\n      <td>58+3</td>\n      <td>58+3</td>\n      <td>58+3</td>\n      <td>64+3</td>\n    </tr>\n    <tr>\n      <th>183277</th>\n      <td>https://sofifa.com/player/183277/eden-hazard/1...</td>\n      <td>E. Hazard</td>\n      <td>Eden Hazard</td>\n      <td>24</td>\n      <td>1991-01-07</td>\n      <td>173</td>\n      <td>74</td>\n      <td>Belgium</td>\n      <td>Chelsea</td>\n      <td>89</td>\n      <td>...</td>\n      <td>64+2</td>\n      <td>61+2</td>\n      <td>61+2</td>\n      <td>61+2</td>\n      <td>64+2</td>\n      <td>58+2</td>\n      <td>47+2</td>\n      <td>47+2</td>\n      <td>47+2</td>\n      <td>58+2</td>\n    </tr>\n    <tr>\n      <th>41236</th>\n      <td>https://sofifa.com/player/41236/zlatan-ibrahim...</td>\n      <td>Z. Ibrahimović</td>\n      <td>Zlatan Ibrahimović</td>\n      <td>33</td>\n      <td>1981-10-03</td>\n      <td>195</td>\n      <td>95</td>\n      <td>Sweden</td>\n      <td>Paris Saint-Germain</td>\n      <td>89</td>\n      <td>...</td>\n      <td>60+3</td>\n      <td>60+3</td>\n      <td>60+3</td>\n      <td>60+3</td>\n      <td>60+3</td>\n      <td>56+3</td>\n      <td>53+3</td>\n      <td>53+3</td>\n      <td>53+3</td>\n      <td>56+3</td>\n    </tr>\n    <tr>\n      <th>190871</th>\n      <td>https://sofifa.com/player/190871/neymar-da-sil...</td>\n      <td>Neymar</td>\n      <td>Neymar da Silva Santos Junior</td>\n      <td>23</td>\n      <td>1992-02-05</td>\n      <td>174</td>\n      <td>68</td>\n      <td>Brazil</td>\n      <td>FC Barcelona</td>\n      <td>88</td>\n      <td>...</td>\n      <td>62+3</td>\n      <td>56+3</td>\n      <td>56+3</td>\n      <td>56+3</td>\n      <td>62+3</td>\n      <td>58+3</td>\n      <td>45+3</td>\n      <td>45+3</td>\n      <td>45+3</td>\n      <td>58+3</td>\n    </tr>\n    <tr>\n      <th>164240</th>\n      <td>https://sofifa.com/player/164240/thiago-emilia...</td>\n      <td>Thiago Silva</td>\n      <td>Thiago Emiliano da Silva</td>\n      <td>30</td>\n      <td>1984-09-22</td>\n      <td>183</td>\n      <td>79</td>\n      <td>Brazil</td>\n      <td>Paris Saint-Germain</td>\n      <td>88</td>\n      <td>...</td>\n      <td>80+2</td>\n      <td>84+2</td>\n      <td>84+2</td>\n      <td>84+2</td>\n      <td>80+2</td>\n      <td>82+2</td>\n      <td>86+2</td>\n      <td>86+2</td>\n      <td>86+2</td>\n      <td>82+2</td>\n    </tr>\n    <tr>\n      <th>168542</th>\n      <td>https://sofifa.com/player/168542/david-josue-j...</td>\n      <td>David Silva</td>\n      <td>David Josué Jiménez Silva</td>\n      <td>29</td>\n      <td>1986-01-08</td>\n      <td>170</td>\n      <td>67</td>\n      <td>Spain</td>\n      <td>Manchester City</td>\n      <td>88</td>\n      <td>...</td>\n      <td>63+2</td>\n      <td>62+2</td>\n      <td>62+2</td>\n      <td>62+2</td>\n      <td>63+2</td>\n      <td>58+2</td>\n      <td>47+2</td>\n      <td>47+2</td>\n      <td>47+2</td>\n      <td>58+2</td>\n    </tr>\n  </tbody>\n</table>\n<p>10 rows × 103 columns</p>\n</div>"
     },
     "metadata": {},
     "output_type": "execute_result",
     "execution_count": 382
    }
   ],
   "source": [
    "extern_source.head(10)"
   ],
   "metadata": {
    "collapsed": false,
    "pycharm": {
     "name": "#%%\n",
     "is_executing": false
    }
   }
  }
 ],
 "metadata": {
  "kernelspec": {
   "display_name": "Python 3",
   "language": "python",
   "name": "python3"
  },
  "language_info": {
   "codemirror_mode": {
    "name": "ipython",
    "version": 3
   },
   "file_extension": ".py",
   "mimetype": "text/x-python",
   "name": "python",
   "nbconvert_exporter": "python",
   "pygments_lexer": "ipython3",
   "version": "3.7.4"
  },
  "pycharm": {
   "stem_cell": {
    "cell_type": "raw",
    "source": [],
    "metadata": {
     "collapsed": false
    }
   }
  }
 },
 "nbformat": 4,
 "nbformat_minor": 1
}