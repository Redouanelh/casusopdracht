{
 "cells": [
  {
   "cell_type": "markdown",
   "metadata": {
    "collapsed": true,
    "pycharm": {
     "name": "#%% md\n"
    }
   },
   "source": [
    "# Onderzoeksvragen en eerste verkenning: FIFA 19\n",
    "\n",
    "<b> Redouan el Hidraoui <br>\n",
    "Maurits Arissen <br>\n",
    "Eric Houdijk <br>\n",
    "V2A </b>\n",
    "\n",
    "Lever één Jupyter Notebook in met de volgende onderdelen:\n",
    "* een eerste verkenning en analyse van je dataset (stappen 1 tot en met 4 uit het data science proces);\n",
    "* drie concept-onderzoeksvragen;\n",
    "* een externe dataset (als bijlage in csv-formaat)."
   ]
  },
  {
   "cell_type": "markdown",
   "metadata": {
    "pycharm": {
     "name": "#%% md\n"
    }
   },
   "source": [
    "## Data collection\n",
    "\n",
    "*Data collection is al voor je gedaan, aangezien je een dataset krijgt toegewezen, \n",
    "waarbij de ruwe data al eerder is verzameld door derden.\n",
    "Je moet nog wel op zoek naar een externe dataset om je data mee uit te breiden. \n",
    "Deze data is echter ook al eerder voor je verzameld: je hoeft zelf geen dataverzameling te doen door bijvoorbeeld interviews te houden of sensoren uit te lezen.*\n",
    "Na deze stap is er sprake van <b>ruwe data</b>."
   ]
  },
  {
   "cell_type": "code",
   "execution_count": null,
   "metadata": {
    "pycharm": {
     "is_executing": false,
     "name": "#%%\n"
    }
   },
   "outputs": [],
   "source": [
    "# imports\n",
    "import numpy as np\n",
    "import pandas as pd\n",
    "import scipy.stats as stats\n",
    "import matplotlib.pyplot as plt\n",
    "import holoviews as hv\n",
    "\n",
    "from sklearn.linear_model import LinearRegression\n",
    "from sklearn.model_selection import train_test_split\n",
    "from sklearn import metrics\n",
    "from sklearn.mixture import GaussianMixture\n",
    "\n",
    "\n",
    "hv.extension('bokeh')"
   ]
  },
  {
   "cell_type": "markdown",
   "metadata": {
    "pycharm": {
     "name": "#%% md\n"
    }
   },
   "source": [
    "Onze gekozen CSV-file dataset inladen: <br>\n",
    "- fifa19.csv\n",
    "\n",
    "De dataset bevat: <br>\n",
    "1. Alle spelers uit FIFA 19.\n",
    "2. Speelpositie en fysieke eigenschappen.\n",
    "3. Persoonlijke spelersinformatie (bijv. nationaliteit, club, leeftijd, salaris etc.)."
   ]
  },
  {
   "cell_type": "code",
   "execution_count": null,
   "metadata": {
    "pycharm": {
     "is_executing": false,
     "name": "#%%\n"
    }
   },
   "outputs": [],
   "source": [
    "fifa_source = pd.read_csv('source/fifa19.csv', index_col=0)"
   ]
  },
  {
   "cell_type": "markdown",
   "metadata": {
    "pycharm": {
     "name": "#%% md\n"
    }
   },
   "source": [
    "De grootte van onze dataset:\n",
    "- 8.71 MB\n",
    "- Bevat 18207 rijen (dus 18206 spelers, want de eerste rij bevat alle kolommen)"
   ]
  },
  {
   "cell_type": "code",
   "execution_count": null,
   "metadata": {
    "pycharm": {
     "is_executing": false,
     "name": "#%%\n"
    }
   },
   "outputs": [],
   "source": [
    "rows_dataset = fifa_source.shape[0] - 1\n",
    "rows_dataset"
   ]
  },
  {
   "cell_type": "markdown",
   "metadata": {
    "pycharm": {
     "name": "#%% md\n"
    }
   },
   "source": [
    "Een aantal rijen als voorbeeld voor hoe de dataset eruit ziet:"
   ]
  },
  {
   "cell_type": "code",
   "execution_count": null,
   "metadata": {
    "pycharm": {
     "is_executing": false,
     "name": "#%%\n"
    }
   },
   "outputs": [],
   "source": [
    "fifa_source.head(10)"
   ]
  },
  {
   "cell_type": "markdown",
   "metadata": {
    "pycharm": {
     "name": "#%% md\n"
    }
   },
   "source": [
    "## Data processing\n",
    "\n",
    "*Na het verzamelen van de data, moet je dit waarschijnlijk eerst bewerken, \n",
    "want het komt niet altijd in het formaat binnen dat je voor ogen had. \n",
    "Deze stap data processing is ook al grotendeels voor je gedaan: je krijgt de data immers in nette tabelvorm aangeleverd (bijvoorbeeld in CSV-files). \n",
    "Het is wel goed mogelijk dat je de data moet omvormen om meerdere datasets te kunnen combineren. \n",
    "Na deze stap heb je <b>geordende data</b>.*"
   ]
  },
  {
   "cell_type": "markdown",
   "metadata": {
    "pycharm": {
     "name": "#%% md\n"
    }
   },
   "source": [
    "De column <b>'Wage'</b>, de column <b>'Value'</b> en column <b>'Release Clause'</b> bevat characters zoals €, M en K. Om later gebruik te maken van deze data,\n",
    "willen wij graag van deze characters af."
   ]
  },
  {
   "cell_type": "code",
   "execution_count": null,
   "metadata": {
    "pycharm": {
     "is_executing": false,
     "name": "#%% \n"
    }
   },
   "outputs": [],
   "source": [
    "fifa_source['Wage']"
   ]
  },
  {
   "cell_type": "code",
   "execution_count": null,
   "metadata": {
    "pycharm": {
     "is_executing": false,
     "name": "#%%\n"
    }
   },
   "outputs": [],
   "source": [
    "fifa_source['Release Clause']"
   ]
  },
  {
   "cell_type": "code",
   "execution_count": null,
   "metadata": {},
   "outputs": [],
   "source": [
    "fifa_source['Value']"
   ]
  },
  {
   "cell_type": "markdown",
   "metadata": {},
   "source": [
    "Nu het verwijderen van de ongewenste characters <b>(Release Clause)</b>:"
   ]
  },
  {
   "cell_type": "code",
   "execution_count": null,
   "metadata": {
    "pycharm": {
     "is_executing": false,
     "name": "#%% \n"
    }
   },
   "outputs": [],
   "source": [
    "fifa_source['Clean Release Clause'] = fifa_source['Release Clause']\n",
    "fifa_source['Clean Release Clause'].replace(regex=True,inplace=True,to_replace=r'€',value=r'')\n",
    "\n",
    "fifa_source['Clean Release Clause'] = fifa_source['Clean Release Clause'].replace(r'[KM]+$', '', regex=True).astype(float) * \\\n",
    "             fifa_source['Clean Release Clause'].str.extract(r'[\\d\\.]+([KM]+)', expand=False).fillna(1).replace(['K','M'], [10**3, 10**6]).astype(int)"
   ]
  },
  {
   "cell_type": "markdown",
   "metadata": {
    "pycharm": {
     "name": "#%% md\n"
    }
   },
   "source": [
    "De <b>Release Clause</b> van de spelers na het opschonen:"
   ]
  },
  {
   "cell_type": "code",
   "execution_count": null,
   "metadata": {
    "pycharm": {
     "is_executing": false,
     "name": "#%%\n"
    }
   },
   "outputs": [],
   "source": [
    "fifa_source['Clean Release Clause']"
   ]
  },
  {
   "cell_type": "markdown",
   "metadata": {
    "pycharm": {
     "name": "#%% md\n"
    }
   },
   "source": [
    "Nu het verwijderen van de ongewenste charachters <b>(Wage)</b>:"
   ]
  },
  {
   "cell_type": "code",
   "execution_count": null,
   "metadata": {
    "pycharm": {
     "is_executing": false,
     "name": "#%%\n"
    }
   },
   "outputs": [],
   "source": [
    "fifa_source['Clean Wage'] = fifa_source['Wage']\n",
    "fifa_source['Clean Wage'].replace(regex=True,inplace=True,to_replace=r'€',value=r'')\n",
    "\n",
    "fifa_source['Clean Wage'] = fifa_source['Clean Wage'].replace(r'[KM]+$', '', regex=True).astype(float) * \\\n",
    "             fifa_source['Clean Wage'].str.extract(r'[\\d\\.]+([KM]+)', expand=False).fillna(1).replace(['K','M'], [10**3, 10**6]).astype(int)"
   ]
  },
  {
   "cell_type": "markdown",
   "metadata": {},
   "source": [
    "De <b>Wage</b> van de spelers na het opschonen:"
   ]
  },
  {
   "cell_type": "code",
   "execution_count": null,
   "metadata": {
    "pycharm": {
     "is_executing": false,
     "name": "#%%\n"
    }
   },
   "outputs": [],
   "source": [
    "fifa_source['Clean Wage']"
   ]
  },
  {
   "cell_type": "markdown",
   "metadata": {},
   "source": [
    "Nu het verwijderen van de ongewenste charachters <b>(Value)</b>:"
   ]
  },
  {
   "cell_type": "code",
   "execution_count": null,
   "metadata": {},
   "outputs": [],
   "source": [
    "fifa_source['Clean Value'] = fifa_source['Value']\n",
    "fifa_source['Clean Value'].replace(regex=True,inplace=True,to_replace=r'€',value=r'')\n",
    "\n",
    "fifa_source['Clean Value'] = fifa_source['Clean Value'].replace(r'[KM]+$', '', regex=True).astype(float) * \\\n",
    "             fifa_source['Clean Value'].str.extract(r'[\\d\\.]+([KM]+)', expand=False).fillna(1).replace(['K','M'], [10**3, 10**6]).astype(int)"
   ]
  },
  {
   "cell_type": "markdown",
   "metadata": {},
   "source": [
    "De <b>Value</b> van de spelers na het opschonen:"
   ]
  },
  {
   "cell_type": "code",
   "execution_count": null,
   "metadata": {},
   "outputs": [],
   "source": [
    "fifa_source['Clean Value']"
   ]
  },
  {
   "cell_type": "markdown",
   "metadata": {
    "pycharm": {
     "name": "#%% md\n"
    }
   },
   "source": [
    "## Data cleaning\n",
    "\n",
    "*Je hebt nu een geordende dataset, maar deze is niet noodzakelijk al helemaal schoon. \n",
    "In de stap data cleaning ga je op zoek naar dubbele en missende waarden, outliers en andere onvolkomenheden en los je deze op. \n",
    "Na deze stap heb je <b>schone data</b>.*"
   ]
  },
  {
   "cell_type": "markdown",
   "metadata": {},
   "source": [
    "Op dit moment bevat onze gekozen dataset <b>88 kolommen</b>:"
   ]
  },
  {
   "cell_type": "code",
   "execution_count": null,
   "metadata": {
    "pycharm": {
     "is_executing": false,
     "name": "#%%\n"
    }
   },
   "outputs": [],
   "source": [
    "print('Aantal kolommen in fifa19.csv: {}'.format(len(fifa_source.columns)))\n",
    "fifa_source.columns"
   ]
  },
  {
   "cell_type": "markdown",
   "metadata": {},
   "source": [
    "Wij als team zijn tot de conclusie gekomen dat de volgende kolommen overbodig, en dus niet nodig zijn:\n",
    "1. <b>Photo</b>, omdat: deze kolom een referentie bevat naar een afbeelding van de desbetreffende speler. Dit is nog relevant voor ons onderzoek nog hebben wij de beschikking tot deze foto's.\n",
    "2. <b>Flag</b>, omdat: deze kolom een referentie bevat naar een afbeelding van de vlag die bij de nationaliteit hoort van de desbetreffende speler. Dit is nog relevant voor ons onderzoek, de 'Nationality' kolom is bruikbaarder, nog hebben wij beschikking tot deze afbeeldingen.\n",
    "3. <b>Club logo</b>, omdat: bevat url's naar afbeeldingen\n",
    "4. <b>Special</b>, omdat: nummers zonder duidelijke betekenis\n",
    "5. <b>Body Type</b>, omdat: niet al te nuttig, erg generiek, bijna alle spelers delen dezelfde 3 bodytypes\n",
    "6. <b>International Reputation</b>, omdat: weinig zeggend nummer\n",
    "7. <b>Skill Moves</b>, omdat: weinig zeggend nummer\n",
    "8. <b>Real Face</b>, omdat: Yes / No kolom, geen nuttige data\n",
    "9. <b>Jersey Number</b>, omdat: weinig zeggend nummer, heeft geen specifiek betekenis"
   ]
  },
  {
   "cell_type": "code",
   "execution_count": null,
   "metadata": {
    "pycharm": {
     "is_executing": false,
     "name": "#%% \n"
    }
   },
   "outputs": [],
   "source": [
    "fifa_source.drop(['Photo', 'Flag', 'Club Logo', 'Special', 'Body Type', 'International Reputation', 'Skill Moves', 'Real Face', 'Jersey Number'], axis=1, inplace=True)"
   ]
  },
  {
   "cell_type": "markdown",
   "metadata": {
    "pycharm": {
     "name": "#%% md\n"
    }
   },
   "source": [
    "De resterende kolommen na het verwijderen van de overbodige kolommen:"
   ]
  },
  {
   "cell_type": "code",
   "execution_count": null,
   "metadata": {
    "pycharm": {
     "is_executing": false,
     "name": "#%%\n"
    }
   },
   "outputs": [],
   "source": [
    "print('Aantal kolommen in fifa19.csv na het verwijderen van overbodige kolommen: {}'.format(len(fifa_source.columns)))\n",
    "fifa_source.columns"
   ]
  },
  {
   "cell_type": "markdown",
   "metadata": {
    "pycharm": {
     "name": "#%% md\n"
    }
   },
   "source": [
    "De column <b>'Overall'</b> bevat een getal (rating) van een speler. dit geeft weer hoe goed een speler\n",
    "is t.o.v. de andere spelers binnen de dataset. Wij vinden dan ook dat deze column <b>niet</b> NaN mag zijn,\n",
    "het heeft een belangrijke betekenis.\n",
    "* Alle spelers die hier <b>NaN</b> hebben staan, worden uit onze dataset gehaald."
   ]
  },
  {
   "cell_type": "code",
   "execution_count": null,
   "metadata": {
    "pycharm": {
     "is_executing": false,
     "name": "#%%\n"
    }
   },
   "outputs": [],
   "source": [
    "aantal_nan_overall = pd.isnull(fifa_source['Overall']).sum().sum()\n",
    "print('Aantal NaN-waardes column \\'Overall\\': {}'.format(aantal_nan_overall))"
   ]
  },
  {
   "cell_type": "markdown",
   "metadata": {},
   "source": [
    "Onze dataset bevat geen spelers met NaN waardes in  column <b>'Overall'</b>."
   ]
  },
  {
   "cell_type": "markdown",
   "metadata": {
    "pycharm": {
     "name": "#%% md\n"
    }
   },
   "source": [
    "De resterende columns met NaN worden door ons gevult met het getal 0. \n",
    "Dit doen wij om later (mochten die ontstaan door dit) foutmeldingen te voorkomen."
   ]
  },
  {
   "cell_type": "code",
   "execution_count": null,
   "metadata": {
    "pycharm": {
     "is_executing": false,
     "name": "#%%\n"
    }
   },
   "outputs": [],
   "source": [
    "aantal_nan = pd.isnull(fifa_source).sum().sum()\n",
    "print('Huidige aantal NaN-waardes: {}'.format(aantal_nan))"
   ]
  },
  {
   "cell_type": "code",
   "execution_count": null,
   "metadata": {
    "pycharm": {
     "is_executing": false,
     "name": "#%%\n"
    }
   },
   "outputs": [],
   "source": [
    "fifa_source.fillna(0, inplace=True)"
   ]
  },
  {
   "cell_type": "code",
   "execution_count": null,
   "metadata": {
    "pycharm": {
     "is_executing": false,
     "name": "#%%\n"
    }
   },
   "outputs": [],
   "source": [
    "aantal_nan = pd.isnull(fifa_source).sum().sum()\n",
    "print('Aantal NaN-waardes na het replacen met getal 0: {}'.format(aantal_nan))"
   ]
  },
  {
   "cell_type": "markdown",
   "metadata": {
    "pycharm": {
     "name": "#%% md\n"
    }
   },
   "source": [
    "Aantal duplicate spelers binnen onze fifa19.csv dataset:\n",
    "* <b>0 spelers</b>\n",
    "\n",
    "Dit checken wij aan de hand van het unieke ID die iedere speler toegewezen heeft gekregen."
   ]
  },
  {
   "cell_type": "code",
   "execution_count": null,
   "metadata": {
    "pycharm": {
     "is_executing": false,
     "name": "#%% \n"
    }
   },
   "outputs": [],
   "source": [
    "duplicatePlayers = fifa_source[fifa_source.duplicated(['ID'])]\n",
    "print(\"Duplicate players gebaseerd op het unieke ID:\", duplicatePlayers.count().sum())"
   ]
  },
  {
   "cell_type": "markdown",
   "metadata": {
    "pycharm": {
     "name": "#%% md\n"
    }
   },
   "source": [
    "## Data exploration & analysis\n",
    "\n",
    "*Voordat je kan beginnen met het beantwoorden van de onderzoeksvragen, \n",
    "moet je de dataset eerst doorgronden en analyseren. \n",
    "Je moet begrijpen waar je data uit bestaat en hoe je met je data de onderzoeksvragen oplost. \n",
    "Gebruik <b>statistische analyses en visualisaties</b> om inzicht te krijgen in de dataset.* "
   ]
  },
  {
   "cell_type": "markdown",
   "metadata": {
    "pycharm": {
     "name": "#%% md\n"
    }
   },
   "source": [
    "<b>Statische analyse column 'Overall'</b>:"
   ]
  },
  {
   "cell_type": "code",
   "execution_count": null,
   "metadata": {
    "pycharm": {
     "is_executing": false,
     "name": "#%%\n"
    }
   },
   "outputs": [],
   "source": [
    "np.round(fifa_source['Overall'].describe(), decimals=2)"
   ]
  },
  {
   "cell_type": "markdown",
   "metadata": {},
   "source": [
    "<b>Statische analyse column 'Age'</b>:"
   ]
  },
  {
   "cell_type": "code",
   "execution_count": null,
   "metadata": {
    "pycharm": {
     "is_executing": false,
     "name": "#%%\n"
    }
   },
   "outputs": [],
   "source": [
    "np.round(fifa_source['Age'].describe(), decimals=0)"
   ]
  },
  {
   "cell_type": "markdown",
   "metadata": {},
   "source": [
    "<b>Statische analyse column 'Release Clause'</b>:"
   ]
  },
  {
   "cell_type": "code",
   "execution_count": null,
   "metadata": {
    "pycharm": {
     "is_executing": false,
     "name": "#%%\n"
    }
   },
   "outputs": [],
   "source": [
    "fifa_source['Release Clause'].describe()"
   ]
  },
  {
   "cell_type": "markdown",
   "metadata": {
    "pycharm": {
     "name": "#%% md\n"
    }
   },
   "source": [
    "<b>Histogram met Aantal spelers per 'Overall' waarde</b>:"
   ]
  },
  {
   "cell_type": "code",
   "execution_count": null,
   "metadata": {
    "pycharm": {
     "is_executing": false,
     "name": "#%%\n"
    }
   },
   "outputs": [],
   "source": [
    "histogram = plt.hist(fifa_source['Overall'], edgecolor='black', linewidth=1.2)\n",
    "plt.xlabel('Overall')\n",
    "plt.ylabel('Amount')\n",
    "histogram"
   ]
  },
  {
   "cell_type": "markdown",
   "metadata": {
    "pycharm": {
     "name": "#%% md\n"
    }
   },
   "source": [
    "<b>Histogram met Aantal spelers per 'Age' waarde</b>:"
   ]
  },
  {
   "cell_type": "code",
   "execution_count": null,
   "metadata": {
    "pycharm": {
     "is_executing": false,
     "name": "#%%\n"
    }
   },
   "outputs": [],
   "source": [
    "histogram = plt.hist(fifa_source['Age'], edgecolor='black', linewidth=1.2)\n",
    "plt.xlabel('Age')\n",
    "plt.ylabel('Amount')\n",
    "histogram"
   ]
  },
  {
   "cell_type": "markdown",
   "metadata": {
    "pycharm": {
     "name": "#%% md\n"
    }
   },
   "source": [
    "<b>Boxplot met column 'Overall'</b>:"
   ]
  },
  {
   "cell_type": "code",
   "execution_count": null,
   "metadata": {
    "pycharm": {
     "is_executing": false,
     "name": "#%%\n"
    }
   },
   "outputs": [],
   "source": [
    "boxplot = plt.boxplot(fifa_source['Overall'], vert=False)\n",
    "boxplot"
   ]
  },
  {
   "cell_type": "markdown",
   "metadata": {},
   "source": [
    "<b>Scatter plot met column 'Overall' t.o.v. column 'Age'</b>:"
   ]
  },
  {
   "cell_type": "code",
   "execution_count": null,
   "metadata": {
    "pycharm": {
     "is_executing": false,
     "name": "#%%\n"
    }
   },
   "outputs": [],
   "source": [
    "scatter = plt.scatter(fifa_source['Overall'], fifa_source['Age'])\n",
    "plt.xlabel('Overall')\n",
    "plt.ylabel('Age')\n",
    "scatter"
   ]
  },
  {
   "cell_type": "markdown",
   "metadata": {},
   "source": [
    "<b>Scatter plot met column 'Clean Wage' t.o.v. column 'Age'</b>:"
   ]
  },
  {
   "cell_type": "code",
   "execution_count": null,
   "metadata": {
    "pycharm": {
     "is_executing": false,
     "name": "#%%\n"
    }
   },
   "outputs": [],
   "source": [
    "scatter = plt.scatter(fifa_source['Age'], fifa_source['Clean Wage'])\n",
    "plt.xlabel('Age')\n",
    "plt.ylabel('Wage')\n",
    "scatter"
   ]
  },
  {
   "cell_type": "markdown",
   "metadata": {
    "pycharm": {
     "name": "#%% md\n"
    }
   },
   "source": [
    "## Externe dataset\n",
    "\n",
    "Onze gekozen externe CSV-file dataset inladen: <br>\n",
    "- fifa16.csv\n",
    "\n",
    "De dataset bevat: <br>\n",
    "1. Alle spelers uit FIFA 16.\n",
    "2. Speelpositie en fysieke eigenschappen.\n",
    "3. Persoonlijke spelersinformatie (bijv. nationaliteit, club, leeftijd, salaris etc.)."
   ]
  },
  {
   "cell_type": "code",
   "execution_count": null,
   "metadata": {
    "pycharm": {
     "is_executing": false,
     "name": "#%%\n"
    }
   },
   "outputs": [],
   "source": [
    "extern_source = pd.read_csv('source/fifa16.csv')"
   ]
  },
  {
   "cell_type": "markdown",
   "metadata": {
    "pycharm": {
     "is_executing": false,
     "name": "#%% md\n"
    }
   },
   "source": [
    "De grootte van onze externe dataset:\n",
    "- 7.18 MB\n",
    "- Bevat 14881 rijen (dus 14880 spelers, want de eerste rij bevat alle kolommen)"
   ]
  },
  {
   "cell_type": "code",
   "execution_count": null,
   "metadata": {
    "pycharm": {
     "is_executing": false,
     "name": "#%%\n"
    }
   },
   "outputs": [],
   "source": [
    "rows_extern_dataset = extern_source.shape[0] - 1\n",
    "rows_extern_dataset"
   ]
  },
  {
   "cell_type": "markdown",
   "metadata": {},
   "source": [
    "Een aantal rijen als voorbeeld voor hoe de externe dataset eruit ziet:"
   ]
  },
  {
   "cell_type": "code",
   "execution_count": null,
   "metadata": {
    "pycharm": {
     "is_executing": false,
     "name": "#%%\n"
    }
   },
   "outputs": [],
   "source": [
    "extern_source.head(10)"
   ]
  },
  {
   "cell_type": "markdown",
   "metadata": {},
   "source": [
    "<b>Verplichte onderzoeksvragen: </b>\n",
    "   * *In hoeverre is de waarde van een speler te voorspellen aan de hand \n",
    "       van zijn belangrijkste kenmerken?*\n",
    "   "
   ]
  },
  {
   "cell_type": "markdown",
   "metadata": {},
   "source": [
    "<b>Concept-onderzoeksvragen: </b>\n",
    "   - *In hoeverre is de positie van een spelers te voorspellen aan de hand van zijn kenmerken?*\n",
    "   - *In hoeverre is de 'potential' van de destijds jonge talenten in fifa 16 (max 21 jaar oud met een goed potentie) uitgekomen in fifa 19?*"
   ]
  },
  {
   "cell_type": "markdown",
   "metadata": {},
   "source": [
    "<b>Bonus (mocht er tijd over zijn)</b>: In hoeverre is het salaris van een speler te voorspellen aan de hand van zijn kenmerken? (Voorspelling: betere speler is hoger salaris, leeftijd speelt een rol, positie speelt een rol, nationaliteit speelt een rol)"
   ]
  },
  {
   "cell_type": "markdown",
   "metadata": {},
   "source": [
    "# Uitwerking van de onderzoeksvragen\n",
    "*Wij als team hebben ervoor gekozen om ieder onderzoeksvraag in een op zichzelf staand 'hoofdstuk' te behandelen, wij zijn er namelijk van overtuigd dat dit de notebook overzichtelijker maakt.*"
   ]
  },
  {
   "cell_type": "markdown",
   "metadata": {},
   "source": [
    "### *1. \"In hoeverre is de waarde van een speler te voorspellen aan de hand van zijn belangrijkste kenmerken?\"*"
   ]
  },
  {
   "cell_type": "markdown",
   "metadata": {},
   "source": [
    "Het is handig om eerst even de onderzoeksvraag te gaan splitsen:\n",
    "- Wat weergeeft nou eigenlijk de <b>waarde</b> van een speler?\n",
    "- Wat zijn de <b>\"belangrijkste kenmerken\"</b> van een speler?\n",
    "\n",
    "Laten we hiervoor eerst even weer alle kolommen tonen van de FIFA 19 dataset:"
   ]
  },
  {
   "cell_type": "code",
   "execution_count": null,
   "metadata": {},
   "outputs": [],
   "source": [
    "fifa_source.columns"
   ]
  },
  {
   "cell_type": "markdown",
   "metadata": {},
   "source": [
    "Bij <b>waarde</b> zou je kunnen denken aan de kolommen:\n",
    "- 'Clean Value'; de waarde van een speler in euro's.\n",
    "- 'Clean Wage'; de salaris van de desbetreffende speler.\n",
    "- 'Clean Release Clause'; een bedrag binnen het contract van een speler. Stel dat er wordt onderhandeld over een speler tussen 2 teams, en de team waar de speler zich momenteel bevind gaat <b>niet</b> akkoord, dan kan het team die interesse heeft de 'Release Clause' bedrag betalen. Als dit bedrag wordt betaald, <b>moet</b> het huidige team van die desbetreffende speler hem laten gaan. Dit bedrag zit over het algemeen <b>hoger</b> dan de werkelijke waarde van een speler."
   ]
  },
  {
   "cell_type": "code",
   "execution_count": null,
   "metadata": {},
   "outputs": [],
   "source": [
    "# ik gebruik de oorspronkelijke kolom met de juiste characters (bijv. 'M'), dit maakt het makkelijker om te lezen\n",
    "fifa_source['Value']"
   ]
  },
  {
   "cell_type": "code",
   "execution_count": null,
   "metadata": {},
   "outputs": [],
   "source": [
    "# ik gebruik de oorspronkelijke kolom met de juiste characters (bijv. 'M'), dit maakt het makkelijker om te lezen\n",
    "fifa_source['Release Clause'] "
   ]
  },
  {
   "cell_type": "markdown",
   "metadata": {},
   "source": [
    "'Clean Release Clause' willen wij <b>niet</b> gaan gebruiken, aangezien dit niet de werkelijke waarde (in geld) van een speler weergeeft. Zoals je kunt zien is het bedrag hier namelijk een stuk hoger.\n",
    "\n",
    "Dan blijven er dus 2 kolommen over;\n",
    "- 'Clean Value'\n",
    "- 'Clean Wage'\n",
    "\n",
    "*Aangezien 'Clean Value' letterlijk een soort 'totale marktwaarde' van een speler weergeeft, gaan wij voor <b>'Clean Value'</b>.*"
   ]
  },
  {
   "cell_type": "markdown",
   "metadata": {},
   "source": [
    "Bij <b>belangrijkste kenmerken</b> kan je denken aan vrijwel alle kenmerken van de speler, zoals:\n",
    "- Weak Foot, Balance, ShotPower, Stamina, SprintSpeed, LM, CM\n",
    "- etc...\n",
    "\n",
    "Echter is er ook een kolom 'Overall':\n",
    "- een getal (rating) van een speler. Dit geeft weer hoe goed een speler is t.o.v. de andere spelers binnen de dataset.<br>*(een soort 'gemiddelde' van de belangrijkste factoren/kenmerken van een speler)*\n",
    "\n",
    "*Aangezien 'Overall' letterlijk een soort 'gemiddelde' is van alle kenmerken, gaan wij voor <b>'Overall'</b>.*"
   ]
  },
  {
   "cell_type": "markdown",
   "metadata": {},
   "source": [
    "Er zijn spelers die als 'Clean Value' de waarde <b>0</b> hebben, deze spelers willen wij niet gaan gebruiken:"
   ]
  },
  {
   "cell_type": "code",
   "execution_count": null,
   "metadata": {},
   "outputs": [],
   "source": [
    "value_filter = fifa_source['Clean Value'] != 0\n",
    "\n",
    "fifa_source = fifa_source[value_filter]"
   ]
  },
  {
   "cell_type": "markdown",
   "metadata": {},
   "source": [
    "Wij gaan namelijk de 'Clean Value' van de spelers iets aanpassen;\n",
    "- in de scatterplot zien wij namelijk een <b>exponentiële groei</b>\n",
    "- om het visualiseren wat duidelijker te maken, voeren we een <b>log</b> hierop uit, je wilt geen log op getal 0 uitvoeren\n",
    "- bij het predicten van een nieuwe 'Clean Value' krijg je een log versie van dit getal terug, die gaan wij dan weer omzetten naar de behorende grootte om vervolgens zo te kunnen zien wat er gepredict is"
   ]
  },
  {
   "cell_type": "code",
   "execution_count": null,
   "metadata": {},
   "outputs": [],
   "source": [
    "fifa_source['Clean Value Log'] = np.log(fifa_source['Clean Value'])"
   ]
  },
  {
   "cell_type": "code",
   "execution_count": null,
   "metadata": {
    "scrolled": false
   },
   "outputs": [],
   "source": [
    "scatter = hv.Scatter((fifa_source['Overall'], fifa_source['Clean Value Log']))\n",
    "scatter.opts(title=\"'Overall' t.o.v. 'Value' (in euro's)\", xlabel= 'Overall', ylabel='Value',\n",
    "             bgcolor='lightgray', width=500, height=475)\n",
    "\n",
    "scatter"
   ]
  },
  {
   "cell_type": "markdown",
   "metadata": {},
   "source": [
    "Je ziet in deze *interactieve* Scatter Plot een duidelijk <b>positief correlatie</b> tussen de kolommen 'Value' en 'Overall'<br>(wat overigens ook wel te verwachten valt: *hoe hoger je overall, hoe meer je waard bent*).\n",
    "\n",
    "- Hieruit concluderen wij dus een hoog voorspellingskracht."
   ]
  },
  {
   "cell_type": "markdown",
   "metadata": {},
   "source": [
    "Voor het voorspellen gaan wij dan ook gebruik maken van <b>Supervised Learning</b>;\n",
    "- <b>Regression (lineare regressie)</b>, we gaan hier namelijk een *continue waarde* proberen te voorspellen"
   ]
  },
  {
   "cell_type": "code",
   "execution_count": null,
   "metadata": {},
   "outputs": [],
   "source": [
    "linreg = LinearRegression()"
   ]
  },
  {
   "cell_type": "markdown",
   "metadata": {},
   "source": [
    "Organiseren van de data: <b>features (eigenschappen)</b> en <b>target (resultaat)</b>:"
   ]
  },
  {
   "cell_type": "code",
   "execution_count": null,
   "metadata": {},
   "outputs": [],
   "source": [
    "features = fifa_source[['Overall']]\n",
    "target = fifa_source[['Clean Value Log']]"
   ]
  },
  {
   "cell_type": "markdown",
   "metadata": {},
   "source": [
    "Het creëren van een <b>training- en validatieset</b>:"
   ]
  },
  {
   "cell_type": "code",
   "execution_count": null,
   "metadata": {},
   "outputs": [],
   "source": [
    "features_train, features_test, target_train, target_test = train_test_split(features, target)"
   ]
  },
  {
   "cell_type": "markdown",
   "metadata": {},
   "source": [
    "- 75% van de FIFA 19 dataset wordt gebruikt als <b>trainingset</b>.\n",
    "- 25% van de FIFA 19 dataset wordt gebruikt als <b>testset</b>."
   ]
  },
  {
   "cell_type": "code",
   "execution_count": null,
   "metadata": {},
   "outputs": [],
   "source": [
    "trainingset = np.round(features_train.shape[0] / fifa_source.shape[0] * 100, decimals=0)\n",
    "testset = np.round(features_test.shape[0] / fifa_source.shape[0] * 100, decimals=0)\n",
    "print('Trainigset: {}% van de hele FIFA 19 dataset\\nTestset: {}% van de hele FIFA 19 dataset'.format(trainingset, testset))"
   ]
  },
  {
   "cell_type": "markdown",
   "metadata": {},
   "source": [
    "Het starten van 't <b>leerproces</b>:"
   ]
  },
  {
   "cell_type": "code",
   "execution_count": null,
   "metadata": {},
   "outputs": [],
   "source": [
    "linreg.fit(features_train, target_train)"
   ]
  },
  {
   "cell_type": "markdown",
   "metadata": {},
   "source": [
    "Een voorbeeld van een <b>predict</b>:"
   ]
  },
  {
   "cell_type": "code",
   "execution_count": null,
   "metadata": {},
   "outputs": [],
   "source": [
    "messi_value_log = fifa_source['Clean Value Log'][0] # Messi is 94 Overall\n",
    "predicted_value_log = linreg.predict([[94]]) ## Predicten met 94 Overall\n",
    "\n",
    "messi_value = np.exp(messi_value_log)\n",
    "predicted_value = np.exp(predicted_value_log[0][0])\n",
    "\n",
    "print('Messi\\'s value in log formaat: {}'.format(\"{:e}\".format(messi_value_log)))\n",
    "print('Predicted value in log formaat: {}\\n'.format(\"{:e}\".format(predicted_value_log[0][0])))\n",
    "\n",
    "print('Messi\\'s value: {}'.format(\"{:e}\".format(messi_value)))\n",
    "print('Predicted value: {}'.format(\"{:e}\".format(predicted_value)))"
   ]
  },
  {
   "cell_type": "markdown",
   "metadata": {},
   "source": [
    "Het model is nu getraint, wat we nu willen doen is het <b>valideren</b> van het model:\n",
    "- hierbij gebruiken wij <b>Root Mean Squared Error</b> (RMSE)\n",
    "- dit getal wil je zo laag mogelijk hebben t.o.v. de target, in dit geval dus <b>'Clean Value Log'</b>"
   ]
  },
  {
   "cell_type": "code",
   "execution_count": null,
   "metadata": {},
   "outputs": [],
   "source": [
    "target_predict = linreg.predict(features_test)"
   ]
  },
  {
   "cell_type": "code",
   "execution_count": null,
   "metadata": {},
   "outputs": [],
   "source": [
    "rmse = np.sqrt(metrics.mean_squared_error(target_test, target_predict))\n",
    "\n",
    "rmse"
   ]
  },
  {
   "cell_type": "markdown",
   "metadata": {},
   "source": [
    "Misschien kunnen we ook gebruik maken van een extra kolom om onze <b>RMSE</b> lager te krijgen;\n",
    "- laten we de kolom <b>'Age'</b> proberen\n",
    "- we volgen gewoon dezelfde stappen als hierboven, maar dan dus met een extra waarde"
   ]
  },
  {
   "cell_type": "code",
   "execution_count": null,
   "metadata": {},
   "outputs": [],
   "source": [
    "features = fifa_source[['Overall', 'Age']]\n",
    "target = fifa_source[['Clean Value Log']]\n",
    "\n",
    "features_train, features_test, target_train, target_test = train_test_split(features, target)\n",
    "\n",
    "linreg.fit(features_train, target_train)\n",
    "\n",
    "target_predict = linreg.predict(features_test)\n",
    "\n",
    "rmse = np.sqrt(metrics.mean_squared_error(target_test, target_predict))\n",
    "\n",
    "rmse"
   ]
  },
  {
   "cell_type": "markdown",
   "metadata": {},
   "source": [
    "Zoals je kunt zien is de RMSE met bijna de helft <b>verlaagd</b>!\n",
    "- Hierbij wil ik het laten; als er namelijk meer kolommen worden toegevoegd, dan stijgt de RMSE (dit willen we natuurlijk niet)"
   ]
  },
  {
   "cell_type": "markdown",
   "metadata": {},
   "source": [
    "<b>Conclusie</b>: \n",
    "- *'In hoeverre is de waarde van een speler te voorspellen aan de hand van zijn belangrijkste kenmerken?'*\n",
    "- Het is natuurlijk lastig om te bepalen wat nou precies de *belangrijke* kenmerken van een speler zijn, maar doordat de kolom 'Overall' al een soort 'gemiddelde' van de belangrijke kenmerken is, is het gebruik van deze kolom een uitstekende keuze. Vooral in combinatie van de kolom 'Age', aangezien een leeftijd ook behoorlijk wat invloed heeft op de value van een speler. Als je als jonge speler een hoge Overall hebt, dan is het natuurlijk vanzelfsprekend dat hier een vrij hoge value aan gekoppeld gaat worden.\n",
    "- Als je gaat kijken naar hoe laag de RMSE is t.o.v. de grootte van de 'log' versie van 'Value', dan is het een prima RMSE!"
   ]
  },
  {
   "cell_type": "markdown",
   "metadata": {},
   "source": [
    "### *2. \"In hoeverre is de positie van een spelers te voorspellen aan de hand van zijn kenmerken?\"*"
   ]
  },
  {
   "cell_type": "markdown",
   "metadata": {},
   "source": [
    "Om dit te kunnen voorspellen moet eerst het volgende bepaald worden:\n",
    "- Aan de hand van welke gegevens gaan we de positie voorspellen?\n",
    "- Welke posities zijn mogelijk in de dataset?\n",
    "\n",
    "Voor de uitvoering van deze vraag gaat er een unsupervised machine learning techniek gebruikt worden. Namelijk de Gaussian Mixture Model. Dit betekend dat de dataset ook aangepast moet worden, deze bevat al per speler data over op welke positie hij normaliter speelt en ratings voor de verschillende posities in het spel. Dus maken wij een aparte dataset met de volgende gegevens:\n",
    "\n",
    "'HeadingAccuracy', 'ShortPassing', 'Volleys', 'Dribbling', 'Curve', 'FKAccuracy', 'LongPassing', 'BallControl', 'Acceleration', 'SprintSpeed', 'Agility', 'Reactions', 'Balance', 'ShotPower', 'Jumping', 'Stamina', 'Strength', 'LongShots', 'Aggression', 'Interceptions', 'Positioning', 'Vision', 'Penalties', 'Composure', 'Marking', 'StandingTackle', 'SlidingTackle', 'GKDiving', 'GKHandling', 'GKKicking', 'GKPositioning', 'GKReflexes'\n",
    "\n",
    "Deze gegevens zijn het meest kenmerkend voor de kwaliteiten van een speler en op welke positie hij het beste zou kunnen bespelen, zonder een directe link aan een positie te hebben."
   ]
  },
  {
   "cell_type": "code",
   "execution_count": null,
   "metadata": {},
   "outputs": [],
   "source": [
    "ds_vraag2 = pd.DataFrame(fifa_source[{'HeadingAccuracy', 'ShortPassing', 'Volleys', 'Dribbling', 'Curve', 'FKAccuracy', 'LongPassing', 'BallControl', 'Acceleration', 'SprintSpeed', 'Agility', 'Reactions', 'Balance', 'ShotPower', 'Jumping', 'Stamina', 'Strength', 'LongShots', 'Aggression', 'Interceptions', 'Positioning', 'Vision', 'Penalties', 'Composure', 'Marking', 'StandingTackle', 'SlidingTackle', 'GKDiving', 'GKHandling', 'GKKicking', 'GKPositioning', 'GKReflexes'}]\n",
    ")\n",
    "ds_vraag2"
   ]
  },
  {
   "cell_type": "markdown",
   "metadata": {},
   "source": [
    "De mogelijke posities zijn in de dataset duidelijk weergegeven. Elke veldspeler heeft een waarde voor hoe goed ze functioneren op de volgende posities:\n",
    "- LS, ST, RS, LW, LF, CF, RF, RW, LAM, CAM, RAM, LM, LCM, CM, RCM, RM, LWB, LDM, CDM, RDM, RWB, LB, LCB, CB, RCB, RB\n",
    "\n",
    "Door een set spelers en hun waarden bij de posities te tonen valt meteen iets op, doelmannen hebben standaard een 0 voor elke veldpositie. Daarnaast ontbreekt in de dataset een kolom voor de positie van doelman, GK. Zoals in onderstaande tabel te zien."
   ]
  },
  {
   "cell_type": "code",
   "execution_count": null,
   "metadata": {},
   "outputs": [],
   "source": [
    "fifa_source.head(10)[{'Name', 'LS', 'ST', 'RS', 'LW', 'LF', 'CF', 'RF', 'RW', 'LAM', 'CAM', 'RAM', 'LM', 'LCM', 'CM', 'RCM', 'RM', 'LWB', 'LDM', 'CDM', 'RDM', 'RWB', 'LB', 'LCB', 'CB', 'RCB', 'RB'}]"
   ]
  },
  {
   "cell_type": "markdown",
   "metadata": {},
   "source": [
    "Aangezien veel van deze posities vrij sterk overeenkomen. Bijvoorbeeld LCM, CM en RCM zijn allemaal centrale middenvelders en vrijwel dezelfde positie. Voor dit onderzoek gaan we uit van vier groepen, Aanvallers, Middenvelders, Verdedigers en Doelmannen."
   ]
  },
  {
   "cell_type": "code",
   "execution_count": null,
   "metadata": {},
   "outputs": [],
   "source": [
    "gmm = GaussianMixture(n_components=4, covariance_type='full', n_init=5, random_state=0).fit(ds_vraag2)\n",
    "gmm"
   ]
  },
  {
   "cell_type": "markdown",
   "metadata": {},
   "source": [
    "Om de namen en posities van spelers mee te kunnen nemen in de uiteindelijke tabel nemen we die over uit de fifa_source document. Aangezien enkele spelers uit dit document gehaald zijn i.v.m. NaN waarden moeten de index nummers nog aangepast worden om weer te kloppen.Zoals onder te zien is was in de oude rij 538 leeg en in de nieuwe dataset is het gecorrigeerd."
   ]
  },
  {
   "cell_type": "code",
   "execution_count": null,
   "metadata": {},
   "outputs": [],
   "source": [
    "fifa_source_reset_index = fifa_source.reset_index()\n",
    "fifa_source_reset_index[435:440]"
   ]
  },
  {
   "cell_type": "markdown",
   "metadata": {},
   "source": [
    "Door het toevoegen van de Naam en Positie kolommen kan in onderstaand tabel makkelijk de uitslag van de gmm met de werkelijkheid vergeleken worden."
   ]
  },
  {
   "cell_type": "code",
   "execution_count": null,
   "metadata": {},
   "outputs": [],
   "source": [
    "test = gmm.predict_proba(ds_vraag2).round(3)\n",
    "gmmresult = pd.DataFrame(test)\n",
    "gmmresult['Naam'] = fifa_source_reset_index['Name']\n",
    "gmmresult['Positie'] = fifa_source_reset_index['Position']\n",
    "gmmresult['Aanvallers'] = gmmresult[0]\n",
    "gmmresult['Middenvelders'] = gmmresult[2]\n",
    "gmmresult['Verdedigers'] = gmmresult[3]\n",
    "gmmresult['Doelmannen'] = gmmresult[1]\n",
    "gmmresult = gmmresult.drop([0, 1, 2, 3], axis=1)\n",
    "gmmresult[0:50]"
   ]
  },
  {
   "cell_type": "markdown",
   "metadata": {},
   "source": [
    "En het resultaat voldoet grotendeels aan de verwachtingen, maar is soms opvallend. Veel spelers zijn duidelijk herkenbaar. De doelmannen zijn op het eerste oog 100% eruit gehaald. Veel Aanvallers zijn ook goed herkend. Enkele verdedigers zoals Alba (49), Thiago Silva (39) en Marcelo (35) zijn als middenvelders geïdentificeerd. Waar Alba en Marcelo vleugelverdedigers zijn die in het echt ook heel de flank bestrijken en bekend staan om hun aanvallende kwaliteiten, is Silva op het eerste oog een vreemde uitschieter. \n",
    "\n",
    "Een ander voorbeeld is P. Aubameyang, in het spel LM (linker middenvelder), door de gmm geïdentificeerd als Aanvaller, en in het echt is het ook een aanvaller die zowel in de Duitse Bundesliga als de Engelse Premier League meedeed en doet om de topscorerstitel. De resultaten van de gmm lijken in dit geval meer te stroken met de werkelijkheid. \n",
    "\n",
    "Uiteindelijk zijn dit ook de beperkingen van het kiezen van 4 componenten in de gmm. Er zijn aanvallende middenvelders, verdedigende middenvelders en middenvelders die een beetje van beiden doen. Centrumverdedigers zijn vooral verdedigend goed terwijl van vleugelverdedigers ook aanvallende bijdrages wordt verwacht. "
   ]
  },
  {
   "cell_type": "code",
   "execution_count": null,
   "metadata": {},
   "outputs": [],
   "source": [
    "import matplotlib.pyplot as plt\n",
    "from ipywidgets import widgets, interactive\n",
    "\n",
    "kenmerk1 = widgets.Dropdown(\n",
    "    options=[\"HeadingAccuracy\", \"ShortPassing\", \"Volleys\", \"Dribbling\", \"Curve\", \"FKAccuracy\", \"LongPassing\", \"BallControl\", \"Acceleration\", \"SprintSpeed\", \"Agility\", \"Reactions\", \"Balance\", \"ShotPower\", \"Jumping\", \"Stamina\", \"Strength\", \"LongShots\", \"Aggression\", \"Interceptions\", \"Positioning\", \"Vision\", \"Penalties\", \"Composure\", \"Marking\", \"StandingTackle\", \"SlidingTackle\", \"GKDiving\", \"GKHandling\", \"GKKicking\", \"GKPositioning\", \"GKReflexes\"],\n",
    "    value=\"ShortPassing\",\n",
    "    description='Kenmerk 1:',\n",
    "    disabled=False,\n",
    ")\n",
    "kenmerk2 = widgets.Dropdown(\n",
    "    options=[\"HeadingAccuracy\", \"ShortPassing\", \"Volleys\", \"Dribbling\", \"Curve\", \"FKAccuracy\", \"LongPassing\", \"BallControl\", \"Acceleration\", \"SprintSpeed\", \"Agility\", \"Reactions\", \"Balance\", \"ShotPower\", \"Jumping\", \"Stamina\", \"Strength\", \"LongShots\", \"Aggression\", \"Interceptions\", \"Positioning\", \"Vision\", \"Penalties\", \"Composure\", \"Marking\", \"StandingTackle\", \"SlidingTackle\", \"GKDiving\", \"GKHandling\", \"GKKicking\", \"GKPositioning\", \"GKReflexes\"],\n",
    "    value=\"Dribbling\",\n",
    "    description='Kenmerk 2:',\n",
    "    disabled=False,\n",
    ")\n",
    "\n",
    "def plotit(kenmerk1, kenmerk2):\n",
    "    size = 5 * test.max(1) ** 2\n",
    "    labels = gmm.predict(ds_vraag2)\n",
    "#     plt.figure(figsize=(12,6), dpi=80)\n",
    "#     plt.xlabel(kenmerk1)\n",
    "#     plt.ylabel(kenmerk2)\n",
    "#     plt.scatter(ds_vraag2[kenmerk1], ds_vraag2[kenmerk2], c=labels, s=size, )\n",
    "#     plt.title('Interactief scatterplot')\n",
    "    x = ds_vraag2[kenmerk1]\n",
    "    y = ds_vraag2[kenmerk2]\n",
    "    c = labels\n",
    "    s = size\n",
    "\n",
    "    fig, ax = plt.subplots(figsize=(10,10))\n",
    "\n",
    "    scatter = ax.scatter(x, y, c=c, s=s)\n",
    "    classes = ['Aanvallers', 'Doelmannen', 'Middenvelders', 'Verdedigers']\n",
    "    legend1 = ax.legend(handles=scatter.legend_elements()[0],\n",
    "                    loc=\"upper left\", bbox_to_anchor=(1,1), title=\"Posities\", labels=classes)\n",
    "    ax.set_xlabel(kenmerk1)\n",
    "    ax.set_ylabel(kenmerk2)\n",
    "    ax.add_artist(legend1)\n"
   ]
  },
  {
   "cell_type": "code",
   "execution_count": null,
   "metadata": {},
   "outputs": [],
   "source": [
    "interactive(plotit, kenmerk1=kenmerk1, kenmerk2=kenmerk2)"
   ]
  },
  {
   "cell_type": "code",
   "execution_count": null,
   "metadata": {},
   "outputs": [],
   "source": [
    "first_4000_gmmresult = gmmresult.loc[:10000]\n",
    "aanvallers = first_4000_gmmresult['Positie'].isin(['LS', 'ST', 'RS', 'LW', 'LF', 'CF', 'RF', 'RW'])\n",
    "middenvelders = first_4000_gmmresult['Positie'].isin(['LAM', 'CAM', 'RAM', 'LM', 'LCM', 'CM', 'RCM', 'RM', 'LWB', 'LDM', 'CDM', 'RDM', 'RWB'])\n",
    "verdedigers = first_4000_gmmresult['Positie'].isin(['LB', 'LCB', 'CB', 'RCB', 'RB'])\n",
    "doelmannen = first_4000_gmmresult['Positie'].isin(['GK'])\n",
    "aan_mean = first_4000_gmmresult[aanvallers]['Aanvallers'].mean()\n",
    "mid_mean = first_4000_gmmresult[middenvelders]['Middenvelders'].mean()\n",
    "ver_mean = first_4000_gmmresult[verdedigers]['Verdedigers'].mean()\n",
    "doel_mean = first_4000_gmmresult[doelmannen]['Doelmannen'].mean()\n",
    "print(\"Aan de hand van de resultaten van de eerste 10000* voetballers gaan we berekenen of de gmm in de buurt komt van de werkelijkheid. Dit doen we in de volgende stappen.\\n- Verdeel de mogelijke posities in het spel in groepen genaamd aanvallers, verdedigers, middenvelders en doelmannen.\\n- Selecteer aan de hand van deze groepen de spelers die binnen deze groepen vallen. Hiermee creëer je vier datasets.\\n- Bereken de gemiddelde waarde die geschat is per groep. Dus het gemiddelde van de kolom Aanvallers voor de groep aanvallers, enzovoort.\\n- Hoe dichter bij de 1, hoe beter de voorspelling.\\n\")\n",
    "print(\"Aanvallers = {}\".format(aan_mean))\n",
    "print(\"Middenvelders = {}\".format(mid_mean))\n",
    "print(\"Verdedigers = {}\".format(ver_mean))\n",
    "print(\"Doelmannen = {}\\n\".format(doel_mean))\n",
    "\n",
    "mid_afwijkend_mean = first_4000_gmmresult[middenvelders]['Aanvallers'].mean()\n",
    "ver_afwijkend_mean = first_4000_gmmresult[verdedigers]['Middenvelders'].mean()\n",
    "\n",
    "print(\"Zoals eerder al opgemerkt, Aanvallers en Doelmannen worden erg goed voorspelt, Middenvelders en Verdedigers een stuk minder. Klopt het dat de middenvelders als aanvallers worden gezien en verdedigers als middenvelders?\\n\")\n",
    "print(\"Middenvelders als aanvallers = {}\".format(mid_afwijkend_mean))\n",
    "print(\"Verdedigers als middenvelders = {}\\n\".format(ver_afwijkend_mean))\n",
    "\n",
    "print(\"Als het totaal van deze waarden dicht bij 1 liggen is dit een juiste conclusie\\n\")\n",
    "print(\"Totaal van normale en aanvallende middenvelders = {}\".format(mid_afwijkend_mean+mid_mean))\n",
    "print(\"Totaal van normale en middenvelder verdedigers = {}\\n\".format(ver_afwijkend_mean+ver_mean))\n",
    "\n"
   ]
  },
  {
   "cell_type": "markdown",
   "metadata": {},
   "source": [
    "# Conclusie\n",
    "\n",
    "- _In hoeverre is de positie van een spelers te voorspellen aan de hand van zijn kenmerken?_\n",
    "\n",
    "De posities zijn goed te voorspellen aan de hand van de kenmerken van een speler. Vooral de aanvallers en doelmannen werden er goed uit gehaald. Dat is misschien ook wel logisch, dit zijn in principe de extremen op het veld. Doelmannen hebben een totaal andere set van vaardigheden en dit is in de dataset ook vertegenwoordigd met speciale kenmerken voor doelmannen. De meeste aanvallers zijn in het voetbal ook puur aanvallers en doen weinig verdedigende taken, het is te verwachten dat ze op aanvallende kenmerken hoog scoren en op verdedigende laag. \n",
    "\n",
    "Pas bij middenvelders en verdedigers komt er een uitdaging. Sommige middenvelders zijn zeer aanvallen ingesteld, zoals De Bruyne en Hazard, anderen zijn zeer verdedigend, bijvoorbeeld Kanté. Dit kan je ook terugzien in de resultaten, de aanvallend ingestelde spelers worden (deels) gezien als aanvallers. Bij verdedigers zie je dit vooral bij de backs. Niet verrassend, in veel teams wordt verwacht dat zij naast hun verdedigende taken ook aanvallend meedoen en opkomen over de vleugel. Het valt te verwachten dat deze spelers ook aanvallende kwaliteiten hebben.\n",
    "\n",
    "Ook is er een verschil in de voorspelbaarheid tussen spelers op het hoogste niveau en lagere niveaus. Bij de spelers op laag niveau gaat het toch net iets moeilijker met de middenvelders en verdedigers. Waarschijnlijk omdat deze spelers in het algemeen al veel lagere waarden hebben voor hun kenmerken en de verschillen dus minder duidelijk zijn. Daarnaast zullen ze ook vaker niet goed zijn op een kenmerk waar je wel zou verwachten dat een speler op die positie goed in zou zijn. Vandaar dat ze ook op lager niveau spelen.\n",
    "\n",
    "Een mogelijkheid om te resultaten nog verder te verbeter zou zijn om op meer clusters te zoeken. Aanvallers, Aanvallende middenvelders, Verdedigende Middenvelders, Vleugelverdedigers, Centrale verdedigers en doelmannen lijken op basis van de resultaten de categoriën om te verwachten en dus 6 clusters zou kunnen werken."
   ]
  },
  {
   "cell_type": "markdown",
   "metadata": {},
   "source": [
    "### *3. \"In hoeverre is de 'potential' van de destijds jonge talenten in fifa 16 (max 21 jaar oud met een goed potentie) uitgekomen in fifa 19?\"*"
   ]
  },
  {
   "cell_type": "markdown",
   "metadata": {},
   "source": [
    "Voor het beantwoorden van deze onderzoeksvraag gaan wij gebruik maken van voornamelijk 4 kolommen:\n",
    "- 'Age'\n",
    "- 'Potential' (FIFA16)\n",
    "- 'Overall' (FIFA16)\n",
    "- 'Overall' (FIFA19)\n",
    "\n",
    "Om de 'Potential' en 'Overall' van de twee verschillende datasets met elkaar te kunnen vergelijken, moeten we een aantal kleine aanpassingen gaan maken in onze FIFA19 dataset;\n",
    "- de kolomnamen worden aangepast (dit wordt gedaan zodat we die kunnen mergen in een nieuwe dataset met alle spelers onder de 21 jaar)\n",
    "- vervolgens mergen we de twee datasets op id (FIFA16 = <b>'sofifa_id'</b>, FIFA19 = <b>'ID'</b>)"
   ]
  },
  {
   "cell_type": "code",
   "execution_count": null,
   "metadata": {
    "scrolled": true
   },
   "outputs": [],
   "source": [
    "fifa_source = fifa_source.rename(columns={'Age': \"age19\", \"Overall\": \"overall19\", \"Potential\": \"potential19\"})\n",
    "\n",
    "df = pd.merge(extern_source, fifa_source[['ID', 'age19', 'overall19', 'potential19']], how='left', left_on='sofifa_id', right_on='ID')"
   ]
  },
  {
   "cell_type": "markdown",
   "metadata": {},
   "source": [
    "Wat we eerst willen doen is;\n",
    "- de externe FIFA16 dataset filteren, zodanig dat alle jonge talenten <b>(onder de 21 jaar)</b> over blijven"
   ]
  },
  {
   "cell_type": "code",
   "execution_count": null,
   "metadata": {},
   "outputs": [],
   "source": [
    "df = df.loc[df['age'] <= 21]"
   ]
  },
  {
   "cell_type": "markdown",
   "metadata": {},
   "source": [
    "Het is natuurlijk logisch dat er speler zijn die wel in de FIFA16 dataset zaten, maar niet meer in de FIFA19 dataset.\n",
    "- we checken op de kolom <b>'age19'</b>, dit zou de age van deze speler moeten zijn in de FIFA19 dataset\n",
    "- als deze kolom in de rij van de desbetreffende speler <b>geen</b> waarde bevat, dan is de speler dus uit het spel gehaald"
   ]
  },
  {
   "cell_type": "code",
   "execution_count": null,
   "metadata": {},
   "outputs": [],
   "source": [
    "total_players = df.shape[0]\n",
    "removed_players = pd.isnull(df['age19']).sum().sum()\n",
    "\n",
    "print(\"Er zijn in totaal {} spelers, hiervan zijn er {} spelers die uit het spel zijn gehaald.\".format(total_players, removed_players))"
   ]
  },
  {
   "cell_type": "markdown",
   "metadata": {},
   "source": [
    "Deze 'verdwenen' spelers willen wij niet gaan gebruiken bij het beantwoorden van de onderzoeksvraag, aangezien de spelers n.v.t. zijn:"
   ]
  },
  {
   "cell_type": "code",
   "execution_count": null,
   "metadata": {},
   "outputs": [],
   "source": [
    "df = df[df['age19'].notna()]\n",
    "\n",
    "print(\"Resterende spelers na verwijderen van 'verdewenen' spelers: {}\".format(df.shape[0]))"
   ]
  },
  {
   "cell_type": "markdown",
   "metadata": {},
   "source": [
    "Nu moeten wij onszelf de volgende vraag stellen;\n",
    "- wat is nou een <b>goede potentie?</b>\n",
    "\n",
    "Voor een goede potentie kiezen wij de 'Overall' van de <b>top 5% van alle spelers uit de FIFA16 dataset</b>. Hiervoor gaan we gebruik maken van de standaarddeviatie:"
   ]
  },
  {
   "cell_type": "code",
   "execution_count": null,
   "metadata": {},
   "outputs": [],
   "source": [
    "mu = extern_source['overall'].mean()\n",
    "sigma = extern_source['overall'].std()\n",
    "\n",
    "top5 = mu + 1.64*sigma\n",
    "\n",
    "print(\"De standaarddeviatie (afgerond): {}\".format(np.round(top5)))"
   ]
  },
  {
   "cell_type": "markdown",
   "metadata": {},
   "source": [
    "Het blijkt dat de top 5% beste spelers uit FIFA16 <b>boven de 77.29</b> 'Overall' score zit. Deze waarde gaan wij dan ook als datapunt gebruiken:\n",
    "- wij willen zien of de spelers boven dit punt uit zijn gekomen"
   ]
  },
  {
   "cell_type": "code",
   "execution_count": null,
   "metadata": {},
   "outputs": [],
   "source": [
    "overallverdeling = stats.norm(loc=mu,scale=sigma)\n",
    "\n",
    "x = np.linspace(mu-3*sigma, mu+3*sigma, 100)\n",
    "y = overallverdeling.pdf(x)\n",
    "\n",
    "plt.figure(figsize=(12,6), dpi=80)\n",
    "\n",
    "plt.plot(x,y)\n",
    "\n",
    "plt.xticks(np.linspace(mu-3*sigma,mu+3*sigma,7))\n",
    "plt.xlabel(\"Overall\")\n",
    "plt.axvline(top5, c='r', label=\"top 5 %\")\n",
    "\n",
    "plt.legend()\n",
    "\n",
    "plt.show()"
   ]
  },
  {
   "cell_type": "markdown",
   "metadata": {},
   "source": [
    "Daarnet hebben wij alle spelers uit de FIFA16 dataset *onder* de 21 jaar gefilterd uit de dataset. Wat we nu gaan doen is uit al deze 21-jarige spelers alleen de spelers die *boven* de 77.29 zijn gekomen eruit filteren."
   ]
  },
  {
   "cell_type": "code",
   "execution_count": null,
   "metadata": {
    "scrolled": true
   },
   "outputs": [],
   "source": [
    "df = df.loc[df['potential'] >= top5]"
   ]
  },
  {
   "cell_type": "code",
   "execution_count": null,
   "metadata": {},
   "outputs": [],
   "source": [
    "plt.scatter(df['age'], df['potential'], label='Potential 16', alpha=.1)\n",
    "plt.scatter(df['age'], df['overall'], label='Overall 16', alpha=.1)\n",
    "plt.scatter(df['age19'], df['overall19'], label='Overall 19', alpha=.1)\n",
    "\n",
    "lgt = plt.legend(loc='best', fontsize=16)\n",
    "for lh in lgt.legendHandles:\n",
    "    lh.set_alpha(1)\n",
    "plt.xlabel('Age')\n",
    "plt.ylabel('Overall')"
   ]
  },
  {
   "cell_type": "markdown",
   "metadata": {},
   "source": [
    "Er zijn 40 spelers waarvan de 'Overall' in FIFA19 <b>groter of gelijk (>=)</b> is dan de 'Potential' die ze hadden in FIFA16:\n",
    "- Frenkie de Jong zit ook in 't lijstje, wat natuurlijk logisch is (van Willem II naar FC Barcelona)"
   ]
  },
  {
   "cell_type": "code",
   "execution_count": null,
   "metadata": {},
   "outputs": [],
   "source": [
    "df.loc[df['overall19'] >= df['potential']]"
   ]
  },
  {
   "cell_type": "markdown",
   "metadata": {},
   "source": [
    "<b>Conclusie</b>: \n",
    "- *'In hoeverre is de 'potential' van de destijds jonge talenten in fifa 16 (max 21 jaar oud met een goed potentie) uitgekomen in fifa 19?'*\n",
    "- Je ziet in de scatterplot dat de 'Overall' van deze talenten in FIFA19 een heel stuk lager zitten t.o.v. de 'Potential' die ze hadden in FIFA16.\n",
    "- Onze conclusie is dat van de getalenteerde spelers uit FIFA16 de meeste nog niet hun potentie bereikt hebben.\n",
    "- De potentie had echter ook al bereikt kunnen zijn, maar aangezien er 3 jaar tussen de twee verschillende spellen zitten, kan de potentie weer gedaald zijn."
   ]
  }
 ],
 "metadata": {
  "kernelspec": {
   "display_name": "Python 3",
   "language": "python",
   "name": "python3"
  },
  "language_info": {
   "codemirror_mode": {
    "name": "ipython",
    "version": 3
   },
   "file_extension": ".py",
   "mimetype": "text/x-python",
   "name": "python",
   "nbconvert_exporter": "python",
   "pygments_lexer": "ipython3",
   "version": "3.7.4"
  },
  "pycharm": {
   "stem_cell": {
    "cell_type": "raw",
    "metadata": {
     "collapsed": false
    },
    "source": []
   }
  }
 },
 "nbformat": 4,
 "nbformat_minor": 1
}
